{
 "cells": [
  {
   "cell_type": "code",
   "execution_count": 6,
   "id": "ee45914c",
   "metadata": {},
   "outputs": [],
   "source": [
    "from typing import Optional, List, Dict\n",
    "import os"
   ]
  },
  {
   "cell_type": "code",
   "execution_count": 13,
   "id": "80be0f8f",
   "metadata": {},
   "outputs": [],
   "source": [
    "config = {\n",
    "    'inputdir': '/eos/atlas/atlascerngroupdisk/phys-hdbs/diHiggs/combination/FullRun2Workspaces/original/20220204_HEFT',\n",
    "    # change your output directory here\n",
    "    'outdir': os.getcwd(),    \n",
    "    'parameters':['cgghh', 'ctthh'],\n",
    "    'channels': ['bbyy', 'bbtautau'],\n",
    "    'resonant_type': 'nonres',\n",
    "    'file_expr': {\n",
    "        'cgghh': '0_cgghh_<cgghh[p]>',\n",
    "        'ctthh': '0_ctthh_<ctthh[p]>'\n",
    "    },\n",
    "    'correlation_scheme': 'HEFT_nonres_v1.json',\n",
    "    'task_option': 'HEFT_nonres_v1.yaml'\n",
    "}"
   ]
  },
  {
   "cell_type": "code",
   "execution_count": 20,
   "id": "ec6e899d",
   "metadata": {},
   "outputs": [],
   "source": [
    "def construct_commands(config:Dict):\n",
    "    channels = ','.join(config['channels'])\n",
    "    commands = {'channels':[], 'combination':[]}\n",
    "    for parameter in config['parameters']:\n",
    "        file_expr = config['file_expr'][parameter]\n",
    "        input_path = os.path.join(config['inputdir'], parameter)\n",
    "        output_path = os.path.join(config['outdir'], parameter)\n",
    "        # process channels\n",
    "        command_channel = f\"HHComb process_channels -i {input_path} -c {channels} -r {config['resonant_type']} \" +\\\n",
    "                          f\"-o {output_path} --file_expr {file_expr} --config {config['task_option']}\"\n",
    "        commands['channels'].append(command_channel)\n",
    "        # combination\n",
    "        command_comb = f\"HHComb combine_ws -i {output_path} -s {config['correlation_scheme']} -c {channels} \" +\\\n",
    "                       f\"r {config['resonant_type']} --file_expr {file_expr} --config {config['task_option']}\"\n",
    "        commands['combination'].append(command_comb)\n",
    "    # for multiprocessing\n",
    "    commands['channels']    = ' & '.join(commands['channels'])\n",
    "    commands['combination'] = ' & '.join(commands['combination'])\n",
    "    return commands"
   ]
  },
  {
   "cell_type": "code",
   "execution_count": 21,
   "id": "759f12e5",
   "metadata": {},
   "outputs": [],
   "source": [
    "commands = construct_commands(config)"
   ]
  },
  {
   "cell_type": "code",
   "execution_count": 22,
   "id": "88a5d209",
   "metadata": {},
   "outputs": [
    {
     "data": {
      "text/plain": [
       "'HHComb process_channels -i /eos/atlas/atlascerngroupdisk/phys-hdbs/diHiggs/combination/FullRun2Workspaces/original/20220204_HEFT/cgghh -c bbyy,bbtautau -r nonres -o /afs/cern.ch/work/c/chlcheng/Repository/hh_combination_fw/tutorials/HEFT_combination/cgghh --file_expr 0_cgghh_<cgghh[p]> --config HEFT_nonres_v1.yaml & HHComb process_channels -i /eos/atlas/atlascerngroupdisk/phys-hdbs/diHiggs/combination/FullRun2Workspaces/original/20220204_HEFT/ctthh -c bbyy,bbtautau -r nonres -o /afs/cern.ch/work/c/chlcheng/Repository/hh_combination_fw/tutorials/HEFT_combination/ctthh --file_expr 0_ctthh_<ctthh[p]> --config HEFT_nonres_v1.yaml'"
      ]
     },
     "execution_count": 22,
     "metadata": {},
     "output_type": "execute_result"
    }
   ],
   "source": [
    "!{commands['channels']}"
   ]
  },
  {
   "cell_type": "code",
   "execution_count": null,
   "id": "1a72ce4e",
   "metadata": {},
   "outputs": [],
   "source": [
    "!{commands['combination']}"
   ]
  }
 ],
 "metadata": {
  "kernelspec": {
   "display_name": "Python 3 (ipykernel)",
   "language": "python",
   "name": "python3"
  },
  "language_info": {
   "codemirror_mode": {
    "name": "ipython",
    "version": 3
   },
   "file_extension": ".py",
   "mimetype": "text/x-python",
   "name": "python",
   "nbconvert_exporter": "python",
   "pygments_lexer": "ipython3",
   "version": "3.7.12"
  }
 },
 "nbformat": 4,
 "nbformat_minor": 5
}
