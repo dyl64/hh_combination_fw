{
 "cells": [
  {
   "cell_type": "markdown",
   "id": "c42b52b0",
   "metadata": {},
   "source": [
    "## Tutorial 01 - Command Line Interface"
   ]
  },
  {
   "cell_type": "code",
   "execution_count": 7,
   "id": "3fea8af0",
   "metadata": {},
   "outputs": [],
   "source": [
    "from typing import Dict\n",
    "import os\n",
    "import json"
   ]
  },
  {
   "cell_type": "code",
   "execution_count": 74,
   "id": "cad445c1",
   "metadata": {},
   "outputs": [],
   "source": [
    "config = json.load(open(\"config_v1.json\", \"r\"))"
   ]
  },
  {
   "cell_type": "code",
   "execution_count": 84,
   "id": "92066dac",
   "metadata": {},
   "outputs": [],
   "source": [
    "json.dump(config, open(\"config_v1.json\", \"w\"), indent=4)"
   ]
  },
  {
   "cell_type": "code",
   "execution_count": 85,
   "id": "fd2fe192",
   "metadata": {},
   "outputs": [],
   "source": [
    "# edit your custom output directory here\n",
    "outdir = \"${hh_combination_fw_path}/output/projection_nonres_14TeV_3000ifb\""
   ]
  },
  {
   "cell_type": "code",
   "execution_count": 86,
   "id": "bd7f48b3",
   "metadata": {},
   "outputs": [],
   "source": [
    "def get_commands(config:Dict, outdir:str):\n",
    "    channels = \",\".join(config['channels'])\n",
    "    resonant_type = config['resonant_type']\n",
    "    for proj_scenario in config['input_paths']:\n",
    "        input_path = config['input_paths'][proj_scenario]\n",
    "        print(\"=========================================================\")\n",
    "        print(f\"Projection Scenario: {proj_scenario}\")\n",
    "        print(\"=========================================================\")\n",
    "        for task_scenario in config['scenarios']:\n",
    "            settings = config['scenarios'][task_scenario]\n",
    "            output_path = os.path.join(outdir, proj_scenario, task_scenario)\n",
    "            file_expr = settings['file_expr']\n",
    "            param_expr = settings.get('param_expr', None)\n",
    "            config_path = settings['config']\n",
    "            correlation_scheme = settings['scheme']\n",
    "            minimizer_options = settings.get('minimizer_options', None)\n",
    "            \n",
    "            base_cmd_str = f\"-c {channels} -r {resonant_type} --file_expr \\\"{file_expr}\\\" --config {config_path}\"\n",
    "            if param_expr is not None:\n",
    "                base_cmd_str += f\" --param_expr \\\"{param_expr}\\\"\"\n",
    "            if minimizer_options is not None:\n",
    "                base_cmd_str += f\" --minimizer_options {minimizer_options}\"\n",
    "            for task_name, flag in settings['tasks'].items():\n",
    "                if flag:\n",
    "                    base_cmd_str += f\" --do-{task_name}\"\n",
    "                else:\n",
    "                    base_cmd_str += f\" --skip-{task_name}\"\n",
    "            process_channels_cmd_str = f\"HHComb process_channels -i {input_path} -o {output_path} {base_cmd_str}\"\n",
    "            combine_ws_cmd_str = f\"HHComb combine_ws -i {output_path} -s {correlation_scheme} {base_cmd_str}\"\n",
    "            print(\"\")\n",
    "            print(f\"Task Scenario: {task_scenario}\")\n",
    "            print(\"\")\n",
    "            print(process_channels_cmd_str)\n",
    "            print(\"\")\n",
    "            print(combine_ws_cmd_str)\n",
    "            print(\"\")\n",
    "            "
   ]
  },
  {
   "cell_type": "code",
   "execution_count": 87,
   "id": "849174f3",
   "metadata": {},
   "outputs": [
    {
     "name": "stdout",
     "output_type": "stream",
     "text": [
      "=========================================================\n",
      "Projection Scenario: baseline\n",
      "=========================================================\n",
      "\n",
      "Task Scenario: SM\n",
      "\n",
      "HHComb process_channels -i /eos/atlas/atlascerngroupdisk/phys-hdbs/diHiggs/combination/FullRun2Workspaces/original/20211106_proj_all/theo_exp_baseline -o ${hh_combination_fw_path}/output/projection_nonres_14TeV_3000ifb/baseline/SM -c bbyy,bbtautau -r nonres --file_expr \"<mass[F]>\" --config ${hh_combination_fw_path}/configs/task_options/proj_nonres_v11.yaml --do-limit --skip-likelihood --do-pvalue\n",
      "\n",
      "HHComb combine_ws -i ${hh_combination_fw_path}/output/projection_nonres_14TeV_3000ifb/baseline/SM -s ${hh_combination_fw_path}/configs/correlation_schemes/nonres_v10.json -c bbyy,bbtautau -r nonres --file_expr \"<mass[F]>\" --config ${hh_combination_fw_path}/configs/task_options/proj_nonres_v11.yaml --do-limit --skip-likelihood --do-pvalue\n",
      "\n",
      "\n",
      "Task Scenario: kl_individual\n",
      "\n",
      "HHComb process_channels -i /eos/atlas/atlascerngroupdisk/phys-hdbs/diHiggs/combination/FullRun2Workspaces/original/20211106_proj_all/theo_exp_baseline -o ${hh_combination_fw_path}/output/projection_nonres_14TeV_3000ifb/baseline/kl_individual -c bbyy,bbtautau -r nonres --file_expr \"<mass[F]>_kl_<klambda[P]>\" --config ${hh_combination_fw_path}/configs/task_options/proj_nonres_v11.yaml --minimizer_options ${hh_combination_fw_path}/configs/minimizer_options/fix_xs_uncertainty.json --do-limit --skip-likelihood --skip-pvalue\n",
      "\n",
      "HHComb combine_ws -i ${hh_combination_fw_path}/output/projection_nonres_14TeV_3000ifb/baseline/kl_individual -s ${hh_combination_fw_path}/configs/correlation_schemes/nonres_kl_v10.json -c bbyy,bbtautau -r nonres --file_expr \"<mass[F]>_kl_<klambda[P]>\" --config ${hh_combination_fw_path}/configs/task_options/proj_nonres_v11.yaml --minimizer_options ${hh_combination_fw_path}/configs/minimizer_options/fix_xs_uncertainty.json --do-limit --skip-likelihood --skip-pvalue\n",
      "\n",
      "\n",
      "Task Scenario: kl_parameterised\n",
      "\n",
      "HHComb process_channels -i /eos/atlas/atlascerngroupdisk/phys-hdbs/diHiggs/combination/FullRun2Workspaces/original/20211106_proj_all/theo_exp_baseline -o ${hh_combination_fw_path}/output/projection_nonres_14TeV_3000ifb/baseline/kl_parameterised -c bbyy,bbtautau -r nonres --file_expr \"<mass[F]>_kl\" --config ${hh_combination_fw_path}/configs/task_options/nonres_kl.yaml --param_expr \"klambda=-2_8_0.2\" --minimizer_options ${hh_combination_fw_path}/configs/minimizer_options/fix_xs_uncertainty.json --do-limit --do-likelihood --skip-pvalue\n",
      "\n",
      "HHComb combine_ws -i ${hh_combination_fw_path}/output/projection_nonres_14TeV_3000ifb/baseline/kl_parameterised -s ${hh_combination_fw_path}/configs/correlation_schemes/nonres_kl_v10.json -c bbyy,bbtautau -r nonres --file_expr \"<mass[F]>_kl\" --config ${hh_combination_fw_path}/configs/task_options/nonres_kl.yaml --param_expr \"klambda=-2_8_0.2\" --minimizer_options ${hh_combination_fw_path}/configs/minimizer_options/fix_xs_uncertainty.json --do-limit --do-likelihood --skip-pvalue\n",
      "\n",
      "=========================================================\n",
      "Projection Scenario: run2_syst\n",
      "=========================================================\n",
      "\n",
      "Task Scenario: SM\n",
      "\n",
      "HHComb process_channels -i /eos/atlas/atlascerngroupdisk/phys-hdbs/diHiggs/combination/FullRun2Workspaces/original/20211106_proj_all/run2_syst -o ${hh_combination_fw_path}/output/projection_nonres_14TeV_3000ifb/run2_syst/SM -c bbyy,bbtautau -r nonres --file_expr \"<mass[F]>\" --config ${hh_combination_fw_path}/configs/task_options/proj_nonres_v11.yaml --do-limit --skip-likelihood --do-pvalue\n",
      "\n",
      "HHComb combine_ws -i ${hh_combination_fw_path}/output/projection_nonres_14TeV_3000ifb/run2_syst/SM -s ${hh_combination_fw_path}/configs/correlation_schemes/nonres_v10.json -c bbyy,bbtautau -r nonres --file_expr \"<mass[F]>\" --config ${hh_combination_fw_path}/configs/task_options/proj_nonres_v11.yaml --do-limit --skip-likelihood --do-pvalue\n",
      "\n",
      "\n",
      "Task Scenario: kl_individual\n",
      "\n",
      "HHComb process_channels -i /eos/atlas/atlascerngroupdisk/phys-hdbs/diHiggs/combination/FullRun2Workspaces/original/20211106_proj_all/run2_syst -o ${hh_combination_fw_path}/output/projection_nonres_14TeV_3000ifb/run2_syst/kl_individual -c bbyy,bbtautau -r nonres --file_expr \"<mass[F]>_kl_<klambda[P]>\" --config ${hh_combination_fw_path}/configs/task_options/proj_nonres_v11.yaml --minimizer_options ${hh_combination_fw_path}/configs/minimizer_options/fix_xs_uncertainty.json --do-limit --skip-likelihood --skip-pvalue\n",
      "\n",
      "HHComb combine_ws -i ${hh_combination_fw_path}/output/projection_nonres_14TeV_3000ifb/run2_syst/kl_individual -s ${hh_combination_fw_path}/configs/correlation_schemes/nonres_kl_v10.json -c bbyy,bbtautau -r nonres --file_expr \"<mass[F]>_kl_<klambda[P]>\" --config ${hh_combination_fw_path}/configs/task_options/proj_nonres_v11.yaml --minimizer_options ${hh_combination_fw_path}/configs/minimizer_options/fix_xs_uncertainty.json --do-limit --skip-likelihood --skip-pvalue\n",
      "\n",
      "\n",
      "Task Scenario: kl_parameterised\n",
      "\n",
      "HHComb process_channels -i /eos/atlas/atlascerngroupdisk/phys-hdbs/diHiggs/combination/FullRun2Workspaces/original/20211106_proj_all/run2_syst -o ${hh_combination_fw_path}/output/projection_nonres_14TeV_3000ifb/run2_syst/kl_parameterised -c bbyy,bbtautau -r nonres --file_expr \"<mass[F]>_kl\" --config ${hh_combination_fw_path}/configs/task_options/nonres_kl.yaml --param_expr \"klambda=-2_8_0.2\" --minimizer_options ${hh_combination_fw_path}/configs/minimizer_options/fix_xs_uncertainty.json --do-limit --do-likelihood --skip-pvalue\n",
      "\n",
      "HHComb combine_ws -i ${hh_combination_fw_path}/output/projection_nonres_14TeV_3000ifb/run2_syst/kl_parameterised -s ${hh_combination_fw_path}/configs/correlation_schemes/nonres_kl_v10.json -c bbyy,bbtautau -r nonres --file_expr \"<mass[F]>_kl\" --config ${hh_combination_fw_path}/configs/task_options/nonres_kl.yaml --param_expr \"klambda=-2_8_0.2\" --minimizer_options ${hh_combination_fw_path}/configs/minimizer_options/fix_xs_uncertainty.json --do-limit --do-likelihood --skip-pvalue\n",
      "\n",
      "=========================================================\n",
      "Projection Scenario: theo_only\n",
      "=========================================================\n",
      "\n",
      "Task Scenario: SM\n",
      "\n",
      "HHComb process_channels -i /eos/atlas/atlascerngroupdisk/phys-hdbs/diHiggs/combination/FullRun2Workspaces/original/20211106_proj_all/theo_only -o ${hh_combination_fw_path}/output/projection_nonres_14TeV_3000ifb/theo_only/SM -c bbyy,bbtautau -r nonres --file_expr \"<mass[F]>\" --config ${hh_combination_fw_path}/configs/task_options/proj_nonres_v11.yaml --do-limit --skip-likelihood --do-pvalue\n",
      "\n",
      "HHComb combine_ws -i ${hh_combination_fw_path}/output/projection_nonres_14TeV_3000ifb/theo_only/SM -s ${hh_combination_fw_path}/configs/correlation_schemes/nonres_v10.json -c bbyy,bbtautau -r nonres --file_expr \"<mass[F]>\" --config ${hh_combination_fw_path}/configs/task_options/proj_nonres_v11.yaml --do-limit --skip-likelihood --do-pvalue\n",
      "\n",
      "\n",
      "Task Scenario: kl_individual\n",
      "\n",
      "HHComb process_channels -i /eos/atlas/atlascerngroupdisk/phys-hdbs/diHiggs/combination/FullRun2Workspaces/original/20211106_proj_all/theo_only -o ${hh_combination_fw_path}/output/projection_nonres_14TeV_3000ifb/theo_only/kl_individual -c bbyy,bbtautau -r nonres --file_expr \"<mass[F]>_kl_<klambda[P]>\" --config ${hh_combination_fw_path}/configs/task_options/proj_nonres_v11.yaml --minimizer_options ${hh_combination_fw_path}/configs/minimizer_options/fix_xs_uncertainty.json --do-limit --skip-likelihood --skip-pvalue\n",
      "\n",
      "HHComb combine_ws -i ${hh_combination_fw_path}/output/projection_nonres_14TeV_3000ifb/theo_only/kl_individual -s ${hh_combination_fw_path}/configs/correlation_schemes/nonres_kl_v10.json -c bbyy,bbtautau -r nonres --file_expr \"<mass[F]>_kl_<klambda[P]>\" --config ${hh_combination_fw_path}/configs/task_options/proj_nonres_v11.yaml --minimizer_options ${hh_combination_fw_path}/configs/minimizer_options/fix_xs_uncertainty.json --do-limit --skip-likelihood --skip-pvalue\n",
      "\n",
      "\n",
      "Task Scenario: kl_parameterised\n",
      "\n",
      "HHComb process_channels -i /eos/atlas/atlascerngroupdisk/phys-hdbs/diHiggs/combination/FullRun2Workspaces/original/20211106_proj_all/theo_only -o ${hh_combination_fw_path}/output/projection_nonres_14TeV_3000ifb/theo_only/kl_parameterised -c bbyy,bbtautau -r nonres --file_expr \"<mass[F]>_kl\" --config ${hh_combination_fw_path}/configs/task_options/nonres_kl.yaml --param_expr \"klambda=-2_8_0.2\" --minimizer_options ${hh_combination_fw_path}/configs/minimizer_options/fix_xs_uncertainty.json --do-limit --do-likelihood --skip-pvalue\n",
      "\n",
      "HHComb combine_ws -i ${hh_combination_fw_path}/output/projection_nonres_14TeV_3000ifb/theo_only/kl_parameterised -s ${hh_combination_fw_path}/configs/correlation_schemes/nonres_kl_v10.json -c bbyy,bbtautau -r nonres --file_expr \"<mass[F]>_kl\" --config ${hh_combination_fw_path}/configs/task_options/nonres_kl.yaml --param_expr \"klambda=-2_8_0.2\" --minimizer_options ${hh_combination_fw_path}/configs/minimizer_options/fix_xs_uncertainty.json --do-limit --do-likelihood --skip-pvalue\n",
      "\n",
      "=========================================================\n",
      "Projection Scenario: stat_only\n",
      "=========================================================\n",
      "\n",
      "Task Scenario: SM\n",
      "\n",
      "HHComb process_channels -i /eos/atlas/atlascerngroupdisk/phys-hdbs/diHiggs/combination/FullRun2Workspaces/original/20211106_proj_all/stat_only -o ${hh_combination_fw_path}/output/projection_nonres_14TeV_3000ifb/stat_only/SM -c bbyy,bbtautau -r nonres --file_expr \"<mass[F]>\" --config ${hh_combination_fw_path}/configs/task_options/proj_nonres_v11.yaml --do-limit --skip-likelihood --do-pvalue\n",
      "\n",
      "HHComb combine_ws -i ${hh_combination_fw_path}/output/projection_nonres_14TeV_3000ifb/stat_only/SM -s ${hh_combination_fw_path}/configs/correlation_schemes/nonres_v10.json -c bbyy,bbtautau -r nonres --file_expr \"<mass[F]>\" --config ${hh_combination_fw_path}/configs/task_options/proj_nonres_v11.yaml --do-limit --skip-likelihood --do-pvalue\n",
      "\n",
      "\n",
      "Task Scenario: kl_individual\n",
      "\n",
      "HHComb process_channels -i /eos/atlas/atlascerngroupdisk/phys-hdbs/diHiggs/combination/FullRun2Workspaces/original/20211106_proj_all/stat_only -o ${hh_combination_fw_path}/output/projection_nonres_14TeV_3000ifb/stat_only/kl_individual -c bbyy,bbtautau -r nonres --file_expr \"<mass[F]>_kl_<klambda[P]>\" --config ${hh_combination_fw_path}/configs/task_options/proj_nonres_v11.yaml --minimizer_options ${hh_combination_fw_path}/configs/minimizer_options/fix_xs_uncertainty.json --do-limit --skip-likelihood --skip-pvalue\n",
      "\n",
      "HHComb combine_ws -i ${hh_combination_fw_path}/output/projection_nonres_14TeV_3000ifb/stat_only/kl_individual -s ${hh_combination_fw_path}/configs/correlation_schemes/nonres_kl_v10.json -c bbyy,bbtautau -r nonres --file_expr \"<mass[F]>_kl_<klambda[P]>\" --config ${hh_combination_fw_path}/configs/task_options/proj_nonres_v11.yaml --minimizer_options ${hh_combination_fw_path}/configs/minimizer_options/fix_xs_uncertainty.json --do-limit --skip-likelihood --skip-pvalue\n",
      "\n",
      "\n",
      "Task Scenario: kl_parameterised\n",
      "\n",
      "HHComb process_channels -i /eos/atlas/atlascerngroupdisk/phys-hdbs/diHiggs/combination/FullRun2Workspaces/original/20211106_proj_all/stat_only -o ${hh_combination_fw_path}/output/projection_nonres_14TeV_3000ifb/stat_only/kl_parameterised -c bbyy,bbtautau -r nonres --file_expr \"<mass[F]>_kl\" --config ${hh_combination_fw_path}/configs/task_options/nonres_kl.yaml --param_expr \"klambda=-2_8_0.2\" --minimizer_options ${hh_combination_fw_path}/configs/minimizer_options/fix_xs_uncertainty.json --do-limit --do-likelihood --skip-pvalue\n",
      "\n",
      "HHComb combine_ws -i ${hh_combination_fw_path}/output/projection_nonres_14TeV_3000ifb/stat_only/kl_parameterised -s ${hh_combination_fw_path}/configs/correlation_schemes/nonres_kl_v10.json -c bbyy,bbtautau -r nonres --file_expr \"<mass[F]>_kl\" --config ${hh_combination_fw_path}/configs/task_options/nonres_kl.yaml --param_expr \"klambda=-2_8_0.2\" --minimizer_options ${hh_combination_fw_path}/configs/minimizer_options/fix_xs_uncertainty.json --do-limit --do-likelihood --skip-pvalue\n",
      "\n"
     ]
    }
   ],
   "source": [
    "get_commands(config, outdir)"
   ]
  },
  {
   "cell_type": "code",
   "execution_count": null,
   "id": "77aac9b9",
   "metadata": {},
   "outputs": [],
   "source": []
  }
 ],
 "metadata": {
  "kernelspec": {
   "display_name": "Python 3 (ipykernel)",
   "language": "python",
   "name": "python3"
  },
  "language_info": {
   "codemirror_mode": {
    "name": "ipython",
    "version": 3
   },
   "file_extension": ".py",
   "mimetype": "text/x-python",
   "name": "python",
   "nbconvert_exporter": "python",
   "pygments_lexer": "ipython3",
   "version": "3.7.10"
  }
 },
 "nbformat": 4,
 "nbformat_minor": 5
}
