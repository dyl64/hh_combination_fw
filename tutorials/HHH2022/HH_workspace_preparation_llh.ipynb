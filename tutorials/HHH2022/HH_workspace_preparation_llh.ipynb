{
 "cells": [
  {
   "cell_type": "code",
   "execution_count": 61,
   "id": "5fe7f869",
   "metadata": {},
   "outputs": [
    {
     "name": "stdout",
     "output_type": "stream",
     "text": [
      "The autoreload extension is already loaded. To reload it, use:\n",
      "  %reload_ext autoreload\n"
     ]
    }
   ],
   "source": [
    "import os\n",
    "import glob\n",
    "import json\n",
    "import quickstats\n",
    "import sys, numpy as np\n",
    "from quickstats.components import AnalysisBase\n",
    "\n",
    "\n",
    "%load_ext autoreload\n",
    "%autoreload 2\n",
    "%reload_ext autoreload\n",
    "%matplotlib inline"
   ]
  },
  {
   "cell_type": "code",
   "execution_count": 62,
   "id": "fab599ae",
   "metadata": {},
   "outputs": [],
   "source": [
    "# make sure hh combination fw path is defined\n",
    "hh_comb_fw_path = os.environ.get('hh_combination_fw_path', None)\n",
    "\n",
    "assert hh_comb_fw_path\n",
    "\n",
    "gen_command = True"
   ]
  },
  {
   "cell_type": "code",
   "execution_count": 63,
   "id": "6cc5f08d",
   "metadata": {},
   "outputs": [],
   "source": [
    "from quickstats.maths.numerics import is_integer, pretty_value\n",
    "from pprint import pprint\n",
    "def create_job(string, key, suf=''):\n",
    "    tmp = string.split(',')\n",
    "    poi1 = tmp[0].split('=')[0]\n",
    "    poi2 = tmp[1].split('=')[0]\n",
    "    poi1_tmp = tmp[0].split('=')[1].split('_')\n",
    "    poi2_tmp = tmp[1].split('=')[1].split('_')\n",
    "    poi1_range = [float(p) for p in poi1_tmp[0:2]]\n",
    "    poi1_step = float(poi1_tmp[2])\n",
    "    poi2_range = [float(p) for p in poi2_tmp[0:2]]\n",
    "    poi2_step = float(poi2_tmp[2])\n",
    "\n",
    "    poi1_nsteps = int((poi1_range[1] - poi1_range[0]) / poi1_step)\n",
    "    poi2_nsteps = int((poi2_range[1] - poi2_range[0]) / poi2_step)\n",
    "\n",
    "#     # slice poi1 with full poi2 range\n",
    "#     if poi1_nsteps < poi2_nsteps and poi2_nsteps > 12:\n",
    "#         poi1, poi1_range, poi1_step, poi1_nsteps, poi2, poi2_range, poi2_step, poi2_nsteps = poi2, poi2_range, poi2_step, poi2_nsteps, poi1, poi1_range, poi1_step, poi1_nsteps\n",
    "        \n",
    "    poi_slice_up = np.arange(poi1_range[0], poi1_range[1], poi1_step).round(decimals=2)\n",
    "    new_dict = {}\n",
    "    for i in range(poi1_nsteps):\n",
    "        key_name = key+f'_job{suf}{i+1}'\n",
    "        value = f\"^{poi1}={poi_slice_up[i]}_{pretty_value(poi_slice_up[i]+poi1_step)}_{poi1_step},{poi2}={pretty_value(poi2_range[0])}_{pretty_value(poi2_range[1])}_{poi2_step}^\"\n",
    "        new_dict[key_name] = value\n",
    "    return new_dict\n"
   ]
  },
  {
   "cell_type": "markdown",
   "id": "27f661e6",
   "metadata": {},
   "source": [
    "## Step 1: Configure task"
   ]
  },
  {
   "cell_type": "code",
   "execution_count": 66,
   "id": "a485add3",
   "metadata": {},
   "outputs": [],
   "source": [
    "# specify the input timestamp to use\n",
    "timestamp = \"20220520\"\n",
    "withbr = 'with' # 'without'\n",
    "\n",
    "paths = {\n",
    "    'input'              : os.path.join(hh_comb_fw_path, \"FullRun2Workspaces\", \"original\", \"HHH2022\", timestamp),\n",
    "    'task_options'       : os.path.join(hh_comb_fw_path, \"configs\", \"task_options\"       , \"HHH2022\",\n",
    "                                        f\"nonres_kl_kt_likelihood_{withbr}_BR_decorrelation.yaml\"),\n",
    "    'correlation_schemes': os.path.join(hh_comb_fw_path, \"configs\", \"correlation_schemes\", \"HHH2022\", \n",
    "                                        \"nonres_kl_v13.json\"),\n",
    "    #'output'             : os.path.join(os.getcwd(), f\"outputs_HHH2022_{timestamp}\")\n",
    "    'output'             : os.path.join(os.getcwd(), f\"outputs_HHH2022_20220630_{withbr}_BR_decorrelation\")\n",
    "}\n",
    "\n",
    "config = {\n",
    "    'resonant_type': 'nonres',\n",
    "    'channels'     : ['bbbb', 'bbtautau', 'bbyy'],\n",
    "    'file_expr'    : '<mass[F]>_kl',\n",
    "    'blind'        : False,\n",
    "    'cache'        : True,\n",
    "    'experimental' : True,\n",
    "    'parallel'     : -1\n",
    "}\n",
    "\n",
    "options = {\n",
    "    \"input_dir\"    : paths['input'],\n",
    "    \"resonant_type\": config['resonant_type'],\n",
    "    \"channels\"     : \",\".join(config['channels']),\n",
    "    \"outdir\"       : paths['output'],\n",
    "    \"file_expr\"    : f\"\\\"{config['file_expr']}\\\"\",\n",
    "    \"config\"       : paths['task_options'],\n",
    "    \"parallel\"     : config['parallel'],\n",
    "    \"skip-limit\"   : \"\"\n",
    "}"
   ]
  },
  {
   "cell_type": "markdown",
   "id": "37cd2c1d",
   "metadata": {},
   "source": [
    "## Step 2: Prepare modified channel workspaces"
   ]
  },
  {
   "cell_type": "code",
   "execution_count": 68,
   "id": "e938d278",
   "metadata": {},
   "outputs": [
    {
     "name": "stdout",
     "output_type": "stream",
     "text": [
      "HHComb process_channels --input_dir /afs/cern.ch/work/z/zhangr/HHcomb/hh_combination_fw/hh_combination_fw/FullRun2Workspaces/original/HHH2022/20220520 --resonant_type nonres --channels bbbb,bbtautau,bbyy --outdir /afs/cern.ch/work/z/zhangr/HHcomb/hh_combination_fw/hh_combination_fw/tutorials/HHH2022/outputs_HHH2022_20220630_with_BR_decorrelation --file_expr \"<mass[F]>_kl\" --config /afs/cern.ch/work/z/zhangr/HHcomb/hh_combination_fw/hh_combination_fw/configs/task_options/HHH2022/nonres_kl_kt_likelihood_with_BR_decorrelation.yaml --parallel -1 --skip-limit  --experimental  --cache \n"
     ]
    }
   ],
   "source": [
    "if config[\"blind\"]:\n",
    "    options[\"blind\"] = \"\"\n",
    "else:\n",
    "    options[\"unblind\"] : \"\"\n",
    "if config[\"experimental\"]:\n",
    "    options[\"experimental\"] = \"\"\n",
    "else:\n",
    "    options[\"official\"] : \"\"\n",
    "if config['cache']:\n",
    "    options['cache'] = \"\"\n",
    "else:\n",
    "    options['no-cache'] = \"\"\n",
    "command_str = \"HHComb process_channels \" + \" \".join([f\"--{key} {value}\" for key, value in options.items()])\n",
    "print(command_str)"
   ]
  },
  {
   "cell_type": "code",
   "execution_count": 69,
   "id": "ba857a3c",
   "metadata": {},
   "outputs": [],
   "source": [
    "if not gen_command:\n",
    "    os.system(command_str)"
   ]
  },
  {
   "cell_type": "markdown",
   "id": "f89915d5",
   "metadata": {},
   "source": [
    "## Step 3: Prepare combined workspace"
   ]
  },
  {
   "cell_type": "code",
   "execution_count": 70,
   "id": "2dd32434",
   "metadata": {},
   "outputs": [
    {
     "name": "stdout",
     "output_type": "stream",
     "text": [
      "HHComb combine_ws --input_dir /afs/cern.ch/work/z/zhangr/HHcomb/hh_combination_fw/hh_combination_fw/tutorials/HHH2022/outputs_HHH2022_20220630_with_BR_decorrelation --resonant_type nonres --channels bbbb,bbtautau,bbyy --file_expr \"<mass[F]>_kl\" --config /afs/cern.ch/work/z/zhangr/HHcomb/hh_combination_fw/hh_combination_fw/configs/task_options/HHH2022/nonres_kl_kt_likelihood_with_BR_decorrelation.yaml --scheme /afs/cern.ch/work/z/zhangr/HHcomb/hh_combination_fw/hh_combination_fw/configs/correlation_schemes/HHH2022/nonres_kl_v13.json --parallel -1 --skip-limit  --experimental  --cache \n"
     ]
    }
   ],
   "source": [
    "def return_combine_command(paths, config):\n",
    "    options = {\n",
    "        \"input_dir\"    : paths['output'],\n",
    "        \"resonant_type\": config['resonant_type'],\n",
    "        \"channels\"     : \",\".join(config['channels']),\n",
    "        \"file_expr\"    : f\"\\\"{config['file_expr']}\\\"\",\n",
    "        \"config\"       : paths['task_options'],\n",
    "        \"scheme\"       : paths['correlation_schemes'],\n",
    "        \"parallel\"     : config['parallel'],\n",
    "        \"skip-limit\"   : \"\"\n",
    "    }\n",
    "    if config[\"blind\"]:\n",
    "        options[\"blind\"] = \"\"\n",
    "    else:\n",
    "        options[\"unblind\"] : \"\"\n",
    "    if config[\"experimental\"]:\n",
    "        options[\"experimental\"] = \"\"\n",
    "    else:\n",
    "        options[\"official\"] : \"\"\n",
    "    if config['cache']:\n",
    "        options['cache'] = \"\"\n",
    "    else:\n",
    "        options['no-cache'] = \"\"\n",
    "    command_str = \"HHComb combine_ws \" + \" \".join([f\"--{key} {value}\" for key, value in options.items()])\n",
    "    print(command_str)\n",
    "    return command_str\n",
    "\n",
    "command_str = return_combine_command(paths, config)"
   ]
  },
  {
   "cell_type": "code",
   "execution_count": 8,
   "id": "984c94e0",
   "metadata": {},
   "outputs": [],
   "source": [
    "if not gen_command:\n",
    "    os.system(command_str)"
   ]
  },
  {
   "cell_type": "markdown",
   "id": "bf365de6",
   "metadata": {},
   "source": [
    "**Checkout the rescaled workspace paths**"
   ]
  },
  {
   "cell_type": "code",
   "execution_count": 9,
   "id": "34b31d2a",
   "metadata": {},
   "outputs": [
    {
     "data": {
      "text/plain": [
       "{'bbbb': '/afs/cern.ch/work/z/zhangr/HHcomb/hh_combination_fw/hh_combination_fw/tutorials/HHH2022/outputs_HHH2022_20220520_with_BR_decorrelation/rescaled/nonres/bbbb/0_kl.root',\n",
       " 'bbtautau': '/afs/cern.ch/work/z/zhangr/HHcomb/hh_combination_fw/hh_combination_fw/tutorials/HHH2022/outputs_HHH2022_20220520_with_BR_decorrelation/rescaled/nonres/bbtautau/0_kl.root',\n",
       " 'bbyy': '/afs/cern.ch/work/z/zhangr/HHcomb/hh_combination_fw/hh_combination_fw/tutorials/HHH2022/outputs_HHH2022_20220520_with_BR_decorrelation/rescaled/nonres/bbyy/0_kl.root',\n",
       " 'combined': '/afs/cern.ch/work/z/zhangr/HHcomb/hh_combination_fw/hh_combination_fw/tutorials/HHH2022/outputs_HHH2022_20220520_with_BR_decorrelation/combined/nonres/A-bbbb_bbtautau_bbyy-fullcorr/0_kl.root'}"
      ]
     },
     "execution_count": 9,
     "metadata": {},
     "output_type": "execute_result"
    }
   ],
   "source": [
    "rescaled_ws_paths = {}\n",
    "for channel in config['channels']:\n",
    "    ws_path = os.path.join(paths['output'], 'rescaled', config['resonant_type'], channel, \"0_kl.root\")\n",
    "    rescaled_ws_paths[channel]  = ws_path\n",
    "# rescaled workspace path for combined workspacee\n",
    "ws_path = glob.glob(os.path.join(paths['output'], 'combined', config['resonant_type'], \"*\", \"0_kl.root\"))[0]\n",
    "rescaled_ws_paths[\"combined\"] = ws_path\n",
    "rescaled_ws_paths"
   ]
  },
  {
   "cell_type": "markdown",
   "id": "4937bb2f",
   "metadata": {},
   "source": [
    "## Step 4: Prepare Asimov workspaces"
   ]
  },
  {
   "cell_type": "markdown",
   "id": "2b83b571",
   "metadata": {},
   "source": [
    "**Set up the asimov workspace paths**"
   ]
  },
  {
   "cell_type": "code",
   "execution_count": 10,
   "id": "e328a0f4",
   "metadata": {},
   "outputs": [
    {
     "data": {
      "text/plain": [
       "{'bbbb': '/afs/cern.ch/work/z/zhangr/HHcomb/hh_combination_fw/hh_combination_fw/tutorials/HHH2022/outputs_HHH2022_20220520_with_BR_decorrelation/rescaled/nonres/bbbb/0_asimov.root',\n",
       " 'bbtautau': '/afs/cern.ch/work/z/zhangr/HHcomb/hh_combination_fw/hh_combination_fw/tutorials/HHH2022/outputs_HHH2022_20220520_with_BR_decorrelation/rescaled/nonres/bbtautau/0_asimov.root',\n",
       " 'bbyy': '/afs/cern.ch/work/z/zhangr/HHcomb/hh_combination_fw/hh_combination_fw/tutorials/HHH2022/outputs_HHH2022_20220520_with_BR_decorrelation/rescaled/nonres/bbyy/0_asimov.root',\n",
       " 'combined': '/afs/cern.ch/work/z/zhangr/HHcomb/hh_combination_fw/hh_combination_fw/tutorials/HHH2022/outputs_HHH2022_20220520_with_BR_decorrelation/combined/nonres/A-bbbb_bbtautau_bbyy-fullcorr/0_asimov.root'}"
      ]
     },
     "execution_count": 10,
     "metadata": {},
     "output_type": "execute_result"
    }
   ],
   "source": [
    "asimov_ws_paths = {}\n",
    "for channel in rescaled_ws_paths:\n",
    "    rescaled_ws_path = rescaled_ws_paths[channel]\n",
    "    asimov_ws_path   = os.path.join(os.path.dirname(rescaled_ws_path), \"0_asimov.root\")\n",
    "    asimov_ws_paths[channel] = asimov_ws_path\n",
    "asimov_ws_paths"
   ]
  },
  {
   "cell_type": "markdown",
   "id": "ee361c52",
   "metadata": {},
   "source": [
    "**Generate CLI commands**"
   ]
  },
  {
   "cell_type": "code",
   "execution_count": 11,
   "id": "96896c2a",
   "metadata": {
    "scrolled": true
   },
   "outputs": [
    {
     "name": "stdout",
     "output_type": "stream",
     "text": [
      "quickstats generate_standard_asimov --input_file /afs/cern.ch/work/z/zhangr/HHcomb/hh_combination_fw/hh_combination_fw/tutorials/HHH2022/outputs_HHH2022_20220520_with_BR_decorrelation/rescaled/nonres/bbbb/0_kl.root --output_file /afs/cern.ch/work/z/zhangr/HHcomb/hh_combination_fw/hh_combination_fw/tutorials/HHH2022/outputs_HHH2022_20220520_with_BR_decorrelation/rescaled/nonres/bbbb/0_asimov.root --poi xsec_br --data combData --asimov_types 2 --fix THEO_BR_Hbb &\n",
      "\n",
      "quickstats generate_standard_asimov --input_file /afs/cern.ch/work/z/zhangr/HHcomb/hh_combination_fw/hh_combination_fw/tutorials/HHH2022/outputs_HHH2022_20220520_with_BR_decorrelation/rescaled/nonres/bbtautau/0_kl.root --output_file /afs/cern.ch/work/z/zhangr/HHcomb/hh_combination_fw/hh_combination_fw/tutorials/HHH2022/outputs_HHH2022_20220520_with_BR_decorrelation/rescaled/nonres/bbtautau/0_asimov.root --poi xsec_br --data combData --asimov_types 2 --fix THEO_BR_Hbb &\n",
      "\n",
      "quickstats generate_standard_asimov --input_file /afs/cern.ch/work/z/zhangr/HHcomb/hh_combination_fw/hh_combination_fw/tutorials/HHH2022/outputs_HHH2022_20220520_with_BR_decorrelation/rescaled/nonres/bbyy/0_kl.root --output_file /afs/cern.ch/work/z/zhangr/HHcomb/hh_combination_fw/hh_combination_fw/tutorials/HHH2022/outputs_HHH2022_20220520_with_BR_decorrelation/rescaled/nonres/bbyy/0_asimov.root --poi xsec_br --data combData --asimov_types 2 --fix THEO_BR_Hbb &\n",
      "\n",
      "quickstats generate_standard_asimov --input_file /afs/cern.ch/work/z/zhangr/HHcomb/hh_combination_fw/hh_combination_fw/tutorials/HHH2022/outputs_HHH2022_20220520_with_BR_decorrelation/combined/nonres/A-bbbb_bbtautau_bbyy-fullcorr/0_kl.root --output_file /afs/cern.ch/work/z/zhangr/HHcomb/hh_combination_fw/hh_combination_fw/tutorials/HHH2022/outputs_HHH2022_20220520_with_BR_decorrelation/combined/nonres/A-bbbb_bbtautau_bbyy-fullcorr/0_asimov.root --poi xsec_br --data combData --asimov_types 2 --fix THEO_BR_Hbb &\n",
      "\n"
     ]
    }
   ],
   "source": [
    "options = {\n",
    "    'poi'         : 'xsec_br',\n",
    "    'data'        : 'combData',\n",
    "    'asimov_types': '2',\n",
    "    'fix': 'THEO_BR_Hbb',\n",
    "}\n",
    "command_str_map = {}\n",
    "for channel in rescaled_ws_paths:\n",
    "    input_file  = rescaled_ws_paths[channel]\n",
    "    output_file = asimov_ws_paths[channel]\n",
    "    channel_options = {\"input_file\": input_file, \"output_file\": output_file, **options}\n",
    "    channel_command_str = \"quickstats generate_standard_asimov \" + \\\n",
    "                          \" \".join([f\"--{key} {value}\" for key, value in channel_options.items()])\n",
    "    command_str_map[channel] = channel_command_str\n",
    "    print(channel_command_str, '&')\n",
    "    print()"
   ]
  },
  {
   "cell_type": "markdown",
   "id": "43435905",
   "metadata": {},
   "source": [
    "**Generate asimov data**"
   ]
  },
  {
   "cell_type": "code",
   "execution_count": 12,
   "id": "a25e4b1c",
   "metadata": {},
   "outputs": [],
   "source": [
    "if not gen_command:\n",
    "    for channel, command_str in command_str_map.items():\n",
    "        print(f\"INFO: Generating asimov data for the channel \\\"{channel}\\\"\")\n",
    "        os.system(command_str)"
   ]
  },
  {
   "cell_type": "markdown",
   "id": "dab98f89",
   "metadata": {},
   "source": [
    "## Step 5: Prepare post-fit snapshots"
   ]
  },
  {
   "cell_type": "markdown",
   "id": "42898d19",
   "metadata": {},
   "source": [
    "**Set up the fitted workspace paths**"
   ]
  },
  {
   "cell_type": "code",
   "execution_count": 13,
   "id": "717f4ff7",
   "metadata": {},
   "outputs": [
    {
     "data": {
      "text/plain": [
       "{'bbbb': '/afs/cern.ch/work/z/zhangr/HHcomb/hh_combination_fw/hh_combination_fw/tutorials/HHH2022/outputs_HHH2022_20220520_with_BR_decorrelation/rescaled/nonres/bbbb/0_asimov.root',\n",
       " 'bbtautau': '/afs/cern.ch/work/z/zhangr/HHcomb/hh_combination_fw/hh_combination_fw/tutorials/HHH2022/outputs_HHH2022_20220520_with_BR_decorrelation/rescaled/nonres/bbtautau/0_asimov.root',\n",
       " 'bbyy': '/afs/cern.ch/work/z/zhangr/HHcomb/hh_combination_fw/hh_combination_fw/tutorials/HHH2022/outputs_HHH2022_20220520_with_BR_decorrelation/rescaled/nonres/bbyy/0_asimov.root',\n",
       " 'combined': '/afs/cern.ch/work/z/zhangr/HHcomb/hh_combination_fw/hh_combination_fw/tutorials/HHH2022/outputs_HHH2022_20220520_with_BR_decorrelation/combined/nonres/A-bbbb_bbtautau_bbyy-fullcorr/0_asimov.root'}"
      ]
     },
     "execution_count": 13,
     "metadata": {},
     "output_type": "execute_result"
    }
   ],
   "source": [
    "asimov_ws_paths"
   ]
  },
  {
   "cell_type": "code",
   "execution_count": 14,
   "id": "cca7333e",
   "metadata": {},
   "outputs": [
    {
     "data": {
      "text/plain": [
       "{'bbbb': '/afs/cern.ch/work/z/zhangr/HHcomb/hh_combination_fw/hh_combination_fw/tutorials/HHH2022/outputs_HHH2022_20220520_with_BR_decorrelation/rescaled/nonres/bbbb/0_fitted.root',\n",
       " 'bbtautau': '/afs/cern.ch/work/z/zhangr/HHcomb/hh_combination_fw/hh_combination_fw/tutorials/HHH2022/outputs_HHH2022_20220520_with_BR_decorrelation/rescaled/nonres/bbtautau/0_fitted.root',\n",
       " 'bbyy': '/afs/cern.ch/work/z/zhangr/HHcomb/hh_combination_fw/hh_combination_fw/tutorials/HHH2022/outputs_HHH2022_20220520_with_BR_decorrelation/rescaled/nonres/bbyy/0_fitted.root',\n",
       " 'combined': '/afs/cern.ch/work/z/zhangr/HHcomb/hh_combination_fw/hh_combination_fw/tutorials/HHH2022/outputs_HHH2022_20220520_with_BR_decorrelation/combined/nonres/A-bbbb_bbtautau_bbyy-fullcorr/0_fitted.root'}"
      ]
     },
     "execution_count": 14,
     "metadata": {},
     "output_type": "execute_result"
    }
   ],
   "source": [
    "fitted_ws_paths = {}\n",
    "for channel in asimov_ws_paths:\n",
    "    asimov_ws_path = asimov_ws_paths[channel]\n",
    "    fitted_ws_path = os.path.join(os.path.dirname(asimov_ws_path), \"0_fitted.root\")\n",
    "    fitted_ws_paths[channel] = fitted_ws_path\n",
    "fitted_ws_paths"
   ]
  },
  {
   "cell_type": "code",
   "execution_count": 15,
   "id": "65344ea5",
   "metadata": {},
   "outputs": [],
   "source": [
    "pois_to_scan = [\"klambda\", \"kt\", \"kV\", \"k2V\", \"kF\", \"kH\", \"ktau\", \"klambda,kt\", \"kV,k2V\"]\n",
    "minimizer_options = {\n",
    "    \"retry\": 2,\n",
    "    \"eps\": 1\n",
    "}\n",
    "# observed and expected datasets\n",
    "datasets = {\n",
    "    \"observed\": \"combData\",\n",
    "    \"expected\": \"asimovData_muhat_NP_Profile\"\n",
    "}"
   ]
  },
  {
   "cell_type": "code",
   "execution_count": 16,
   "id": "f34cce9b",
   "metadata": {
    "scrolled": false
   },
   "outputs": [],
   "source": [
    "# parallel channels\n",
    "import multiprocessing\n",
    "\n",
    "def run_best_fit(channel):\n",
    "    print(f\"==> Channel: {channel}\")\n",
    "    asimov_ws_path = asimov_ws_paths[channel]\n",
    "    fitted_ws_path = fitted_ws_paths[channel]\n",
    "    kwargs = {\n",
    "        \"filename\" : asimov_ws_path,\n",
    "        # only need to generate snapshot for observed data\n",
    "        \"data_name\": datasets[\"observed\"],\n",
    "        \"poi_name\": [],\n",
    "        \"config\": {**minimizer_options}\n",
    "    }\n",
    "    analysis = AnalysisBase(**kwargs)\n",
    "    # fix all pois at the beginning\n",
    "    analysis.setup_parameters(fix_param=\"<pois>\")\n",
    "    analysis.save_snapshot(analysis.kTempSnapshotName)\n",
    "    for poi_expr in pois_to_scan:\n",
    "        print(f\"==> POIs: {poi_expr}\")\n",
    "        analysis.setup_parameters(profile_param=poi_expr)\n",
    "        analysis.nll_fit(mode=3)\n",
    "        pois = poi_expr.split(\",\")\n",
    "        snapshot_name = f\"obs_bestfit_{'_'.join(pois)}\"\n",
    "        # save best-fit snapshot\n",
    "        analysis.save_snapshot(snapshot_name)\n",
    "        analysis.load_snapshot(analysis.kTempSnapshotName)\n",
    "    # restore initial snapshot\n",
    "    analysis.load_snapshot(analysis.kInitialSnapshotName)\n",
    "    analysis.save(fitted_ws_path)\n",
    "\n",
    "def driver_func():\n",
    "    PROCESSES = len(fitted_ws_paths)\n",
    "    with multiprocessing.Pool(PROCESSES) as pool:\n",
    "        channels = list(fitted_ws_paths.keys())\n",
    "        channels = ['combined']\n",
    "        results = [pool.apply_async(run_best_fit, (c, )) for c in channels]\n",
    "\n",
    "        for r in results:\n",
    "            print('\\t', r.get())\n",
    "\n",
    "if not gen_command:\n",
    "    driver_func()\n",
    "\n"
   ]
  },
  {
   "cell_type": "markdown",
   "id": "c77a09ca",
   "metadata": {},
   "source": [
    "- By now, you should have the workspace `0_fitted.root` for each channel\n",
    "- Inside `0_fitted.root`, you have the observed dataset `combData` and the asimov dataset `asimovData_muhat_NP_Profile`\n",
    "- For each dataset, there are the corresponding muhat snapshots designed for each likelihood scan, e.g.\n",
    "  - obs_bestfit_klambda, obs_bestfit_kt, obs_bestfit_kV, obs_bestfit_k2V, obs_bestfit_klambda_kt, obs_bestfit_kV_k2V\n",
    "  - exp_bestfit_klambda, exp_bestfit_kt, exp_bestfit_kV, exp_bestfit_k2V, exp_bestfit_klambda_kt, exp_bestfit_kV_k2V"
   ]
  },
  {
   "cell_type": "markdown",
   "id": "cffe5fa1",
   "metadata": {},
   "source": [
    "## Step 6: Run likelihood scans"
   ]
  },
  {
   "cell_type": "markdown",
   "id": "86e52873",
   "metadata": {},
   "source": [
    "**Only commands are shown here since the jobs are computationally intensive**"
   ]
  },
  {
   "cell_type": "code",
   "execution_count": 17,
   "id": "1746f452",
   "metadata": {},
   "outputs": [
    {
     "name": "stdout",
     "output_type": "stream",
     "text": [
      "{'k2V_kV_profile': '^k2V=-3_5_0.1,kV^'}\n"
     ]
    }
   ],
   "source": [
    "from quickstats.parsers import ParamParser\n",
    "\n",
    "# use '_job' + suffix to split scan range\n",
    "param_expr_maps = {\n",
    "#     'klambda': \"^klambda=-6_12_0.2^\",\n",
    "#     \"klambda_kt_profile\": \"^klambda=-16_20_0.4,kt^\",\n",
    "    \"k2V_kV_profile\": \"^k2V=-3_5_0.1,kV^\",\n",
    "#     \"k2V_kV_profile\": \"^k2V=-3_5_0.1^\",\n",
    "#     \"klambda_kt_2D_final\": \"^klambda=-15_20_0.2,kt=-2_3_0.2^\",\n",
    "#     \"kt\": \"^kt=-2_6_0.1^\",\n",
    "#     \"kF\": \"^kF=-8_15_0.1^\",\n",
    "#     \"kV\": \"^kV=-2.5_2.5_0.1^\",\n",
    "#     \"k2V\": \"^k2V=-3_5_0.1^\",\n",
    "#     \"kV_k2V_2D_final\": \"^kV=-3_3_0.2,k2V=-4_10_0.2^\",\n",
    "#     \"klambda_k2V_2D_final\": \"^klambda=-4_10_0.2,k2V=-1_3_0.2^\",\n",
    "}\n",
    "\n",
    "# param_expr_maps.update(create_job('klambda=-15_20_0.2,kt=-2_3_0.2', 'klambda_kt_2D'))\n",
    "# param_expr_maps.update(create_job('kV=-3_3_0.2,k2V=-4_10_0.2', 'kV_k2V_2D'))\n",
    "# param_expr_maps.update(create_job('klambda=-4_10_0.2,k2V=-1_3_0.2', 'klambda_k2V_2D'))\n",
    "pprint(param_expr_maps)"
   ]
  },
  {
   "cell_type": "markdown",
   "id": "740fa86d",
   "metadata": {},
   "source": [
    "## finer jobs"
   ]
  },
  {
   "cell_type": "code",
   "execution_count": 18,
   "id": "481e8c02",
   "metadata": {
    "scrolled": true
   },
   "outputs": [
    {
     "name": "stdout",
     "output_type": "stream",
     "text": [
      "280\n",
      "{'klambda_k2V_2D_joba1': '^klambda=-4.0_-3.8_0.2,k2V=-1_0_0.2^',\n",
      " 'klambda_k2V_2D_joba10': '^klambda=-2.2_-2_0.2,k2V=-1_0_0.2^',\n",
      " 'klambda_k2V_2D_joba11': '^klambda=-2.0_-1.8_0.2,k2V=-1_0_0.2^',\n",
      " 'klambda_k2V_2D_joba12': '^klambda=-1.8_-1.6_0.2,k2V=-1_0_0.2^',\n",
      " 'klambda_k2V_2D_joba13': '^klambda=-1.6_-1.4_0.2,k2V=-1_0_0.2^',\n",
      " 'klambda_k2V_2D_joba14': '^klambda=-1.4_-1.2_0.2,k2V=-1_0_0.2^',\n",
      " 'klambda_k2V_2D_joba15': '^klambda=-1.2_-1_0.2,k2V=-1_0_0.2^',\n",
      " 'klambda_k2V_2D_joba16': '^klambda=-1.0_-0.8_0.2,k2V=-1_0_0.2^',\n",
      " 'klambda_k2V_2D_joba17': '^klambda=-0.8_-0.6_0.2,k2V=-1_0_0.2^',\n",
      " 'klambda_k2V_2D_joba18': '^klambda=-0.6_-0.4_0.2,k2V=-1_0_0.2^',\n",
      " 'klambda_k2V_2D_joba19': '^klambda=-0.4_-0.2_0.2,k2V=-1_0_0.2^',\n",
      " 'klambda_k2V_2D_joba2': '^klambda=-3.8_-3.6_0.2,k2V=-1_0_0.2^',\n",
      " 'klambda_k2V_2D_joba20': '^klambda=-0.2_0_0.2,k2V=-1_0_0.2^',\n",
      " 'klambda_k2V_2D_joba21': '^klambda=0.0_0.2_0.2,k2V=-1_0_0.2^',\n",
      " 'klambda_k2V_2D_joba22': '^klambda=0.2_0.4_0.2,k2V=-1_0_0.2^',\n",
      " 'klambda_k2V_2D_joba23': '^klambda=0.4_0.6_0.2,k2V=-1_0_0.2^',\n",
      " 'klambda_k2V_2D_joba24': '^klambda=0.6_0.8_0.2,k2V=-1_0_0.2^',\n",
      " 'klambda_k2V_2D_joba25': '^klambda=0.8_1_0.2,k2V=-1_0_0.2^',\n",
      " 'klambda_k2V_2D_joba26': '^klambda=1.0_1.2_0.2,k2V=-1_0_0.2^',\n",
      " 'klambda_k2V_2D_joba27': '^klambda=1.2_1.4_0.2,k2V=-1_0_0.2^',\n",
      " 'klambda_k2V_2D_joba28': '^klambda=1.4_1.6_0.2,k2V=-1_0_0.2^',\n",
      " 'klambda_k2V_2D_joba29': '^klambda=1.6_1.8_0.2,k2V=-1_0_0.2^',\n",
      " 'klambda_k2V_2D_joba3': '^klambda=-3.6_-3.4_0.2,k2V=-1_0_0.2^',\n",
      " 'klambda_k2V_2D_joba30': '^klambda=1.8_2_0.2,k2V=-1_0_0.2^',\n",
      " 'klambda_k2V_2D_joba31': '^klambda=2.0_2.2_0.2,k2V=-1_0_0.2^',\n",
      " 'klambda_k2V_2D_joba32': '^klambda=2.2_2.4_0.2,k2V=-1_0_0.2^',\n",
      " 'klambda_k2V_2D_joba33': '^klambda=2.4_2.6_0.2,k2V=-1_0_0.2^',\n",
      " 'klambda_k2V_2D_joba34': '^klambda=2.6_2.8_0.2,k2V=-1_0_0.2^',\n",
      " 'klambda_k2V_2D_joba35': '^klambda=2.8_3_0.2,k2V=-1_0_0.2^',\n",
      " 'klambda_k2V_2D_joba36': '^klambda=3.0_3.2_0.2,k2V=-1_0_0.2^',\n",
      " 'klambda_k2V_2D_joba37': '^klambda=3.2_3.4_0.2,k2V=-1_0_0.2^',\n",
      " 'klambda_k2V_2D_joba38': '^klambda=3.4_3.6_0.2,k2V=-1_0_0.2^',\n",
      " 'klambda_k2V_2D_joba39': '^klambda=3.6_3.8_0.2,k2V=-1_0_0.2^',\n",
      " 'klambda_k2V_2D_joba4': '^klambda=-3.4_-3.2_0.2,k2V=-1_0_0.2^',\n",
      " 'klambda_k2V_2D_joba40': '^klambda=3.8_4_0.2,k2V=-1_0_0.2^',\n",
      " 'klambda_k2V_2D_joba41': '^klambda=4.0_4.2_0.2,k2V=-1_0_0.2^',\n",
      " 'klambda_k2V_2D_joba42': '^klambda=4.2_4.4_0.2,k2V=-1_0_0.2^',\n",
      " 'klambda_k2V_2D_joba43': '^klambda=4.4_4.6_0.2,k2V=-1_0_0.2^',\n",
      " 'klambda_k2V_2D_joba44': '^klambda=4.6_4.8_0.2,k2V=-1_0_0.2^',\n",
      " 'klambda_k2V_2D_joba45': '^klambda=4.8_5_0.2,k2V=-1_0_0.2^',\n",
      " 'klambda_k2V_2D_joba46': '^klambda=5.0_5.2_0.2,k2V=-1_0_0.2^',\n",
      " 'klambda_k2V_2D_joba47': '^klambda=5.2_5.4_0.2,k2V=-1_0_0.2^',\n",
      " 'klambda_k2V_2D_joba48': '^klambda=5.4_5.6_0.2,k2V=-1_0_0.2^',\n",
      " 'klambda_k2V_2D_joba49': '^klambda=5.6_5.8_0.2,k2V=-1_0_0.2^',\n",
      " 'klambda_k2V_2D_joba5': '^klambda=-3.2_-3_0.2,k2V=-1_0_0.2^',\n",
      " 'klambda_k2V_2D_joba50': '^klambda=5.8_6_0.2,k2V=-1_0_0.2^',\n",
      " 'klambda_k2V_2D_joba51': '^klambda=6.0_6.2_0.2,k2V=-1_0_0.2^',\n",
      " 'klambda_k2V_2D_joba52': '^klambda=6.2_6.4_0.2,k2V=-1_0_0.2^',\n",
      " 'klambda_k2V_2D_joba53': '^klambda=6.4_6.6_0.2,k2V=-1_0_0.2^',\n",
      " 'klambda_k2V_2D_joba54': '^klambda=6.6_6.8_0.2,k2V=-1_0_0.2^',\n",
      " 'klambda_k2V_2D_joba55': '^klambda=6.8_7_0.2,k2V=-1_0_0.2^',\n",
      " 'klambda_k2V_2D_joba56': '^klambda=7.0_7.2_0.2,k2V=-1_0_0.2^',\n",
      " 'klambda_k2V_2D_joba57': '^klambda=7.2_7.4_0.2,k2V=-1_0_0.2^',\n",
      " 'klambda_k2V_2D_joba58': '^klambda=7.4_7.6_0.2,k2V=-1_0_0.2^',\n",
      " 'klambda_k2V_2D_joba59': '^klambda=7.6_7.8_0.2,k2V=-1_0_0.2^',\n",
      " 'klambda_k2V_2D_joba6': '^klambda=-3.0_-2.8_0.2,k2V=-1_0_0.2^',\n",
      " 'klambda_k2V_2D_joba60': '^klambda=7.8_8_0.2,k2V=-1_0_0.2^',\n",
      " 'klambda_k2V_2D_joba61': '^klambda=8.0_8.2_0.2,k2V=-1_0_0.2^',\n",
      " 'klambda_k2V_2D_joba62': '^klambda=8.2_8.4_0.2,k2V=-1_0_0.2^',\n",
      " 'klambda_k2V_2D_joba63': '^klambda=8.4_8.6_0.2,k2V=-1_0_0.2^',\n",
      " 'klambda_k2V_2D_joba64': '^klambda=8.6_8.8_0.2,k2V=-1_0_0.2^',\n",
      " 'klambda_k2V_2D_joba65': '^klambda=8.8_9_0.2,k2V=-1_0_0.2^',\n",
      " 'klambda_k2V_2D_joba66': '^klambda=9.0_9.2_0.2,k2V=-1_0_0.2^',\n",
      " 'klambda_k2V_2D_joba67': '^klambda=9.2_9.4_0.2,k2V=-1_0_0.2^',\n",
      " 'klambda_k2V_2D_joba68': '^klambda=9.4_9.6_0.2,k2V=-1_0_0.2^',\n",
      " 'klambda_k2V_2D_joba69': '^klambda=9.6_9.8_0.2,k2V=-1_0_0.2^',\n",
      " 'klambda_k2V_2D_joba7': '^klambda=-2.8_-2.6_0.2,k2V=-1_0_0.2^',\n",
      " 'klambda_k2V_2D_joba70': '^klambda=9.8_10_0.2,k2V=-1_0_0.2^',\n",
      " 'klambda_k2V_2D_joba8': '^klambda=-2.6_-2.4_0.2,k2V=-1_0_0.2^',\n",
      " 'klambda_k2V_2D_joba9': '^klambda=-2.4_-2.2_0.2,k2V=-1_0_0.2^',\n",
      " 'klambda_k2V_2D_jobb1': '^klambda=-4.0_-3.8_0.2,k2V=0_1_0.2^',\n",
      " 'klambda_k2V_2D_jobb10': '^klambda=-2.2_-2_0.2,k2V=0_1_0.2^',\n",
      " 'klambda_k2V_2D_jobb11': '^klambda=-2.0_-1.8_0.2,k2V=0_1_0.2^',\n",
      " 'klambda_k2V_2D_jobb12': '^klambda=-1.8_-1.6_0.2,k2V=0_1_0.2^',\n",
      " 'klambda_k2V_2D_jobb13': '^klambda=-1.6_-1.4_0.2,k2V=0_1_0.2^',\n",
      " 'klambda_k2V_2D_jobb14': '^klambda=-1.4_-1.2_0.2,k2V=0_1_0.2^',\n",
      " 'klambda_k2V_2D_jobb15': '^klambda=-1.2_-1_0.2,k2V=0_1_0.2^',\n",
      " 'klambda_k2V_2D_jobb16': '^klambda=-1.0_-0.8_0.2,k2V=0_1_0.2^',\n",
      " 'klambda_k2V_2D_jobb17': '^klambda=-0.8_-0.6_0.2,k2V=0_1_0.2^',\n",
      " 'klambda_k2V_2D_jobb18': '^klambda=-0.6_-0.4_0.2,k2V=0_1_0.2^',\n",
      " 'klambda_k2V_2D_jobb19': '^klambda=-0.4_-0.2_0.2,k2V=0_1_0.2^',\n",
      " 'klambda_k2V_2D_jobb2': '^klambda=-3.8_-3.6_0.2,k2V=0_1_0.2^',\n",
      " 'klambda_k2V_2D_jobb20': '^klambda=-0.2_0_0.2,k2V=0_1_0.2^',\n",
      " 'klambda_k2V_2D_jobb21': '^klambda=0.0_0.2_0.2,k2V=0_1_0.2^',\n",
      " 'klambda_k2V_2D_jobb22': '^klambda=0.2_0.4_0.2,k2V=0_1_0.2^',\n",
      " 'klambda_k2V_2D_jobb23': '^klambda=0.4_0.6_0.2,k2V=0_1_0.2^',\n",
      " 'klambda_k2V_2D_jobb24': '^klambda=0.6_0.8_0.2,k2V=0_1_0.2^',\n",
      " 'klambda_k2V_2D_jobb25': '^klambda=0.8_1_0.2,k2V=0_1_0.2^',\n",
      " 'klambda_k2V_2D_jobb26': '^klambda=1.0_1.2_0.2,k2V=0_1_0.2^',\n",
      " 'klambda_k2V_2D_jobb27': '^klambda=1.2_1.4_0.2,k2V=0_1_0.2^',\n",
      " 'klambda_k2V_2D_jobb28': '^klambda=1.4_1.6_0.2,k2V=0_1_0.2^',\n",
      " 'klambda_k2V_2D_jobb29': '^klambda=1.6_1.8_0.2,k2V=0_1_0.2^',\n",
      " 'klambda_k2V_2D_jobb3': '^klambda=-3.6_-3.4_0.2,k2V=0_1_0.2^',\n",
      " 'klambda_k2V_2D_jobb30': '^klambda=1.8_2_0.2,k2V=0_1_0.2^',\n",
      " 'klambda_k2V_2D_jobb31': '^klambda=2.0_2.2_0.2,k2V=0_1_0.2^',\n",
      " 'klambda_k2V_2D_jobb32': '^klambda=2.2_2.4_0.2,k2V=0_1_0.2^',\n",
      " 'klambda_k2V_2D_jobb33': '^klambda=2.4_2.6_0.2,k2V=0_1_0.2^',\n",
      " 'klambda_k2V_2D_jobb34': '^klambda=2.6_2.8_0.2,k2V=0_1_0.2^',\n",
      " 'klambda_k2V_2D_jobb35': '^klambda=2.8_3_0.2,k2V=0_1_0.2^',\n",
      " 'klambda_k2V_2D_jobb36': '^klambda=3.0_3.2_0.2,k2V=0_1_0.2^',\n",
      " 'klambda_k2V_2D_jobb37': '^klambda=3.2_3.4_0.2,k2V=0_1_0.2^',\n",
      " 'klambda_k2V_2D_jobb38': '^klambda=3.4_3.6_0.2,k2V=0_1_0.2^',\n",
      " 'klambda_k2V_2D_jobb39': '^klambda=3.6_3.8_0.2,k2V=0_1_0.2^',\n",
      " 'klambda_k2V_2D_jobb4': '^klambda=-3.4_-3.2_0.2,k2V=0_1_0.2^',\n",
      " 'klambda_k2V_2D_jobb40': '^klambda=3.8_4_0.2,k2V=0_1_0.2^',\n",
      " 'klambda_k2V_2D_jobb41': '^klambda=4.0_4.2_0.2,k2V=0_1_0.2^',\n",
      " 'klambda_k2V_2D_jobb42': '^klambda=4.2_4.4_0.2,k2V=0_1_0.2^',\n",
      " 'klambda_k2V_2D_jobb43': '^klambda=4.4_4.6_0.2,k2V=0_1_0.2^',\n",
      " 'klambda_k2V_2D_jobb44': '^klambda=4.6_4.8_0.2,k2V=0_1_0.2^',\n",
      " 'klambda_k2V_2D_jobb45': '^klambda=4.8_5_0.2,k2V=0_1_0.2^',\n",
      " 'klambda_k2V_2D_jobb46': '^klambda=5.0_5.2_0.2,k2V=0_1_0.2^',\n",
      " 'klambda_k2V_2D_jobb47': '^klambda=5.2_5.4_0.2,k2V=0_1_0.2^',\n",
      " 'klambda_k2V_2D_jobb48': '^klambda=5.4_5.6_0.2,k2V=0_1_0.2^',\n",
      " 'klambda_k2V_2D_jobb49': '^klambda=5.6_5.8_0.2,k2V=0_1_0.2^',\n",
      " 'klambda_k2V_2D_jobb5': '^klambda=-3.2_-3_0.2,k2V=0_1_0.2^',\n",
      " 'klambda_k2V_2D_jobb50': '^klambda=5.8_6_0.2,k2V=0_1_0.2^',\n",
      " 'klambda_k2V_2D_jobb51': '^klambda=6.0_6.2_0.2,k2V=0_1_0.2^',\n",
      " 'klambda_k2V_2D_jobb52': '^klambda=6.2_6.4_0.2,k2V=0_1_0.2^',\n",
      " 'klambda_k2V_2D_jobb53': '^klambda=6.4_6.6_0.2,k2V=0_1_0.2^',\n",
      " 'klambda_k2V_2D_jobb54': '^klambda=6.6_6.8_0.2,k2V=0_1_0.2^',\n",
      " 'klambda_k2V_2D_jobb55': '^klambda=6.8_7_0.2,k2V=0_1_0.2^',\n",
      " 'klambda_k2V_2D_jobb56': '^klambda=7.0_7.2_0.2,k2V=0_1_0.2^',\n",
      " 'klambda_k2V_2D_jobb57': '^klambda=7.2_7.4_0.2,k2V=0_1_0.2^',\n",
      " 'klambda_k2V_2D_jobb58': '^klambda=7.4_7.6_0.2,k2V=0_1_0.2^',\n",
      " 'klambda_k2V_2D_jobb59': '^klambda=7.6_7.8_0.2,k2V=0_1_0.2^',\n",
      " 'klambda_k2V_2D_jobb6': '^klambda=-3.0_-2.8_0.2,k2V=0_1_0.2^',\n",
      " 'klambda_k2V_2D_jobb60': '^klambda=7.8_8_0.2,k2V=0_1_0.2^',\n",
      " 'klambda_k2V_2D_jobb61': '^klambda=8.0_8.2_0.2,k2V=0_1_0.2^',\n",
      " 'klambda_k2V_2D_jobb62': '^klambda=8.2_8.4_0.2,k2V=0_1_0.2^',\n",
      " 'klambda_k2V_2D_jobb63': '^klambda=8.4_8.6_0.2,k2V=0_1_0.2^',\n",
      " 'klambda_k2V_2D_jobb64': '^klambda=8.6_8.8_0.2,k2V=0_1_0.2^',\n",
      " 'klambda_k2V_2D_jobb65': '^klambda=8.8_9_0.2,k2V=0_1_0.2^',\n",
      " 'klambda_k2V_2D_jobb66': '^klambda=9.0_9.2_0.2,k2V=0_1_0.2^',\n",
      " 'klambda_k2V_2D_jobb67': '^klambda=9.2_9.4_0.2,k2V=0_1_0.2^',\n",
      " 'klambda_k2V_2D_jobb68': '^klambda=9.4_9.6_0.2,k2V=0_1_0.2^',\n",
      " 'klambda_k2V_2D_jobb69': '^klambda=9.6_9.8_0.2,k2V=0_1_0.2^',\n",
      " 'klambda_k2V_2D_jobb7': '^klambda=-2.8_-2.6_0.2,k2V=0_1_0.2^',\n",
      " 'klambda_k2V_2D_jobb70': '^klambda=9.8_10_0.2,k2V=0_1_0.2^',\n",
      " 'klambda_k2V_2D_jobb8': '^klambda=-2.6_-2.4_0.2,k2V=0_1_0.2^',\n",
      " 'klambda_k2V_2D_jobb9': '^klambda=-2.4_-2.2_0.2,k2V=0_1_0.2^',\n",
      " 'klambda_k2V_2D_jobc1': '^klambda=-4.0_-3.8_0.2,k2V=1_2_0.2^',\n",
      " 'klambda_k2V_2D_jobc10': '^klambda=-2.2_-2_0.2,k2V=1_2_0.2^',\n",
      " 'klambda_k2V_2D_jobc11': '^klambda=-2.0_-1.8_0.2,k2V=1_2_0.2^',\n",
      " 'klambda_k2V_2D_jobc12': '^klambda=-1.8_-1.6_0.2,k2V=1_2_0.2^',\n",
      " 'klambda_k2V_2D_jobc13': '^klambda=-1.6_-1.4_0.2,k2V=1_2_0.2^',\n",
      " 'klambda_k2V_2D_jobc14': '^klambda=-1.4_-1.2_0.2,k2V=1_2_0.2^',\n",
      " 'klambda_k2V_2D_jobc15': '^klambda=-1.2_-1_0.2,k2V=1_2_0.2^',\n",
      " 'klambda_k2V_2D_jobc16': '^klambda=-1.0_-0.8_0.2,k2V=1_2_0.2^',\n",
      " 'klambda_k2V_2D_jobc17': '^klambda=-0.8_-0.6_0.2,k2V=1_2_0.2^',\n",
      " 'klambda_k2V_2D_jobc18': '^klambda=-0.6_-0.4_0.2,k2V=1_2_0.2^',\n",
      " 'klambda_k2V_2D_jobc19': '^klambda=-0.4_-0.2_0.2,k2V=1_2_0.2^',\n",
      " 'klambda_k2V_2D_jobc2': '^klambda=-3.8_-3.6_0.2,k2V=1_2_0.2^',\n",
      " 'klambda_k2V_2D_jobc20': '^klambda=-0.2_0_0.2,k2V=1_2_0.2^',\n",
      " 'klambda_k2V_2D_jobc21': '^klambda=0.0_0.2_0.2,k2V=1_2_0.2^',\n",
      " 'klambda_k2V_2D_jobc22': '^klambda=0.2_0.4_0.2,k2V=1_2_0.2^',\n",
      " 'klambda_k2V_2D_jobc23': '^klambda=0.4_0.6_0.2,k2V=1_2_0.2^',\n",
      " 'klambda_k2V_2D_jobc24': '^klambda=0.6_0.8_0.2,k2V=1_2_0.2^',\n",
      " 'klambda_k2V_2D_jobc25': '^klambda=0.8_1_0.2,k2V=1_2_0.2^',\n",
      " 'klambda_k2V_2D_jobc26': '^klambda=1.0_1.2_0.2,k2V=1_2_0.2^',\n",
      " 'klambda_k2V_2D_jobc27': '^klambda=1.2_1.4_0.2,k2V=1_2_0.2^',\n",
      " 'klambda_k2V_2D_jobc28': '^klambda=1.4_1.6_0.2,k2V=1_2_0.2^',\n",
      " 'klambda_k2V_2D_jobc29': '^klambda=1.6_1.8_0.2,k2V=1_2_0.2^',\n",
      " 'klambda_k2V_2D_jobc3': '^klambda=-3.6_-3.4_0.2,k2V=1_2_0.2^',\n",
      " 'klambda_k2V_2D_jobc30': '^klambda=1.8_2_0.2,k2V=1_2_0.2^',\n",
      " 'klambda_k2V_2D_jobc31': '^klambda=2.0_2.2_0.2,k2V=1_2_0.2^',\n",
      " 'klambda_k2V_2D_jobc32': '^klambda=2.2_2.4_0.2,k2V=1_2_0.2^',\n",
      " 'klambda_k2V_2D_jobc33': '^klambda=2.4_2.6_0.2,k2V=1_2_0.2^',\n",
      " 'klambda_k2V_2D_jobc34': '^klambda=2.6_2.8_0.2,k2V=1_2_0.2^',\n",
      " 'klambda_k2V_2D_jobc35': '^klambda=2.8_3_0.2,k2V=1_2_0.2^',\n",
      " 'klambda_k2V_2D_jobc36': '^klambda=3.0_3.2_0.2,k2V=1_2_0.2^',\n",
      " 'klambda_k2V_2D_jobc37': '^klambda=3.2_3.4_0.2,k2V=1_2_0.2^',\n",
      " 'klambda_k2V_2D_jobc38': '^klambda=3.4_3.6_0.2,k2V=1_2_0.2^',\n",
      " 'klambda_k2V_2D_jobc39': '^klambda=3.6_3.8_0.2,k2V=1_2_0.2^',\n",
      " 'klambda_k2V_2D_jobc4': '^klambda=-3.4_-3.2_0.2,k2V=1_2_0.2^',\n",
      " 'klambda_k2V_2D_jobc40': '^klambda=3.8_4_0.2,k2V=1_2_0.2^',\n",
      " 'klambda_k2V_2D_jobc41': '^klambda=4.0_4.2_0.2,k2V=1_2_0.2^',\n",
      " 'klambda_k2V_2D_jobc42': '^klambda=4.2_4.4_0.2,k2V=1_2_0.2^',\n",
      " 'klambda_k2V_2D_jobc43': '^klambda=4.4_4.6_0.2,k2V=1_2_0.2^',\n",
      " 'klambda_k2V_2D_jobc44': '^klambda=4.6_4.8_0.2,k2V=1_2_0.2^',\n",
      " 'klambda_k2V_2D_jobc45': '^klambda=4.8_5_0.2,k2V=1_2_0.2^',\n",
      " 'klambda_k2V_2D_jobc46': '^klambda=5.0_5.2_0.2,k2V=1_2_0.2^',\n",
      " 'klambda_k2V_2D_jobc47': '^klambda=5.2_5.4_0.2,k2V=1_2_0.2^',\n",
      " 'klambda_k2V_2D_jobc48': '^klambda=5.4_5.6_0.2,k2V=1_2_0.2^',\n",
      " 'klambda_k2V_2D_jobc49': '^klambda=5.6_5.8_0.2,k2V=1_2_0.2^',\n",
      " 'klambda_k2V_2D_jobc5': '^klambda=-3.2_-3_0.2,k2V=1_2_0.2^',\n",
      " 'klambda_k2V_2D_jobc50': '^klambda=5.8_6_0.2,k2V=1_2_0.2^',\n",
      " 'klambda_k2V_2D_jobc51': '^klambda=6.0_6.2_0.2,k2V=1_2_0.2^',\n",
      " 'klambda_k2V_2D_jobc52': '^klambda=6.2_6.4_0.2,k2V=1_2_0.2^',\n",
      " 'klambda_k2V_2D_jobc53': '^klambda=6.4_6.6_0.2,k2V=1_2_0.2^',\n",
      " 'klambda_k2V_2D_jobc54': '^klambda=6.6_6.8_0.2,k2V=1_2_0.2^',\n",
      " 'klambda_k2V_2D_jobc55': '^klambda=6.8_7_0.2,k2V=1_2_0.2^',\n",
      " 'klambda_k2V_2D_jobc56': '^klambda=7.0_7.2_0.2,k2V=1_2_0.2^',\n",
      " 'klambda_k2V_2D_jobc57': '^klambda=7.2_7.4_0.2,k2V=1_2_0.2^',\n",
      " 'klambda_k2V_2D_jobc58': '^klambda=7.4_7.6_0.2,k2V=1_2_0.2^',\n",
      " 'klambda_k2V_2D_jobc59': '^klambda=7.6_7.8_0.2,k2V=1_2_0.2^',\n",
      " 'klambda_k2V_2D_jobc6': '^klambda=-3.0_-2.8_0.2,k2V=1_2_0.2^',\n",
      " 'klambda_k2V_2D_jobc60': '^klambda=7.8_8_0.2,k2V=1_2_0.2^',\n",
      " 'klambda_k2V_2D_jobc61': '^klambda=8.0_8.2_0.2,k2V=1_2_0.2^',\n",
      " 'klambda_k2V_2D_jobc62': '^klambda=8.2_8.4_0.2,k2V=1_2_0.2^',\n",
      " 'klambda_k2V_2D_jobc63': '^klambda=8.4_8.6_0.2,k2V=1_2_0.2^',\n",
      " 'klambda_k2V_2D_jobc64': '^klambda=8.6_8.8_0.2,k2V=1_2_0.2^',\n",
      " 'klambda_k2V_2D_jobc65': '^klambda=8.8_9_0.2,k2V=1_2_0.2^',\n",
      " 'klambda_k2V_2D_jobc66': '^klambda=9.0_9.2_0.2,k2V=1_2_0.2^',\n",
      " 'klambda_k2V_2D_jobc67': '^klambda=9.2_9.4_0.2,k2V=1_2_0.2^',\n",
      " 'klambda_k2V_2D_jobc68': '^klambda=9.4_9.6_0.2,k2V=1_2_0.2^',\n",
      " 'klambda_k2V_2D_jobc69': '^klambda=9.6_9.8_0.2,k2V=1_2_0.2^',\n",
      " 'klambda_k2V_2D_jobc7': '^klambda=-2.8_-2.6_0.2,k2V=1_2_0.2^',\n",
      " 'klambda_k2V_2D_jobc70': '^klambda=9.8_10_0.2,k2V=1_2_0.2^',\n",
      " 'klambda_k2V_2D_jobc8': '^klambda=-2.6_-2.4_0.2,k2V=1_2_0.2^',\n",
      " 'klambda_k2V_2D_jobc9': '^klambda=-2.4_-2.2_0.2,k2V=1_2_0.2^',\n",
      " 'klambda_k2V_2D_jobd1': '^klambda=-4.0_-3.8_0.2,k2V=2_3_0.2^',\n",
      " 'klambda_k2V_2D_jobd10': '^klambda=-2.2_-2_0.2,k2V=2_3_0.2^',\n",
      " 'klambda_k2V_2D_jobd11': '^klambda=-2.0_-1.8_0.2,k2V=2_3_0.2^',\n",
      " 'klambda_k2V_2D_jobd12': '^klambda=-1.8_-1.6_0.2,k2V=2_3_0.2^',\n",
      " 'klambda_k2V_2D_jobd13': '^klambda=-1.6_-1.4_0.2,k2V=2_3_0.2^',\n",
      " 'klambda_k2V_2D_jobd14': '^klambda=-1.4_-1.2_0.2,k2V=2_3_0.2^',\n",
      " 'klambda_k2V_2D_jobd15': '^klambda=-1.2_-1_0.2,k2V=2_3_0.2^',\n",
      " 'klambda_k2V_2D_jobd16': '^klambda=-1.0_-0.8_0.2,k2V=2_3_0.2^',\n",
      " 'klambda_k2V_2D_jobd17': '^klambda=-0.8_-0.6_0.2,k2V=2_3_0.2^',\n",
      " 'klambda_k2V_2D_jobd18': '^klambda=-0.6_-0.4_0.2,k2V=2_3_0.2^',\n",
      " 'klambda_k2V_2D_jobd19': '^klambda=-0.4_-0.2_0.2,k2V=2_3_0.2^',\n",
      " 'klambda_k2V_2D_jobd2': '^klambda=-3.8_-3.6_0.2,k2V=2_3_0.2^',\n",
      " 'klambda_k2V_2D_jobd20': '^klambda=-0.2_0_0.2,k2V=2_3_0.2^',\n",
      " 'klambda_k2V_2D_jobd21': '^klambda=0.0_0.2_0.2,k2V=2_3_0.2^',\n",
      " 'klambda_k2V_2D_jobd22': '^klambda=0.2_0.4_0.2,k2V=2_3_0.2^',\n",
      " 'klambda_k2V_2D_jobd23': '^klambda=0.4_0.6_0.2,k2V=2_3_0.2^',\n",
      " 'klambda_k2V_2D_jobd24': '^klambda=0.6_0.8_0.2,k2V=2_3_0.2^',\n",
      " 'klambda_k2V_2D_jobd25': '^klambda=0.8_1_0.2,k2V=2_3_0.2^',\n",
      " 'klambda_k2V_2D_jobd26': '^klambda=1.0_1.2_0.2,k2V=2_3_0.2^',\n",
      " 'klambda_k2V_2D_jobd27': '^klambda=1.2_1.4_0.2,k2V=2_3_0.2^',\n",
      " 'klambda_k2V_2D_jobd28': '^klambda=1.4_1.6_0.2,k2V=2_3_0.2^',\n",
      " 'klambda_k2V_2D_jobd29': '^klambda=1.6_1.8_0.2,k2V=2_3_0.2^',\n",
      " 'klambda_k2V_2D_jobd3': '^klambda=-3.6_-3.4_0.2,k2V=2_3_0.2^',\n",
      " 'klambda_k2V_2D_jobd30': '^klambda=1.8_2_0.2,k2V=2_3_0.2^',\n",
      " 'klambda_k2V_2D_jobd31': '^klambda=2.0_2.2_0.2,k2V=2_3_0.2^',\n",
      " 'klambda_k2V_2D_jobd32': '^klambda=2.2_2.4_0.2,k2V=2_3_0.2^',\n",
      " 'klambda_k2V_2D_jobd33': '^klambda=2.4_2.6_0.2,k2V=2_3_0.2^',\n",
      " 'klambda_k2V_2D_jobd34': '^klambda=2.6_2.8_0.2,k2V=2_3_0.2^',\n",
      " 'klambda_k2V_2D_jobd35': '^klambda=2.8_3_0.2,k2V=2_3_0.2^',\n",
      " 'klambda_k2V_2D_jobd36': '^klambda=3.0_3.2_0.2,k2V=2_3_0.2^',\n",
      " 'klambda_k2V_2D_jobd37': '^klambda=3.2_3.4_0.2,k2V=2_3_0.2^',\n",
      " 'klambda_k2V_2D_jobd38': '^klambda=3.4_3.6_0.2,k2V=2_3_0.2^',\n",
      " 'klambda_k2V_2D_jobd39': '^klambda=3.6_3.8_0.2,k2V=2_3_0.2^',\n",
      " 'klambda_k2V_2D_jobd4': '^klambda=-3.4_-3.2_0.2,k2V=2_3_0.2^',\n",
      " 'klambda_k2V_2D_jobd40': '^klambda=3.8_4_0.2,k2V=2_3_0.2^',\n",
      " 'klambda_k2V_2D_jobd41': '^klambda=4.0_4.2_0.2,k2V=2_3_0.2^',\n",
      " 'klambda_k2V_2D_jobd42': '^klambda=4.2_4.4_0.2,k2V=2_3_0.2^',\n",
      " 'klambda_k2V_2D_jobd43': '^klambda=4.4_4.6_0.2,k2V=2_3_0.2^',\n",
      " 'klambda_k2V_2D_jobd44': '^klambda=4.6_4.8_0.2,k2V=2_3_0.2^',\n",
      " 'klambda_k2V_2D_jobd45': '^klambda=4.8_5_0.2,k2V=2_3_0.2^',\n",
      " 'klambda_k2V_2D_jobd46': '^klambda=5.0_5.2_0.2,k2V=2_3_0.2^',\n",
      " 'klambda_k2V_2D_jobd47': '^klambda=5.2_5.4_0.2,k2V=2_3_0.2^',\n",
      " 'klambda_k2V_2D_jobd48': '^klambda=5.4_5.6_0.2,k2V=2_3_0.2^',\n",
      " 'klambda_k2V_2D_jobd49': '^klambda=5.6_5.8_0.2,k2V=2_3_0.2^',\n",
      " 'klambda_k2V_2D_jobd5': '^klambda=-3.2_-3_0.2,k2V=2_3_0.2^',\n",
      " 'klambda_k2V_2D_jobd50': '^klambda=5.8_6_0.2,k2V=2_3_0.2^',\n",
      " 'klambda_k2V_2D_jobd51': '^klambda=6.0_6.2_0.2,k2V=2_3_0.2^',\n",
      " 'klambda_k2V_2D_jobd52': '^klambda=6.2_6.4_0.2,k2V=2_3_0.2^',\n",
      " 'klambda_k2V_2D_jobd53': '^klambda=6.4_6.6_0.2,k2V=2_3_0.2^',\n",
      " 'klambda_k2V_2D_jobd54': '^klambda=6.6_6.8_0.2,k2V=2_3_0.2^',\n",
      " 'klambda_k2V_2D_jobd55': '^klambda=6.8_7_0.2,k2V=2_3_0.2^',\n",
      " 'klambda_k2V_2D_jobd56': '^klambda=7.0_7.2_0.2,k2V=2_3_0.2^',\n",
      " 'klambda_k2V_2D_jobd57': '^klambda=7.2_7.4_0.2,k2V=2_3_0.2^',\n",
      " 'klambda_k2V_2D_jobd58': '^klambda=7.4_7.6_0.2,k2V=2_3_0.2^',\n",
      " 'klambda_k2V_2D_jobd59': '^klambda=7.6_7.8_0.2,k2V=2_3_0.2^',\n",
      " 'klambda_k2V_2D_jobd6': '^klambda=-3.0_-2.8_0.2,k2V=2_3_0.2^',\n",
      " 'klambda_k2V_2D_jobd60': '^klambda=7.8_8_0.2,k2V=2_3_0.2^',\n",
      " 'klambda_k2V_2D_jobd61': '^klambda=8.0_8.2_0.2,k2V=2_3_0.2^',\n",
      " 'klambda_k2V_2D_jobd62': '^klambda=8.2_8.4_0.2,k2V=2_3_0.2^',\n",
      " 'klambda_k2V_2D_jobd63': '^klambda=8.4_8.6_0.2,k2V=2_3_0.2^',\n",
      " 'klambda_k2V_2D_jobd64': '^klambda=8.6_8.8_0.2,k2V=2_3_0.2^',\n",
      " 'klambda_k2V_2D_jobd65': '^klambda=8.8_9_0.2,k2V=2_3_0.2^',\n",
      " 'klambda_k2V_2D_jobd66': '^klambda=9.0_9.2_0.2,k2V=2_3_0.2^',\n",
      " 'klambda_k2V_2D_jobd67': '^klambda=9.2_9.4_0.2,k2V=2_3_0.2^',\n",
      " 'klambda_k2V_2D_jobd68': '^klambda=9.4_9.6_0.2,k2V=2_3_0.2^',\n",
      " 'klambda_k2V_2D_jobd69': '^klambda=9.6_9.8_0.2,k2V=2_3_0.2^',\n",
      " 'klambda_k2V_2D_jobd7': '^klambda=-2.8_-2.6_0.2,k2V=2_3_0.2^',\n",
      " 'klambda_k2V_2D_jobd70': '^klambda=9.8_10_0.2,k2V=2_3_0.2^',\n",
      " 'klambda_k2V_2D_jobd8': '^klambda=-2.6_-2.4_0.2,k2V=2_3_0.2^',\n",
      " 'klambda_k2V_2D_jobd9': '^klambda=-2.4_-2.2_0.2,k2V=2_3_0.2^'}\n"
     ]
    }
   ],
   "source": [
    "param_expr_maps = {}\n",
    "# param_expr_maps.update(create_job('klambda=-15_20_0.2,kt=-2_-1_0.2', 'klambda_kt_2D', suf='a'))\n",
    "# param_expr_maps.update(create_job('klambda=-15_20_0.2,kt=-1_0_0.2', 'klambda_kt_2D', suf='b'))\n",
    "# param_expr_maps.update(create_job('klambda=-15_20_0.2,kt=0_1_0.2', 'klambda_kt_2D', suf='c'))\n",
    "# param_expr_maps.update(create_job('klambda=-15_20_0.2,kt=1_2_0.2', 'klambda_kt_2D', suf='d'))\n",
    "# param_expr_maps.update(create_job('klambda=-15_20_0.2,kt=2_3_0.2', 'klambda_kt_2D', suf='e'))\n",
    "# param_expr_maps.update(create_job('kV=-3_-2_0.2,k2V=-4_10_0.2', 'kV_k2V_2D', suf='a'))\n",
    "# param_expr_maps.update(create_job('kV=-2_-1_0.2,k2V=-4_10_0.2', 'kV_k2V_2D', suf='b'))\n",
    "# param_expr_maps.update(create_job('kV=-1_0_0.2,k2V=-4_10_0.2', 'kV_k2V_2D', suf='c'))\n",
    "# param_expr_maps.update(create_job('kV=0_1_0.2,k2V=-4_10_0.2', 'kV_k2V_2D', suf='d'))\n",
    "# param_expr_maps.update(create_job('kV=1_2_0.2,k2V=-4_10_0.2', 'kV_k2V_2D', suf='e'))\n",
    "# param_expr_maps.update(create_job('kV=2_3_0.2,k2V=-4_10_0.2', 'kV_k2V_2D', suf='f'))\n",
    "param_expr_maps.update(create_job('klambda=-4_10_0.2,k2V=-1_0_0.2', 'klambda_k2V_2D', suf='a'))\n",
    "param_expr_maps.update(create_job('klambda=-4_10_0.2,k2V=0_1_0.2', 'klambda_k2V_2D', suf='b'))\n",
    "param_expr_maps.update(create_job('klambda=-4_10_0.2,k2V=1_2_0.2', 'klambda_k2V_2D', suf='c'))\n",
    "param_expr_maps.update(create_job('klambda=-4_10_0.2,k2V=2_3_0.2', 'klambda_k2V_2D', suf='d'))\n",
    "\n",
    "print(len(param_expr_maps))\n",
    "pprint(param_expr_maps)"
   ]
  },
  {
   "cell_type": "code",
   "execution_count": 19,
   "id": "d0323cb3",
   "metadata": {
    "scrolled": false
   },
   "outputs": [
    {
     "name": "stdout",
     "output_type": "stream",
     "text": [
      "#########################################################################################\n",
      "# Channel: bbbb\n",
      "# Dataset: observed\n",
      "\n",
      "# Dataset: expected\n",
      "\n",
      "#########################################################################################\n",
      "#########################################################################################\n",
      "# Channel: bbtautau\n",
      "# Dataset: observed\n",
      "\n",
      "# Dataset: expected\n",
      "\n",
      "#########################################################################################\n",
      "#########################################################################################\n",
      "# Channel: bbyy\n",
      "# Dataset: observed\n",
      "\n",
      "# Dataset: expected\n",
      "\n",
      "#########################################################################################\n",
      "#########################################################################################\n",
      "# Channel: combined\n",
      "# Dataset: observed\n",
      "\n",
      "# Dataset: expected\n",
      "\n",
      "#########################################################################################\n"
     ]
    }
   ],
   "source": [
    "condor = False\n",
    "\n",
    "likelihood_scan_cmds = {}\n",
    "for channel in fitted_ws_paths:\n",
    "    likelihood_scan_cmds[channel] = {}\n",
    "    fitted_ws_path = fitted_ws_paths[channel]\n",
    "    for dataset_type, dataset_name in datasets.items():\n",
    "        likelihood_scan_cmds[channel][dataset_type] = {}\n",
    "        for key, expr in param_expr_maps.items():\n",
    "            if condor and 'final' in key:\n",
    "                continue\n",
    "            if not condor and 'job' in key:\n",
    "                continue\n",
    "            if 'final' in key:\n",
    "                outdir = os.path.join(paths['output'], 'likelihood', dataset_type, channel, key.replace('_final', ''))\n",
    "            else:\n",
    "                outdir = os.path.join(paths['output'], 'likelihood', dataset_type, channel, (key+'1')[:key.find('_job')])\n",
    "            pois = ParamParser._get_param_str_attributes(expr)\n",
    "            pois = [p.replace('^', '') for p in pois]\n",
    "            if dataset_type == \"observed\":\n",
    "                snapshot_name = f\"obs_bestfit_{'_'.join(pois)}\"\n",
    "            else:\n",
    "                snapshot_name = dataset_name\n",
    "            options = {\n",
    "                \"input_file\" : fitted_ws_path,\n",
    "                \"data\": dataset_name,\n",
    "                \"param_expr\": expr,\n",
    "                'outdir': outdir,\n",
    "                'snapshot': snapshot_name,\n",
    "                **minimizer_options\n",
    "            }\n",
    "            cmd_str = \"quickstats likelihood_scan \" + \\\n",
    "                      \" \".join([f\"--{key} {value}\" for key, value in options.items()])\n",
    "            likelihood_scan_cmds[channel][dataset_type][key] = cmd_str\n",
    "            \n",
    "            \n",
    "if condor:\n",
    "    print('save to', f'job{withbr}.txt')\n",
    "    original_stdout = sys.stdout\n",
    "    sys.stdout = open(f'job{withbr}.txt', 'w')\n",
    "for channel in likelihood_scan_cmds:\n",
    "    if not condor:\n",
    "        print(\"#########################################################################################\")\n",
    "    print(f\"# Channel: {channel}\")\n",
    "    for dataset_type in likelihood_scan_cmds[channel]:\n",
    "        print(f\"# Dataset: {dataset_type}\")\n",
    "        for key in likelihood_scan_cmds[channel][dataset_type]:\n",
    "            if not condor:\n",
    "                print(f\"# Scan parameters: {key}\")\n",
    "            cmd_str = likelihood_scan_cmds[channel][dataset_type][key]\n",
    "            if not condor:\n",
    "                print(cmd_str.replace('^', '\"'))\n",
    "            else:\n",
    "                print(\"Arguments =\", cmd_str.replace(' ', '____'))\n",
    "                print(\"Queue 1\")\n",
    "        print()\n",
    "    if not condor:\n",
    "        print(\"#########################################################################################\")\n",
    "\n",
    "if condor: \n",
    "    sys.stdout = original_stdout"
   ]
  },
  {
   "cell_type": "markdown",
   "id": "88321681",
   "metadata": {},
   "source": [
    "## Best fit"
   ]
  },
  {
   "cell_type": "code",
   "execution_count": 20,
   "id": "d1c18768",
   "metadata": {},
   "outputs": [],
   "source": [
    "from quickstats.components import AnalysisBase\n",
    "from pdb import set_trace"
   ]
  },
  {
   "cell_type": "code",
   "execution_count": 21,
   "id": "7ded4ab7",
   "metadata": {},
   "outputs": [],
   "source": [
    "if \"hh_combination_fw_path\" not in os.environ:\n",
    "    os.environ['hh_combination_fw_path'] = os.path.abspath(\"../../\")\n",
    "basedir = os.environ['hh_combination_fw_path']+'/tutorials/HHH2022/outputs_HHH2022_20220520_with_BR_decorrelation/'\n",
    "\n",
    "ws_paths = {\n",
    "    \"bbbb\": os.path.join(basedir, \"rescaled/nonres/bbbb/0_fitted.root\"),\n",
    "    \"bbtautau\": os.path.join(basedir, \"rescaled/nonres/bbtautau/0_fitted.root\"),\n",
    "    \"bbyy\": os.path.join(basedir, \"rescaled/nonres/bbyy/0_fitted.root\"),\n",
    "    \"combined\": os.path.join(basedir, \"combined/nonres/A-bbbb_bbtautau_bbyy-fullcorr/0_fitted.root\")\n",
    "}"
   ]
  },
  {
   "cell_type": "code",
   "execution_count": 22,
   "id": "c3a604e2",
   "metadata": {},
   "outputs": [],
   "source": [
    "poi_scenarios = [\"klambda\", [\"klambda\", \"kt\"], \"k2V\", [\"kV\", \"k2V\"], \"kF\", \"kt\", \"kV\"]\n",
    "channels = [\"bbbb\", \"bbtautau\", \"bbyy\", \"combined\"]\n",
    "datasets = [\"observed\", \"expected\"]"
   ]
  },
  {
   "cell_type": "code",
   "execution_count": 24,
   "id": "5b85c621",
   "metadata": {
    "scrolled": false
   },
   "outputs": [
    {
     "name": "stdout",
     "output_type": "stream",
     "text": [
      "Scenario: klambda, Channel: bbbb, Dataset: observed\n",
      "INFO: Loaded extension module \"FlexibleInterpVarMkII\"\n",
      "INFO: Opening file \"/afs/cern.ch/work/z/zhangr/HHcomb/hh_combination_fw/hh_combination_fw/tutorials/HHH2022/outputs_HHH2022_20220520_with_BR_decorrelation/rescaled/nonres/bbbb/0_fitted.root\"\n",
      "INFO: Loaded workspace \"combWS\"\n",
      "INFO: Loaded model config \"ModelConfig\"\n",
      "INFO: Activated binned likelihood attribute for ggf_16_dEta_1_Xhh_1_model\n",
      "INFO: Activated binned likelihood attribute for ggf_16_dEta_1_Xhh_2_model\n",
      "INFO: Activated binned likelihood attribute for ggf_16_dEta_2_Xhh_1_model\n",
      "INFO: Activated binned likelihood attribute for ggf_16_dEta_2_Xhh_2_model\n",
      "INFO: Activated binned likelihood attribute for ggf_16_dEta_3_Xhh_1_model\n",
      "INFO: Activated binned likelihood attribute for ggf_16_dEta_3_Xhh_2_model\n",
      "INFO: Activated binned likelihood attribute for ggf_17_dEta_1_Xhh_1_model\n",
      "INFO: Activated binned likelihood attribute for ggf_17_dEta_1_Xhh_2_model\n",
      "INFO: Activated binned likelihood attribute for ggf_17_dEta_2_Xhh_1_model\n",
      "INFO: Activated binned likelihood attribute for ggf_17_dEta_2_Xhh_2_model\n",
      "INFO: Activated binned likelihood attribute for ggf_17_dEta_3_Xhh_1_model\n",
      "INFO: Activated binned likelihood attribute for ggf_17_dEta_3_Xhh_2_model\n",
      "INFO: Activated binned likelihood attribute for ggf_18_dEta_1_Xhh_1_model\n",
      "INFO: Activated binned likelihood attribute for ggf_18_dEta_1_Xhh_2_model\n",
      "INFO: Activated binned likelihood attribute for ggf_18_dEta_2_Xhh_1_model\n",
      "INFO: Activated binned likelihood attribute for ggf_18_dEta_2_Xhh_2_model\n",
      "INFO: Activated binned likelihood attribute for ggf_18_dEta_3_Xhh_1_model\n",
      "INFO: Activated binned likelihood attribute for ggf_18_dEta_3_Xhh_2_model\n",
      "INFO: Activated binned likelihood attribute for vbf_-1_dEta_1_model\n",
      "INFO: Activated binned likelihood attribute for vbf_-1_dEta_2_model\n",
      "INFO: Loaded model pdf \"simPdf\" from model config\n",
      "INFO: Loaded dataset \"combData\" from workspace\n",
      "INFO: Loaded nuisance parameters from model config\n",
      "INFO: Loaded global observables from model config\n",
      "INFO: Loaded parameters of interest from model config\n",
      "INFO: Loaded observables from model config\n",
      "INFO: Loaded snapshot \"obs_bestfit_klambda\"\n",
      "INFO: POI set to \"klambda\"\n",
      "INFO: Created ExtendedMinimizer(\"Minimizer\") instance\n",
      "INFO: NLL evaluation completed with\n",
      "    best fit : klambda=6.18015\n",
      "  uncond NLL = 52486.24885\n",
      "        time = (uncond_fit) 168.241, (cond_fit) 0.000\n",
      "Scenario: klambda, Channel: bbbb, Dataset: expected\n",
      "Scenario: klambda, Channel: bbtautau, Dataset: observed\n",
      "Scenario: klambda, Channel: bbtautau, Dataset: expected\n",
      "Scenario: klambda, Channel: bbyy, Dataset: observed\n",
      "Scenario: klambda, Channel: bbyy, Dataset: expected\n",
      "Scenario: klambda, Channel: combined, Dataset: observed\n",
      "Scenario: klambda, Channel: combined, Dataset: expected\n",
      "Scenario: ['klambda', 'kt'], Channel: bbbb, Dataset: observed\n",
      "Scenario: ['klambda', 'kt'], Channel: bbbb, Dataset: expected\n",
      "Scenario: ['klambda', 'kt'], Channel: bbtautau, Dataset: observed\n",
      "Scenario: ['klambda', 'kt'], Channel: bbtautau, Dataset: expected\n",
      "Scenario: ['klambda', 'kt'], Channel: bbyy, Dataset: observed\n",
      "Scenario: ['klambda', 'kt'], Channel: bbyy, Dataset: expected\n",
      "Scenario: ['klambda', 'kt'], Channel: combined, Dataset: observed\n",
      "Scenario: ['klambda', 'kt'], Channel: combined, Dataset: expected\n",
      "Scenario: k2V, Channel: bbbb, Dataset: observed\n",
      "Scenario: k2V, Channel: bbbb, Dataset: expected\n",
      "Scenario: k2V, Channel: bbtautau, Dataset: observed\n",
      "Scenario: k2V, Channel: bbtautau, Dataset: expected\n",
      "Scenario: k2V, Channel: bbyy, Dataset: observed\n",
      "Scenario: k2V, Channel: bbyy, Dataset: expected\n",
      "Scenario: k2V, Channel: combined, Dataset: observed\n",
      "Scenario: k2V, Channel: combined, Dataset: expected\n",
      "Scenario: ['kV', 'k2V'], Channel: bbbb, Dataset: observed\n",
      "Scenario: ['kV', 'k2V'], Channel: bbbb, Dataset: expected\n",
      "Scenario: ['kV', 'k2V'], Channel: bbtautau, Dataset: observed\n",
      "Scenario: ['kV', 'k2V'], Channel: bbtautau, Dataset: expected\n",
      "Scenario: ['kV', 'k2V'], Channel: bbyy, Dataset: observed\n",
      "Scenario: ['kV', 'k2V'], Channel: bbyy, Dataset: expected\n",
      "Scenario: ['kV', 'k2V'], Channel: combined, Dataset: observed\n",
      "Scenario: ['kV', 'k2V'], Channel: combined, Dataset: expected\n",
      "Scenario: kF, Channel: bbbb, Dataset: observed\n",
      "Scenario: kF, Channel: bbbb, Dataset: expected\n",
      "Scenario: kF, Channel: bbtautau, Dataset: observed\n",
      "Scenario: kF, Channel: bbtautau, Dataset: expected\n",
      "Scenario: kF, Channel: bbyy, Dataset: observed\n",
      "Scenario: kF, Channel: bbyy, Dataset: expected\n",
      "Scenario: kF, Channel: combined, Dataset: observed\n",
      "Scenario: kF, Channel: combined, Dataset: expected\n",
      "Scenario: kt, Channel: bbbb, Dataset: observed\n",
      "Scenario: kt, Channel: bbbb, Dataset: expected\n",
      "Scenario: kt, Channel: bbtautau, Dataset: observed\n",
      "Scenario: kt, Channel: bbtautau, Dataset: expected\n",
      "Scenario: kt, Channel: bbyy, Dataset: observed\n",
      "Scenario: kt, Channel: bbyy, Dataset: expected\n",
      "Scenario: kt, Channel: combined, Dataset: observed\n",
      "Scenario: kt, Channel: combined, Dataset: expected\n",
      "Scenario: kV, Channel: bbbb, Dataset: observed\n",
      "Scenario: kV, Channel: bbbb, Dataset: expected\n",
      "Scenario: kV, Channel: bbtautau, Dataset: observed\n",
      "Scenario: kV, Channel: bbtautau, Dataset: expected\n",
      "Scenario: kV, Channel: bbyy, Dataset: observed\n",
      "Scenario: kV, Channel: bbyy, Dataset: expected\n",
      "Scenario: kV, Channel: combined, Dataset: observed\n",
      "Scenario: kV, Channel: combined, Dataset: expected\n"
     ]
    }
   ],
   "source": [
    "bestfit_results = {}\n",
    "for poi_scenario in poi_scenarios:\n",
    "    \n",
    "    if isinstance(poi_scenario, list):\n",
    "        poi_str = \"_\".join(poi_scenario)\n",
    "    else:\n",
    "        poi_str = poi_scenario\n",
    "    bestfit_results[poi_str] = {}\n",
    "    for channel in channels:\n",
    "        bestfit_results[poi_str][channel] = {}\n",
    "        for dataset in datasets:\n",
    "            print(f\"Scenario: {poi_scenario}, Channel: {channel}, Dataset: {dataset}\")\n",
    "            if dataset == \"observed\":\n",
    "                data_name = \"combData\"\n",
    "                if isinstance(poi_scenario, str):\n",
    "                    snapshot_name = f\"obs_bestfit_{poi_scenario}\"\n",
    "                else:\n",
    "                    snapshot_name = f\"obs_bestfit_\" + \"_\".join(poi_scenario)\n",
    "            else:\n",
    "                data_name = \"asimovData_muhat_NP_Profile\"\n",
    "                snapshot_name = \"asimovData_muhat_NP_Profile\"\n",
    "            outdir = os.path.join(basedir, \"bestfit\", dataset, channel, poi_str)\n",
    "            if not os.path.exists(outdir):\n",
    "                os.makedirs(outdir)\n",
    "            outpath = os.path.join(outdir, \"bestfit.json\")\n",
    "            if os.path.exists(outpath):\n",
    "                continue\n",
    "            analysis = AnalysisBase(ws_paths[channel], data_name=data_name, poi_name=poi_scenario,\n",
    "                        config={\"snapshot_name\": snapshot_name})\n",
    "            result = analysis.nll_fit(mode=1, do_minos=True)\n",
    "            with open(outpath, \"w\") as out:\n",
    "                json.dump(result, out, indent=2)"
   ]
  },
  {
   "cell_type": "code",
   "execution_count": 56,
   "id": "a53a7ce9",
   "metadata": {},
   "outputs": [
    {
     "data": {
      "text/plain": [
       "['bbbb', 'bbtautau', 'bbyy', 'combined']"
      ]
     },
     "execution_count": 56,
     "metadata": {},
     "output_type": "execute_result"
    }
   ],
   "source": [
    "channels\n"
   ]
  },
  {
   "cell_type": "code",
   "execution_count": 59,
   "id": "c036fbf3",
   "metadata": {},
   "outputs": [],
   "source": [
    "import pandas as pd\n",
    "poi_str = 'klambda'\n",
    "df_all = []\n",
    "for channel in channels:\n",
    "    for dataset in datasets:\n",
    "        outdir = os.path.join(basedir, \"bestfit\", dataset, channel, poi_str)\n",
    "        outpath = os.path.join(outdir, \"bestfit.json\")\n",
    "        with open(outpath) as fp:\n",
    "            dic = json.load(fp)['uncond_fit']\n",
    "        df = pd.DataFrame.from_dict(dic).drop(['status', 'time', 'nll'], axis=1)\n",
    "        df.insert(0, 'channel', channel)\n",
    "        df.insert(1, 'dataset', dataset)\n",
    "        df_all.append(df)"
   ]
  },
  {
   "cell_type": "code",
   "execution_count": 60,
   "id": "20ea57e9",
   "metadata": {},
   "outputs": [
    {
     "data": {
      "text/html": [
       "<div>\n",
       "<style scoped>\n",
       "    .dataframe tbody tr th:only-of-type {\n",
       "        vertical-align: middle;\n",
       "    }\n",
       "\n",
       "    .dataframe tbody tr th {\n",
       "        vertical-align: top;\n",
       "    }\n",
       "\n",
       "    .dataframe thead th {\n",
       "        text-align: right;\n",
       "    }\n",
       "</style>\n",
       "<table border=\"1\" class=\"dataframe\">\n",
       "  <thead>\n",
       "    <tr style=\"text-align: right;\">\n",
       "      <th></th>\n",
       "      <th>channel</th>\n",
       "      <th>dataset</th>\n",
       "      <th>muhat</th>\n",
       "      <th>muhat_errlo</th>\n",
       "      <th>muhat_errhi</th>\n",
       "    </tr>\n",
       "  </thead>\n",
       "  <tbody>\n",
       "    <tr>\n",
       "      <th>klambda</th>\n",
       "      <td>bbbb</td>\n",
       "      <td>observed</td>\n",
       "      <td>6.180145</td>\n",
       "      <td>-5.246923</td>\n",
       "      <td>2.987439</td>\n",
       "    </tr>\n",
       "    <tr>\n",
       "      <th>klambda</th>\n",
       "      <td>bbbb</td>\n",
       "      <td>expected</td>\n",
       "      <td>1.000000</td>\n",
       "      <td>-3.853597</td>\n",
       "      <td>8.086338</td>\n",
       "    </tr>\n",
       "    <tr>\n",
       "      <th>klambda</th>\n",
       "      <td>bbtautau</td>\n",
       "      <td>observed</td>\n",
       "      <td>1.509777</td>\n",
       "      <td>-2.458107</td>\n",
       "      <td>5.947342</td>\n",
       "    </tr>\n",
       "    <tr>\n",
       "      <th>klambda</th>\n",
       "      <td>bbtautau</td>\n",
       "      <td>expected</td>\n",
       "      <td>1.000007</td>\n",
       "      <td>-2.368745</td>\n",
       "      <td>7.407524</td>\n",
       "    </tr>\n",
       "    <tr>\n",
       "      <th>klambda</th>\n",
       "      <td>bbyy</td>\n",
       "      <td>observed</td>\n",
       "      <td>2.753165</td>\n",
       "      <td>-2.191197</td>\n",
       "      <td>2.001150</td>\n",
       "    </tr>\n",
       "    <tr>\n",
       "      <th>klambda</th>\n",
       "      <td>bbyy</td>\n",
       "      <td>expected</td>\n",
       "      <td>1.000074</td>\n",
       "      <td>-2.425287</td>\n",
       "      <td>5.302334</td>\n",
       "    </tr>\n",
       "    <tr>\n",
       "      <th>klambda</th>\n",
       "      <td>combined</td>\n",
       "      <td>observed</td>\n",
       "      <td>3.086026</td>\n",
       "      <td>-2.042965</td>\n",
       "      <td>1.948701</td>\n",
       "    </tr>\n",
       "    <tr>\n",
       "      <th>klambda</th>\n",
       "      <td>combined</td>\n",
       "      <td>expected</td>\n",
       "      <td>1.000004</td>\n",
       "      <td>-1.789058</td>\n",
       "      <td>5.278904</td>\n",
       "    </tr>\n",
       "  </tbody>\n",
       "</table>\n",
       "</div>"
      ],
      "text/plain": [
       "          channel   dataset     muhat  muhat_errlo  muhat_errhi\n",
       "klambda      bbbb  observed  6.180145    -5.246923     2.987439\n",
       "klambda      bbbb  expected  1.000000    -3.853597     8.086338\n",
       "klambda  bbtautau  observed  1.509777    -2.458107     5.947342\n",
       "klambda  bbtautau  expected  1.000007    -2.368745     7.407524\n",
       "klambda      bbyy  observed  2.753165    -2.191197     2.001150\n",
       "klambda      bbyy  expected  1.000074    -2.425287     5.302334\n",
       "klambda  combined  observed  3.086026    -2.042965     1.948701\n",
       "klambda  combined  expected  1.000004    -1.789058     5.278904"
      ]
     },
     "execution_count": 60,
     "metadata": {},
     "output_type": "execute_result"
    }
   ],
   "source": [
    "pd.concat(df_all)"
   ]
  },
  {
   "cell_type": "code",
   "execution_count": null,
   "id": "d9a848ab",
   "metadata": {},
   "outputs": [],
   "source": []
  }
 ],
 "metadata": {
  "kernelspec": {
   "display_name": "Python 3 (ipykernel)",
   "language": "python",
   "name": "python3"
  },
  "language_info": {
   "codemirror_mode": {
    "name": "ipython",
    "version": 3
   },
   "file_extension": ".py",
   "mimetype": "text/x-python",
   "name": "python",
   "nbconvert_exporter": "python",
   "pygments_lexer": "ipython3",
   "version": "3.9.6"
  }
 },
 "nbformat": 4,
 "nbformat_minor": 5
}
