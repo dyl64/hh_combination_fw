{
 "cells": [
  {
   "cell_type": "code",
   "execution_count": 1,
   "id": "5fe7f869",
   "metadata": {},
   "outputs": [],
   "source": [
    "import os\n",
    "import glob\n",
    "import json\n",
    "import quickstats\n",
    "import sys, numpy as np\n",
    "from quickstats.components import AnalysisBase"
   ]
  },
  {
   "cell_type": "code",
   "execution_count": 2,
   "id": "fab599ae",
   "metadata": {},
   "outputs": [],
   "source": [
    "# make sure hh combination fw path is defined\n",
    "hh_comb_fw_path = os.environ.get('hh_combination_fw_path', None)\n",
    "\n",
    "assert hh_comb_fw_path\n",
    "\n",
    "gen_command = True"
   ]
  },
  {
   "cell_type": "code",
   "execution_count": 3,
   "id": "6cc5f08d",
   "metadata": {},
   "outputs": [],
   "source": [
    "from quickstats.maths.numerics import is_integer, pretty_value\n",
    "from pprint import pprint\n",
    "def create_job(string, key):\n",
    "    tmp = string.split(',')\n",
    "    poi1 = tmp[0].split('=')[0]\n",
    "    poi2 = tmp[1].split('=')[0]\n",
    "    poi1_tmp = tmp[0].split('=')[1].split('_')\n",
    "    poi2_tmp = tmp[1].split('=')[1].split('_')\n",
    "    poi1_range = [float(p) for p in poi1_tmp[0:2]]\n",
    "    poi1_step = float(poi1_tmp[2])\n",
    "    poi2_range = [float(p) for p in poi2_tmp[0:2]]\n",
    "    poi2_step = float(poi2_tmp[2])\n",
    "\n",
    "    poi1_nsteps = int((poi1_range[1] - poi1_range[0]) / poi1_step)\n",
    "    poi2_nsteps = int((poi2_range[1] - poi2_range[0]) / poi2_step)\n",
    "\n",
    "    # slice poi1 with full poi2 range\n",
    "    if poi1_nsteps < poi2_nsteps and poi2_nsteps > 12:\n",
    "        poi1, poi1_range, poi1_step, poi1_nsteps, poi2, poi2_range, poi2_step, poi2_nsteps = poi2, poi2_range, poi2_step, poi2_nsteps, poi1, poi1_range, poi1_step, poi1_nsteps\n",
    "        \n",
    "    poi_slice_up = np.arange(poi1_range[0], poi1_range[1], poi1_step).round(decimals=2)\n",
    "    new_dict = {}\n",
    "    for i in range(poi1_nsteps):\n",
    "        key_name = key+f'_job{i+1}'\n",
    "        value = f\"^{poi1}={poi_slice_up[i]}_{pretty_value(poi_slice_up[i]+poi1_step)}_{poi1_step},{poi2}={pretty_value(poi2_range[0])}_{pretty_value(poi2_range[1])}_{poi2_step}^\"\n",
    "        new_dict[key_name] = value\n",
    "    return new_dict\n"
   ]
  },
  {
   "cell_type": "markdown",
   "id": "27f661e6",
   "metadata": {},
   "source": [
    "## Step 1: Configure task"
   ]
  },
  {
   "cell_type": "code",
   "execution_count": 4,
   "id": "a485add3",
   "metadata": {},
   "outputs": [],
   "source": [
    "# specify the input timestamp to use\n",
    "timestamp = \"20220520\"\n",
    "withbr = 'with' # 'without'\n",
    "\n",
    "paths = {\n",
    "    'input'              : os.path.join(hh_comb_fw_path, \"FullRun2Workspaces\", \"original\", \"HHH2022\", timestamp),\n",
    "    'task_options'       : os.path.join(hh_comb_fw_path, \"configs\", \"task_options\"       , \"HHH2022\",\n",
    "                                        f\"nonres_kl_kt_likelihood_{withbr}_BR_decorrelation.yaml\"),\n",
    "    'correlation_schemes': os.path.join(hh_comb_fw_path, \"configs\", \"correlation_schemes\", \"HHH2022\", \n",
    "                                        \"nonres_kl_v12.json\"),\n",
    "    #'output'             : os.path.join(os.getcwd(), f\"outputs_HHH2022_{timestamp}\")\n",
    "    'output'             : os.path.join(os.getcwd(), f\"outputs_HHH2022_{timestamp}_{withbr}_BR_decorrelation\")\n",
    "}\n",
    "\n",
    "config = {\n",
    "    'resonant_type': 'nonres',\n",
    "    'channels'     : ['bbbb', 'bbtautau', 'bbyy'],\n",
    "    'file_expr'    : '<mass[F]>_kl',\n",
    "    'blind'        : False,\n",
    "    'cache'        : True,\n",
    "    'experimental' : True,\n",
    "    'parallel'     : -1\n",
    "}\n",
    "\n",
    "options = {\n",
    "    \"input_dir\"    : paths['input'],\n",
    "    \"resonant_type\": config['resonant_type'],\n",
    "    \"channels\"     : \",\".join(config['channels']),\n",
    "    \"outdir\"       : paths['output'],\n",
    "    \"file_expr\"    : f\"\\\"{config['file_expr']}\\\"\",\n",
    "    \"config\"       : paths['task_options'],\n",
    "    \"parallel\"     : config['parallel'],\n",
    "    \"skip-limit\"   : \"\"\n",
    "}"
   ]
  },
  {
   "cell_type": "markdown",
   "id": "37cd2c1d",
   "metadata": {},
   "source": [
    "## Step 2: Prepare modified channel workspaces"
   ]
  },
  {
   "cell_type": "code",
   "execution_count": 5,
   "id": "e938d278",
   "metadata": {},
   "outputs": [
    {
     "name": "stdout",
     "output_type": "stream",
     "text": [
      "HHComb process_channels --input_dir /afs/cern.ch/work/z/zhangr/HHcomb/hh_combination_fw/hh_combination_fw/FullRun2Workspaces/original/HHH2022/20220520 --resonant_type nonres --channels bbbb,bbtautau,bbyy --outdir /afs/cern.ch/work/z/zhangr/HHcomb/hh_combination_fw/hh_combination_fw/tutorials/HHH2022/outputs_HHH2022_20220520_with_BR_decorrelation --file_expr \"<mass[F]>_kl\" --config /afs/cern.ch/work/z/zhangr/HHcomb/hh_combination_fw/hh_combination_fw/configs/task_options/HHH2022/nonres_kl_kt_likelihood_with_BR_decorrelation.yaml --parallel -1 --skip-limit  --experimental  --cache \n"
     ]
    }
   ],
   "source": [
    "if config[\"blind\"]:\n",
    "    options[\"blind\"] = \"\"\n",
    "else:\n",
    "    options[\"unblind\"] : \"\"\n",
    "if config[\"experimental\"]:\n",
    "    options[\"experimental\"] = \"\"\n",
    "else:\n",
    "    options[\"official\"] : \"\"\n",
    "if config['cache']:\n",
    "    options['cache'] = \"\"\n",
    "else:\n",
    "    options['no-cache'] = \"\"\n",
    "command_str = \"HHComb process_channels \" + \" \".join([f\"--{key} {value}\" for key, value in options.items()])\n",
    "print(command_str)"
   ]
  },
  {
   "cell_type": "code",
   "execution_count": 6,
   "id": "ba857a3c",
   "metadata": {},
   "outputs": [],
   "source": [
    "if not gen_command:\n",
    "    os.system(command_str)"
   ]
  },
  {
   "cell_type": "markdown",
   "id": "f89915d5",
   "metadata": {},
   "source": [
    "## Step 3: Prepare combined workspace"
   ]
  },
  {
   "cell_type": "code",
   "execution_count": 7,
   "id": "2dd32434",
   "metadata": {},
   "outputs": [
    {
     "name": "stdout",
     "output_type": "stream",
     "text": [
      "HHComb combine_ws --input_dir /afs/cern.ch/work/z/zhangr/HHcomb/hh_combination_fw/hh_combination_fw/tutorials/HHH2022/outputs_HHH2022_20220520_with_BR_decorrelation --resonant_type nonres --channels bbbb,bbtautau,bbyy --file_expr \"<mass[F]>_kl\" --config /afs/cern.ch/work/z/zhangr/HHcomb/hh_combination_fw/hh_combination_fw/configs/task_options/HHH2022/nonres_kl_kt_likelihood_with_BR_decorrelation.yaml --scheme /afs/cern.ch/work/z/zhangr/HHcomb/hh_combination_fw/hh_combination_fw/configs/correlation_schemes/HHH2022/nonres_kl_v12.json --parallel -1 --skip-limit  --experimental  --cache \n"
     ]
    }
   ],
   "source": [
    "def return_combine_command(paths, config):\n",
    "    options = {\n",
    "        \"input_dir\"    : paths['output'],\n",
    "        \"resonant_type\": config['resonant_type'],\n",
    "        \"channels\"     : \",\".join(config['channels']),\n",
    "        \"file_expr\"    : f\"\\\"{config['file_expr']}\\\"\",\n",
    "        \"config\"       : paths['task_options'],\n",
    "        \"scheme\"       : paths['correlation_schemes'],\n",
    "        \"parallel\"     : config['parallel'],\n",
    "        \"skip-limit\"   : \"\"\n",
    "    }\n",
    "    if config[\"blind\"]:\n",
    "        options[\"blind\"] = \"\"\n",
    "    else:\n",
    "        options[\"unblind\"] : \"\"\n",
    "    if config[\"experimental\"]:\n",
    "        options[\"experimental\"] = \"\"\n",
    "    else:\n",
    "        options[\"official\"] : \"\"\n",
    "    if config['cache']:\n",
    "        options['cache'] = \"\"\n",
    "    else:\n",
    "        options['no-cache'] = \"\"\n",
    "    command_str = \"HHComb combine_ws \" + \" \".join([f\"--{key} {value}\" for key, value in options.items()])\n",
    "    print(command_str)\n",
    "    return command_str\n",
    "\n",
    "command_str = return_combine_command(paths, config)"
   ]
  },
  {
   "cell_type": "code",
   "execution_count": 8,
   "id": "984c94e0",
   "metadata": {},
   "outputs": [],
   "source": [
    "if not gen_command:\n",
    "    os.system(command_str)"
   ]
  },
  {
   "cell_type": "markdown",
   "id": "bf365de6",
   "metadata": {},
   "source": [
    "**Checkout the rescaled workspace paths**"
   ]
  },
  {
   "cell_type": "code",
   "execution_count": 9,
   "id": "34b31d2a",
   "metadata": {},
   "outputs": [
    {
     "data": {
      "text/plain": [
       "{'bbbb': '/afs/cern.ch/work/z/zhangr/HHcomb/hh_combination_fw/hh_combination_fw/tutorials/HHH2022/outputs_HHH2022_20220520_with_BR_decorrelation/rescaled/nonres/bbbb/0_kl.root',\n",
       " 'bbtautau': '/afs/cern.ch/work/z/zhangr/HHcomb/hh_combination_fw/hh_combination_fw/tutorials/HHH2022/outputs_HHH2022_20220520_with_BR_decorrelation/rescaled/nonres/bbtautau/0_kl.root',\n",
       " 'bbyy': '/afs/cern.ch/work/z/zhangr/HHcomb/hh_combination_fw/hh_combination_fw/tutorials/HHH2022/outputs_HHH2022_20220520_with_BR_decorrelation/rescaled/nonres/bbyy/0_kl.root',\n",
       " 'combined': '/afs/cern.ch/work/z/zhangr/HHcomb/hh_combination_fw/hh_combination_fw/tutorials/HHH2022/outputs_HHH2022_20220520_with_BR_decorrelation/combined/nonres/A-bbbb_bbtautau_bbyy-fullcorr/0_kl.root'}"
      ]
     },
     "execution_count": 9,
     "metadata": {},
     "output_type": "execute_result"
    }
   ],
   "source": [
    "rescaled_ws_paths = {}\n",
    "for channel in config['channels']:\n",
    "    ws_path = os.path.join(paths['output'], 'rescaled', config['resonant_type'], channel, \"0_kl.root\")\n",
    "    rescaled_ws_paths[channel]  = ws_path\n",
    "# rescaled workspace path for combined workspacee\n",
    "ws_path = glob.glob(os.path.join(paths['output'], 'combined', config['resonant_type'], \"*\", \"0_kl.root\"))[0]\n",
    "rescaled_ws_paths[\"combined\"] = ws_path\n",
    "rescaled_ws_paths"
   ]
  },
  {
   "cell_type": "markdown",
   "id": "4937bb2f",
   "metadata": {},
   "source": [
    "## Step 4: Prepare Asimov workspaces"
   ]
  },
  {
   "cell_type": "markdown",
   "id": "2b83b571",
   "metadata": {},
   "source": [
    "**Set up the asimov workspace paths**"
   ]
  },
  {
   "cell_type": "code",
   "execution_count": 10,
   "id": "e328a0f4",
   "metadata": {},
   "outputs": [
    {
     "data": {
      "text/plain": [
       "{'bbbb': '/afs/cern.ch/work/z/zhangr/HHcomb/hh_combination_fw/hh_combination_fw/tutorials/HHH2022/outputs_HHH2022_20220520_with_BR_decorrelation/rescaled/nonres/bbbb/0_asimov.root',\n",
       " 'bbtautau': '/afs/cern.ch/work/z/zhangr/HHcomb/hh_combination_fw/hh_combination_fw/tutorials/HHH2022/outputs_HHH2022_20220520_with_BR_decorrelation/rescaled/nonres/bbtautau/0_asimov.root',\n",
       " 'bbyy': '/afs/cern.ch/work/z/zhangr/HHcomb/hh_combination_fw/hh_combination_fw/tutorials/HHH2022/outputs_HHH2022_20220520_with_BR_decorrelation/rescaled/nonres/bbyy/0_asimov.root',\n",
       " 'combined': '/afs/cern.ch/work/z/zhangr/HHcomb/hh_combination_fw/hh_combination_fw/tutorials/HHH2022/outputs_HHH2022_20220520_with_BR_decorrelation/combined/nonres/A-bbbb_bbtautau_bbyy-fullcorr/0_asimov.root'}"
      ]
     },
     "execution_count": 10,
     "metadata": {},
     "output_type": "execute_result"
    }
   ],
   "source": [
    "asimov_ws_paths = {}\n",
    "for channel in rescaled_ws_paths:\n",
    "    rescaled_ws_path = rescaled_ws_paths[channel]\n",
    "    asimov_ws_path   = os.path.join(os.path.dirname(rescaled_ws_path), \"0_asimov.root\")\n",
    "    asimov_ws_paths[channel] = asimov_ws_path\n",
    "asimov_ws_paths"
   ]
  },
  {
   "cell_type": "markdown",
   "id": "ee361c52",
   "metadata": {},
   "source": [
    "**Generate CLI commands**"
   ]
  },
  {
   "cell_type": "code",
   "execution_count": 11,
   "id": "96896c2a",
   "metadata": {
    "scrolled": true
   },
   "outputs": [
    {
     "name": "stdout",
     "output_type": "stream",
     "text": [
      "quickstats generate_standard_asimov --input_file /afs/cern.ch/work/z/zhangr/HHcomb/hh_combination_fw/hh_combination_fw/tutorials/HHH2022/outputs_HHH2022_20220520_with_BR_decorrelation/rescaled/nonres/bbbb/0_kl.root --output_file /afs/cern.ch/work/z/zhangr/HHcomb/hh_combination_fw/hh_combination_fw/tutorials/HHH2022/outputs_HHH2022_20220520_with_BR_decorrelation/rescaled/nonres/bbbb/0_asimov.root --poi xsec_br --data combData --asimov_types 2 &\n",
      "\n",
      "quickstats generate_standard_asimov --input_file /afs/cern.ch/work/z/zhangr/HHcomb/hh_combination_fw/hh_combination_fw/tutorials/HHH2022/outputs_HHH2022_20220520_with_BR_decorrelation/rescaled/nonres/bbtautau/0_kl.root --output_file /afs/cern.ch/work/z/zhangr/HHcomb/hh_combination_fw/hh_combination_fw/tutorials/HHH2022/outputs_HHH2022_20220520_with_BR_decorrelation/rescaled/nonres/bbtautau/0_asimov.root --poi xsec_br --data combData --asimov_types 2 &\n",
      "\n",
      "quickstats generate_standard_asimov --input_file /afs/cern.ch/work/z/zhangr/HHcomb/hh_combination_fw/hh_combination_fw/tutorials/HHH2022/outputs_HHH2022_20220520_with_BR_decorrelation/rescaled/nonres/bbyy/0_kl.root --output_file /afs/cern.ch/work/z/zhangr/HHcomb/hh_combination_fw/hh_combination_fw/tutorials/HHH2022/outputs_HHH2022_20220520_with_BR_decorrelation/rescaled/nonres/bbyy/0_asimov.root --poi xsec_br --data combData --asimov_types 2 &\n",
      "\n",
      "quickstats generate_standard_asimov --input_file /afs/cern.ch/work/z/zhangr/HHcomb/hh_combination_fw/hh_combination_fw/tutorials/HHH2022/outputs_HHH2022_20220520_with_BR_decorrelation/combined/nonres/A-bbbb_bbtautau_bbyy-fullcorr/0_kl.root --output_file /afs/cern.ch/work/z/zhangr/HHcomb/hh_combination_fw/hh_combination_fw/tutorials/HHH2022/outputs_HHH2022_20220520_with_BR_decorrelation/combined/nonres/A-bbbb_bbtautau_bbyy-fullcorr/0_asimov.root --poi xsec_br --data combData --asimov_types 2 &\n",
      "\n"
     ]
    }
   ],
   "source": [
    "options = {\n",
    "    'poi'         : 'xsec_br',\n",
    "    'data'        : 'combData',\n",
    "    'asimov_types': '2'\n",
    "}\n",
    "command_str_map = {}\n",
    "for channel in rescaled_ws_paths:\n",
    "    input_file  = rescaled_ws_paths[channel]\n",
    "    output_file = asimov_ws_paths[channel]\n",
    "    channel_options = {\"input_file\": input_file, \"output_file\": output_file, **options}\n",
    "    channel_command_str = \"quickstats generate_standard_asimov \" + \\\n",
    "                          \" \".join([f\"--{key} {value}\" for key, value in channel_options.items()])\n",
    "    command_str_map[channel] = channel_command_str\n",
    "    print(channel_command_str, '&')\n",
    "    print()"
   ]
  },
  {
   "cell_type": "markdown",
   "id": "43435905",
   "metadata": {},
   "source": [
    "**Generate asimov data**"
   ]
  },
  {
   "cell_type": "code",
   "execution_count": 12,
   "id": "a25e4b1c",
   "metadata": {},
   "outputs": [],
   "source": [
    "if not gen_command:\n",
    "    for channel, command_str in command_str_map.items():\n",
    "        print(f\"INFO: Generating asimov data for the channel \\\"{channel}\\\"\")\n",
    "        os.system(command_str)"
   ]
  },
  {
   "cell_type": "markdown",
   "id": "dab98f89",
   "metadata": {},
   "source": [
    "## Step 5: Prepare post-fit snapshots"
   ]
  },
  {
   "cell_type": "markdown",
   "id": "42898d19",
   "metadata": {},
   "source": [
    "**Set up the fitted workspace paths**"
   ]
  },
  {
   "cell_type": "code",
   "execution_count": 13,
   "id": "cca7333e",
   "metadata": {},
   "outputs": [
    {
     "data": {
      "text/plain": [
       "{'bbbb': '/afs/cern.ch/work/z/zhangr/HHcomb/hh_combination_fw/hh_combination_fw/tutorials/HHH2022/outputs_HHH2022_20220520_with_BR_decorrelation/rescaled/nonres/bbbb/0_fitted.root',\n",
       " 'bbtautau': '/afs/cern.ch/work/z/zhangr/HHcomb/hh_combination_fw/hh_combination_fw/tutorials/HHH2022/outputs_HHH2022_20220520_with_BR_decorrelation/rescaled/nonres/bbtautau/0_fitted.root',\n",
       " 'bbyy': '/afs/cern.ch/work/z/zhangr/HHcomb/hh_combination_fw/hh_combination_fw/tutorials/HHH2022/outputs_HHH2022_20220520_with_BR_decorrelation/rescaled/nonres/bbyy/0_fitted.root',\n",
       " 'combined': '/afs/cern.ch/work/z/zhangr/HHcomb/hh_combination_fw/hh_combination_fw/tutorials/HHH2022/outputs_HHH2022_20220520_with_BR_decorrelation/combined/nonres/A-bbbb_bbtautau_bbyy-fullcorr/0_fitted.root'}"
      ]
     },
     "execution_count": 13,
     "metadata": {},
     "output_type": "execute_result"
    }
   ],
   "source": [
    "fitted_ws_paths = {}\n",
    "for channel in asimov_ws_paths:\n",
    "    asimov_ws_path = asimov_ws_paths[channel]\n",
    "    fitted_ws_path = os.path.join(os.path.dirname(asimov_ws_path), \"0_fitted.root\")\n",
    "    fitted_ws_paths[channel] = fitted_ws_path\n",
    "fitted_ws_paths"
   ]
  },
  {
   "cell_type": "code",
   "execution_count": 14,
   "id": "65344ea5",
   "metadata": {},
   "outputs": [],
   "source": [
    "pois_to_scan = [\"klambda\", \"kt\", \"kV\", \"k2V\", \"kF\", \"kH\", \"ktau\", \"klambda,kt\", \"kV,k2V\"]\n",
    "minimizer_options = {\n",
    "    \"retry\": 2,\n",
    "    \"eps\": 1\n",
    "}\n",
    "# observed and expected datasets\n",
    "datasets = {\n",
    "    \"observed\": \"combData\",\n",
    "    \"expected\": \"asimovData_muhat_NP_Profile\"\n",
    "}"
   ]
  },
  {
   "cell_type": "code",
   "execution_count": 15,
   "id": "7047ad1f",
   "metadata": {},
   "outputs": [
    {
     "name": "stdout",
     "output_type": "stream",
     "text": [
      "Welcome to JupyROOT 6.24/06\n",
      "\n",
      "\u001b[1mRooFit v3.60 -- Developed by Wouter Verkerke and David Kirkby\u001b[0m \n",
      "                Copyright (C) 2000-2013 NIKHEF, University of California & Stanford University\n",
      "                All rights reserved, please read http://roofit.sourceforge.net/license.txt\n",
      "\n"
     ]
    }
   ],
   "source": []
  },
  {
   "cell_type": "code",
   "execution_count": 37,
   "id": "f34cce9b",
   "metadata": {
    "scrolled": true
   },
   "outputs": [
    {
     "name": "stdout",
     "output_type": "stream",
     "text": [
      "==> Channel: bbtautau==> Channel: bbyy==> Channel: combined==> Channel: bbbb\n",
      "\n",
      "\n",
      "\n",
      "INFO: Loaded extension module \"FlexibleInterpVarMkII\"\n",
      "INFO: Loaded extension module \"FlexibleInterpVarMkII\"\n",
      "INFO: Opening file \"/afs/cern.ch/work/z/zhangr/HHcomb/hh_combination_fw/hh_combination_fw/tutorials/HHH2022/outputs_HHH2022_20220520_with_BR_decorrelation/rescaled/nonres/bbtautau/0_asimov.root\"\n",
      "INFO: Opening file \"/afs/cern.ch/work/z/zhangr/HHcomb/hh_combination_fw/hh_combination_fw/tutorials/HHH2022/outputs_HHH2022_20220520_with_BR_decorrelation/combined/nonres/A-bbbb_bbtautau_bbyy-fullcorr/0_asimov.root\"\n",
      "INFO: Loaded extension module \"FlexibleInterpVarMkII\"\n"
     ]
    }
   ],
   "source": [
    "# parallel channels\n",
    "import multiprocessing\n",
    "\n",
    "def run_best_fit(channel):\n",
    "    print(f\"==> Channel: {channel}\")\n",
    "    asimov_ws_path = asimov_ws_paths[channel]\n",
    "    fitted_ws_path = fitted_ws_paths[channel]\n",
    "    kwargs = {\n",
    "        \"filename\" : asimov_ws_path,\n",
    "        # only need to generate snapshot for observed data\n",
    "        \"data_name\": datasets[\"observed\"],\n",
    "        \"poi_name\": [],\n",
    "        \"config\": {**minimizer_options}\n",
    "    }\n",
    "    analysis = AnalysisBase(**kwargs)\n",
    "    # fix all pois at the beginning\n",
    "    analysis.setup_parameters(fix_param=\"<pois>\")\n",
    "    analysis.save_snapshot(analysis.kTempSnapshotName)\n",
    "    for poi_expr in pois_to_scan:\n",
    "        print(f\"==> POIs: {poi_expr}\")\n",
    "        analysis.setup_parameters(profile_param=poi_expr)\n",
    "        analysis.nll_fit(mode=3)\n",
    "        pois = poi_expr.split(\",\")\n",
    "        snapshot_name = f\"obs_bestfit_{'_'.join(pois)}\"\n",
    "        # save best-fit snapshot\n",
    "        analysis.save_snapshot(snapshot_name)\n",
    "        analysis.load_snapshot(analysis.kTempSnapshotName)\n",
    "    # restore initial snapshot\n",
    "    analysis.load_snapshot(analysis.kInitialSnapshotName)\n",
    "    analysis.save(fitted_ws_path)\n",
    "\n",
    "def driver_func():\n",
    "    PROCESSES = len(fitted_ws_paths)\n",
    "    with multiprocessing.Pool(PROCESSES) as pool:\n",
    "        channels = list(fitted_ws_paths.keys())\n",
    "        results = [pool.apply_async(run_best_fit, (c, )) for c in channels]\n",
    "\n",
    "        for r in results:\n",
    "            print('\\t', r.get())\n",
    "\n",
    "if not gen_command:\n",
    "    driver_func()\n",
    "\n"
   ]
  },
  {
   "cell_type": "markdown",
   "id": "c77a09ca",
   "metadata": {},
   "source": [
    "- By now, you should have the workspace `0_fitted.root` for each channel\n",
    "- Inside `0_fitted.root`, you have the observed dataset `combData` and the asimov dataset `asimovData_muhat_NP_Profile`\n",
    "- For each dataset, there are the corresponding muhat snapshots designed for each likelihood scan, e.g.\n",
    "  - obs_bestfit_klambda, obs_bestfit_kt, obs_bestfit_kV, obs_bestfit_k2V, obs_bestfit_klambda_kt, obs_bestfit_kV_k2V\n",
    "  - exp_bestfit_klambda, exp_bestfit_kt, exp_bestfit_kV, exp_bestfit_k2V, exp_bestfit_klambda_kt, exp_bestfit_kV_k2V"
   ]
  },
  {
   "cell_type": "markdown",
   "id": "cffe5fa1",
   "metadata": {},
   "source": [
    "## Step 6: Run likelihood scans"
   ]
  },
  {
   "cell_type": "markdown",
   "id": "86e52873",
   "metadata": {},
   "source": [
    "**Only commands are shown here since the jobs are computationally intensive**"
   ]
  },
  {
   "cell_type": "code",
   "execution_count": 38,
   "id": "1746f452",
   "metadata": {},
   "outputs": [],
   "source": [
    "from quickstats.parsers import ParamParser\n",
    "\n",
    "# use '_job' + suffix to split scan range\n",
    "param_expr_maps = {\n",
    "    'klambda': \"^klambda=-6_12_0.2^\",\n",
    "    \"klambda_kt_profile\": \"^klambda=-16_20_0.4,kt^\",\n",
    "    \"klambda_kt_2D_final\": \"^klambda=-15_20_0.2,kt=-2_3_0.2^\",\n",
    "    \"kt\": \"^kt=-2_6_0.1^\",\n",
    "    \"kF\": \"^kF=-8_15_0.1^\",\n",
    "    \"kV\": \"^kV=-2.5_2.5_0.1^\",\n",
    "    \"k2V\": \"^k2V=-3_5_0.1^\",\n",
    "    \"kV_k2V_2D_final\": \"^kV=-3_3_0.2,k2V=-4_10_0.2^\",\n",
    "}\n",
    "\n",
    "param_expr_maps.update(create_job('klambda=-15_20_0.2,kt=-2_3_0.2', 'klambda_kt_2D'))\n",
    "param_expr_maps.update(create_job('kV=-3_3_0.2,k2V=-4_10_0.2', 'kV_k2V_2D'))\n",
    "pprint(param_expr_maps)"
   ]
  },
  {
   "cell_type": "code",
   "execution_count": 39,
   "id": "d0323cb3",
   "metadata": {
    "scrolled": true
   },
   "outputs": [],
   "source": [
    "condor = True\n",
    "\n",
    "likelihood_scan_cmds = {}\n",
    "for channel in fitted_ws_paths:\n",
    "    likelihood_scan_cmds[channel] = {}\n",
    "    fitted_ws_path = fitted_ws_paths[channel]\n",
    "    for dataset_type, dataset_name in datasets.items():\n",
    "        likelihood_scan_cmds[channel][dataset_type] = {}\n",
    "        for key, expr in param_expr_maps.items():\n",
    "            if condor and 'final' in key:\n",
    "                continue\n",
    "            if not condor and 'job' in key:\n",
    "                continue\n",
    "            if 'final' in key:\n",
    "                outdir = os.path.join(paths['output'], 'likelihood', dataset_type, channel, key.replace('_final', ''))\n",
    "            else:\n",
    "                outdir = os.path.join(paths['output'], 'likelihood', dataset_type, channel, (key+'1')[:key.find('_job')])\n",
    "            pois = ParamParser._get_param_str_attributes(expr)\n",
    "            pois = [p.replace('^', '') for p in pois]\n",
    "            if dataset_type == \"observed\":\n",
    "                snapshot_name = f\"obs_bestfit_{'_'.join(pois)}\"\n",
    "            else:\n",
    "                snapshot_name = dataset_name\n",
    "            options = {\n",
    "                \"input_file\" : fitted_ws_path,\n",
    "                \"data\": dataset_name,\n",
    "                \"param_expr\": expr,\n",
    "                'outdir': outdir,\n",
    "                'snapshot': snapshot_name,\n",
    "                **minimizer_options\n",
    "            }\n",
    "            cmd_str = \"quickstats likelihood_scan \" + \\\n",
    "                      \" \".join([f\"--{key} {value}\" for key, value in options.items()])\n",
    "            likelihood_scan_cmds[channel][dataset_type][key] = cmd_str\n",
    "            \n",
    "            \n",
    "if condor:\n",
    "    original_stdout = sys.stdout\n",
    "    sys.stdout = open(f'job{withbr}.txt', 'w')\n",
    "for channel in likelihood_scan_cmds:\n",
    "    if not condor:\n",
    "        print(\"#########################################################################################\")\n",
    "    print(f\"# Channel: {channel}\")\n",
    "    for dataset_type in likelihood_scan_cmds[channel]:\n",
    "        print(f\"# Dataset: {dataset_type}\")\n",
    "        for key in likelihood_scan_cmds[channel][dataset_type]:\n",
    "            if not condor:\n",
    "                print(f\"# Scan parameters: {key}\")\n",
    "            cmd_str = likelihood_scan_cmds[channel][dataset_type][key]\n",
    "            if not condor:\n",
    "                print(cmd_str.replace('^', '\"'))\n",
    "            else:\n",
    "                print(\"Arguments =\", cmd_str.replace(' ', '____'))\n",
    "                print(\"Queue 1\")\n",
    "        print()\n",
    "    if not condor:\n",
    "        print(\"#########################################################################################\")\n",
    "\n",
    "if condor: \n",
    "    sys.stdout = original_stdout"
   ]
  },
  {
   "cell_type": "markdown",
   "id": "515f3f11",
   "metadata": {},
   "source": [
    "## Step 7: Run cross section scans"
   ]
  },
  {
   "cell_type": "code",
   "execution_count": 17,
   "id": "77f6fb64",
   "metadata": {},
   "outputs": [],
   "source": [
    "# specify the input timestamp to use\n",
    "timestamp = \"20220514_noSgHparam\"\n",
    "withbr = 'without' # 'without'\n",
    "\n",
    "paths = {\n",
    "    'input'              : os.path.join(hh_comb_fw_path, \"FullRun2Workspaces\", \"original\", \"HHH2022\", timestamp),\n",
    "    'task_options'       : os.path.join(hh_comb_fw_path, \"configs\", \"task_options\"       , \"HHH2022\",\n",
    "                                        f\"nonres_kl_kt_xsection.yaml\"),\n",
    "    'correlation_schemes': os.path.join(hh_comb_fw_path, \"configs\", \"correlation_schemes\", \"HHH2022\", \n",
    "                                        \"nonres_kl_v12.json\"),\n",
    "    'output'             : os.path.join(os.getcwd(), f\"outputs_HHH2022_{timestamp}\")\n",
    "}\n",
    "\n",
    "config = {\n",
    "    'resonant_type': 'nonres',\n",
    "    'channels'     : ['bbbb', 'bbtautau', 'bbyy'],\n",
    "    'file_expr'    : '<mass[F]>_kl',\n",
    "    'blind'        : False,\n",
    "    'cache'        : True,\n",
    "    'experimental' : True,\n",
    "    'parallel'     : -1,\n",
    "    'type'         : 'xsec'\n",
    "}\n",
    "options = {\n",
    "    \"input_dir\"    : paths['input'],\n",
    "    \"resonant_type\": config['resonant_type'],\n",
    "    \"channels\"     : \",\".join(config['channels']),\n",
    "    \"outdir\"       : paths['output'],\n",
    "    \"file_expr\"    : f\"\\\"{config['file_expr']}\\\"\",\n",
    "    \"config\"       : paths['task_options'],\n",
    "    \"parallel\"     : config['parallel'],\n",
    "    \"skip-limit\"   : \"\",\n",
    "}"
   ]
  },
  {
   "cell_type": "code",
   "execution_count": 18,
   "id": "71a81c1b",
   "metadata": {},
   "outputs": [
    {
     "name": "stdout",
     "output_type": "stream",
     "text": [
      "HHComb process_channels --input_dir /afs/cern.ch/work/z/zhangr/HHcomb/hh_combination_fw/hh_combination_fw/FullRun2Workspaces/original/HHH2022/20220514_noSgHparam --resonant_type nonres --channels bbbb,bbtautau,bbyy --outdir /afs/cern.ch/work/z/zhangr/HHcomb/hh_combination_fw/hh_combination_fw/tutorials/HHH2022/outputs_HHH2022_20220514_noSgHparam --file_expr \"<mass[F]>_kl\" --config /afs/cern.ch/work/z/zhangr/HHcomb/hh_combination_fw/hh_combination_fw/configs/task_options/HHH2022/nonres_kl_kt_xsection.yaml --parallel -1 --skip-limit  --experimental  --cache \n"
     ]
    }
   ],
   "source": [
    "if config[\"blind\"]:\n",
    "    options[\"blind\"] = \"\"\n",
    "else:\n",
    "    options[\"unblind\"] : \"\"\n",
    "if config[\"experimental\"]:\n",
    "    options[\"experimental\"] = \"\"\n",
    "else:\n",
    "    options[\"official\"] : \"\"\n",
    "if config['cache']:\n",
    "    options['cache'] = \"\"\n",
    "else:\n",
    "    options['no-cache'] = \"\"\n",
    "command_str1 = \"HHComb process_channels \" + \" \".join([f\"--{key} {value}\" for key, value in options.items()])\n",
    "print(command_str1)\n",
    "# os.system(command_str1)\n",
    "\n",
    "if config['type'] == 'xsec':\n",
    "    options['fix'] = f\"\\\"THEO_XS_fixmu_*=0,alpha_THEO_XS_PDFalphas_VBFSMHH*=0,alpha_THEO_XS_PDFalphas_ggFSMHH*=0,alpha_THEO_XS_SCALEMTop_ggFSMHH*=0,THEO_XS_COMBINED_HH_ggF*=0,THEO_XS_PDFalphas_HH_VBF*=0,THEO_XS_PDFalphas_HH_ggF*=0,THEO_XS_SCALE_HH_VBF*=0\\\"\"\n"
   ]
  },
  {
   "cell_type": "code",
   "execution_count": 19,
   "id": "a2efde4f",
   "metadata": {},
   "outputs": [
    {
     "name": "stdout",
     "output_type": "stream",
     "text": [
      "HHComb combine_ws --input_dir /afs/cern.ch/work/z/zhangr/HHcomb/hh_combination_fw/hh_combination_fw/tutorials/HHH2022/outputs_HHH2022_20220514_noSgHparam --resonant_type nonres --channels bbbb,bbtautau,bbyy --file_expr \"<mass[F]>_kl\" --config /afs/cern.ch/work/z/zhangr/HHcomb/hh_combination_fw/hh_combination_fw/configs/task_options/HHH2022/nonres_kl_kt_xsection.yaml --scheme /afs/cern.ch/work/z/zhangr/HHcomb/hh_combination_fw/hh_combination_fw/configs/correlation_schemes/HHH2022/nonres_kl_v12.json --parallel -1 --skip-limit  --experimental  --cache \n"
     ]
    }
   ],
   "source": [
    "command_str = return_combine_command(paths, config)"
   ]
  },
  {
   "cell_type": "code",
   "execution_count": 20,
   "id": "9b29cd4d",
   "metadata": {},
   "outputs": [
    {
     "data": {
      "text/plain": [
       "{'bbbb': '/afs/cern.ch/work/z/zhangr/HHcomb/hh_combination_fw/hh_combination_fw/tutorials/HHH2022/outputs_HHH2022_20220514_noSgHparam/rescaled/nonres/bbbb/0_kl.root',\n",
       " 'bbtautau': '/afs/cern.ch/work/z/zhangr/HHcomb/hh_combination_fw/hh_combination_fw/tutorials/HHH2022/outputs_HHH2022_20220514_noSgHparam/rescaled/nonres/bbtautau/0_kl.root',\n",
       " 'bbyy': '/afs/cern.ch/work/z/zhangr/HHcomb/hh_combination_fw/hh_combination_fw/tutorials/HHH2022/outputs_HHH2022_20220514_noSgHparam/rescaled/nonres/bbyy/0_kl.root',\n",
       " 'combined': '/afs/cern.ch/work/z/zhangr/HHcomb/hh_combination_fw/hh_combination_fw/tutorials/HHH2022/outputs_HHH2022_20220514_noSgHparam/combined/nonres/A-bbbb_bbtautau_bbyy-fullcorr/0_kl.root'}"
      ]
     },
     "execution_count": 20,
     "metadata": {},
     "output_type": "execute_result"
    }
   ],
   "source": [
    "rescaled_ws_paths = {}\n",
    "for channel in config['channels']:\n",
    "    ws_path = os.path.join(paths['output'], 'rescaled', config['resonant_type'], channel, \"0_kl.root\")\n",
    "    rescaled_ws_paths[channel] = ws_path\n",
    "# rescaled workspace path for combined workspacee\n",
    "ws_path = glob.glob(os.path.join(paths['output'], 'combined', config['resonant_type'], \"*\", \"0_kl.root\"))[0]\n",
    "rescaled_ws_paths[\"combined\"] = ws_path\n",
    "rescaled_ws_paths"
   ]
  },
  {
   "cell_type": "code",
   "execution_count": 24,
   "id": "41621972",
   "metadata": {},
   "outputs": [
    {
     "name": "stdout",
     "output_type": "stream",
     "text": [
      "{'k2v': '^k2V=-2_4_0.2^',\n",
      " 'k2vkv_final': '^kV=-3_3_0.2,k2V=-2_6_0.2^',\n",
      " 'k2vkv_job1': '^k2V=-2.0_-1.8_0.2,kV=-3_3_0.2^',\n",
      " 'k2vkv_job10': '^k2V=-0.2_0_0.2,kV=-3_3_0.2^',\n",
      " 'k2vkv_job11': '^k2V=-0.0_0.2_0.2,kV=-3_3_0.2^',\n",
      " 'k2vkv_job12': '^k2V=0.2_0.4_0.2,kV=-3_3_0.2^',\n",
      " 'k2vkv_job13': '^k2V=0.4_0.6_0.2,kV=-3_3_0.2^',\n",
      " 'k2vkv_job14': '^k2V=0.6_0.8_0.2,kV=-3_3_0.2^',\n",
      " 'k2vkv_job15': '^k2V=0.8_1_0.2,kV=-3_3_0.2^',\n",
      " 'k2vkv_job16': '^k2V=1.0_1.2_0.2,kV=-3_3_0.2^',\n",
      " 'k2vkv_job17': '^k2V=1.2_1.4_0.2,kV=-3_3_0.2^',\n",
      " 'k2vkv_job18': '^k2V=1.4_1.6_0.2,kV=-3_3_0.2^',\n",
      " 'k2vkv_job19': '^k2V=1.6_1.8_0.2,kV=-3_3_0.2^',\n",
      " 'k2vkv_job2': '^k2V=-1.8_-1.6_0.2,kV=-3_3_0.2^',\n",
      " 'k2vkv_job20': '^k2V=1.8_2_0.2,kV=-3_3_0.2^',\n",
      " 'k2vkv_job21': '^k2V=2.0_2.2_0.2,kV=-3_3_0.2^',\n",
      " 'k2vkv_job22': '^k2V=2.2_2.4_0.2,kV=-3_3_0.2^',\n",
      " 'k2vkv_job23': '^k2V=2.4_2.6_0.2,kV=-3_3_0.2^',\n",
      " 'k2vkv_job24': '^k2V=2.6_2.8_0.2,kV=-3_3_0.2^',\n",
      " 'k2vkv_job25': '^k2V=2.8_3_0.2,kV=-3_3_0.2^',\n",
      " 'k2vkv_job26': '^k2V=3.0_3.2_0.2,kV=-3_3_0.2^',\n",
      " 'k2vkv_job27': '^k2V=3.2_3.4_0.2,kV=-3_3_0.2^',\n",
      " 'k2vkv_job28': '^k2V=3.4_3.6_0.2,kV=-3_3_0.2^',\n",
      " 'k2vkv_job29': '^k2V=3.6_3.8_0.2,kV=-3_3_0.2^',\n",
      " 'k2vkv_job3': '^k2V=-1.6_-1.4_0.2,kV=-3_3_0.2^',\n",
      " 'k2vkv_job30': '^k2V=3.8_4_0.2,kV=-3_3_0.2^',\n",
      " 'k2vkv_job31': '^k2V=4.0_4.2_0.2,kV=-3_3_0.2^',\n",
      " 'k2vkv_job32': '^k2V=4.2_4.4_0.2,kV=-3_3_0.2^',\n",
      " 'k2vkv_job33': '^k2V=4.4_4.6_0.2,kV=-3_3_0.2^',\n",
      " 'k2vkv_job34': '^k2V=4.6_4.8_0.2,kV=-3_3_0.2^',\n",
      " 'k2vkv_job35': '^k2V=4.8_5_0.2,kV=-3_3_0.2^',\n",
      " 'k2vkv_job36': '^k2V=5.0_5.2_0.2,kV=-3_3_0.2^',\n",
      " 'k2vkv_job37': '^k2V=5.2_5.4_0.2,kV=-3_3_0.2^',\n",
      " 'k2vkv_job38': '^k2V=5.4_5.6_0.2,kV=-3_3_0.2^',\n",
      " 'k2vkv_job39': '^k2V=5.6_5.8_0.2,kV=-3_3_0.2^',\n",
      " 'k2vkv_job4': '^k2V=-1.4_-1.2_0.2,kV=-3_3_0.2^',\n",
      " 'k2vkv_job40': '^k2V=5.8_6_0.2,kV=-3_3_0.2^',\n",
      " 'k2vkv_job5': '^k2V=-1.2_-1_0.2,kV=-3_3_0.2^',\n",
      " 'k2vkv_job6': '^k2V=-1.0_-0.8_0.2,kV=-3_3_0.2^',\n",
      " 'k2vkv_job7': '^k2V=-0.8_-0.6_0.2,kV=-3_3_0.2^',\n",
      " 'k2vkv_job8': '^k2V=-0.6_-0.4_0.2,kV=-3_3_0.2^',\n",
      " 'k2vkv_job9': '^k2V=-0.4_-0.2_0.2,kV=-3_3_0.2^',\n",
      " 'klambda_final': '^klambda=-15_20_0.2^',\n",
      " 'klambda_job1': '^klambda=-15_0_0.2^',\n",
      " 'klambda_job2': '^klambda=0_20_0.2^',\n",
      " 'klambdak2v_final': '^klambda=-15_20_0.2,k2V=-2_4_0.2^',\n",
      " 'klambdak2v_job1': '^klambda=-15.0_-14.8_0.2,k2V=-2_4_0.2^',\n",
      " 'klambdak2v_job10': '^klambda=-13.2_-13_0.2,k2V=-2_4_0.2^',\n",
      " 'klambdak2v_job100': '^klambda=4.8_5_0.2,k2V=-2_4_0.2^',\n",
      " 'klambdak2v_job101': '^klambda=5.0_5.2_0.2,k2V=-2_4_0.2^',\n",
      " 'klambdak2v_job102': '^klambda=5.2_5.4_0.2,k2V=-2_4_0.2^',\n",
      " 'klambdak2v_job103': '^klambda=5.4_5.6_0.2,k2V=-2_4_0.2^',\n",
      " 'klambdak2v_job104': '^klambda=5.6_5.8_0.2,k2V=-2_4_0.2^',\n",
      " 'klambdak2v_job105': '^klambda=5.8_6_0.2,k2V=-2_4_0.2^',\n",
      " 'klambdak2v_job106': '^klambda=6.0_6.2_0.2,k2V=-2_4_0.2^',\n",
      " 'klambdak2v_job107': '^klambda=6.2_6.4_0.2,k2V=-2_4_0.2^',\n",
      " 'klambdak2v_job108': '^klambda=6.4_6.6_0.2,k2V=-2_4_0.2^',\n",
      " 'klambdak2v_job109': '^klambda=6.6_6.8_0.2,k2V=-2_4_0.2^',\n",
      " 'klambdak2v_job11': '^klambda=-13.0_-12.8_0.2,k2V=-2_4_0.2^',\n",
      " 'klambdak2v_job110': '^klambda=6.8_7_0.2,k2V=-2_4_0.2^',\n",
      " 'klambdak2v_job111': '^klambda=7.0_7.2_0.2,k2V=-2_4_0.2^',\n",
      " 'klambdak2v_job112': '^klambda=7.2_7.4_0.2,k2V=-2_4_0.2^',\n",
      " 'klambdak2v_job113': '^klambda=7.4_7.6_0.2,k2V=-2_4_0.2^',\n",
      " 'klambdak2v_job114': '^klambda=7.6_7.8_0.2,k2V=-2_4_0.2^',\n",
      " 'klambdak2v_job115': '^klambda=7.8_8_0.2,k2V=-2_4_0.2^',\n",
      " 'klambdak2v_job116': '^klambda=8.0_8.2_0.2,k2V=-2_4_0.2^',\n",
      " 'klambdak2v_job117': '^klambda=8.2_8.4_0.2,k2V=-2_4_0.2^',\n",
      " 'klambdak2v_job118': '^klambda=8.4_8.6_0.2,k2V=-2_4_0.2^',\n",
      " 'klambdak2v_job119': '^klambda=8.6_8.8_0.2,k2V=-2_4_0.2^',\n",
      " 'klambdak2v_job12': '^klambda=-12.8_-12.6_0.2,k2V=-2_4_0.2^',\n",
      " 'klambdak2v_job120': '^klambda=8.8_9_0.2,k2V=-2_4_0.2^',\n",
      " 'klambdak2v_job121': '^klambda=9.0_9.2_0.2,k2V=-2_4_0.2^',\n",
      " 'klambdak2v_job122': '^klambda=9.2_9.4_0.2,k2V=-2_4_0.2^',\n",
      " 'klambdak2v_job123': '^klambda=9.4_9.6_0.2,k2V=-2_4_0.2^',\n",
      " 'klambdak2v_job124': '^klambda=9.6_9.8_0.2,k2V=-2_4_0.2^',\n",
      " 'klambdak2v_job125': '^klambda=9.8_10_0.2,k2V=-2_4_0.2^',\n",
      " 'klambdak2v_job126': '^klambda=10.0_10.2_0.2,k2V=-2_4_0.2^',\n",
      " 'klambdak2v_job127': '^klambda=10.2_10.4_0.2,k2V=-2_4_0.2^',\n",
      " 'klambdak2v_job128': '^klambda=10.4_10.6_0.2,k2V=-2_4_0.2^',\n",
      " 'klambdak2v_job129': '^klambda=10.6_10.8_0.2,k2V=-2_4_0.2^',\n",
      " 'klambdak2v_job13': '^klambda=-12.6_-12.4_0.2,k2V=-2_4_0.2^',\n",
      " 'klambdak2v_job130': '^klambda=10.8_11_0.2,k2V=-2_4_0.2^',\n",
      " 'klambdak2v_job131': '^klambda=11.0_11.2_0.2,k2V=-2_4_0.2^',\n",
      " 'klambdak2v_job132': '^klambda=11.2_11.4_0.2,k2V=-2_4_0.2^',\n",
      " 'klambdak2v_job133': '^klambda=11.4_11.6_0.2,k2V=-2_4_0.2^',\n",
      " 'klambdak2v_job134': '^klambda=11.6_11.8_0.2,k2V=-2_4_0.2^',\n",
      " 'klambdak2v_job135': '^klambda=11.8_12_0.2,k2V=-2_4_0.2^',\n",
      " 'klambdak2v_job136': '^klambda=12.0_12.2_0.2,k2V=-2_4_0.2^',\n",
      " 'klambdak2v_job137': '^klambda=12.2_12.4_0.2,k2V=-2_4_0.2^',\n",
      " 'klambdak2v_job138': '^klambda=12.4_12.6_0.2,k2V=-2_4_0.2^',\n",
      " 'klambdak2v_job139': '^klambda=12.6_12.8_0.2,k2V=-2_4_0.2^',\n",
      " 'klambdak2v_job14': '^klambda=-12.4_-12.2_0.2,k2V=-2_4_0.2^',\n",
      " 'klambdak2v_job140': '^klambda=12.8_13_0.2,k2V=-2_4_0.2^',\n",
      " 'klambdak2v_job141': '^klambda=13.0_13.2_0.2,k2V=-2_4_0.2^',\n",
      " 'klambdak2v_job142': '^klambda=13.2_13.4_0.2,k2V=-2_4_0.2^',\n",
      " 'klambdak2v_job143': '^klambda=13.4_13.6_0.2,k2V=-2_4_0.2^',\n",
      " 'klambdak2v_job144': '^klambda=13.6_13.8_0.2,k2V=-2_4_0.2^',\n",
      " 'klambdak2v_job145': '^klambda=13.8_14_0.2,k2V=-2_4_0.2^',\n",
      " 'klambdak2v_job146': '^klambda=14.0_14.2_0.2,k2V=-2_4_0.2^',\n",
      " 'klambdak2v_job147': '^klambda=14.2_14.4_0.2,k2V=-2_4_0.2^',\n",
      " 'klambdak2v_job148': '^klambda=14.4_14.6_0.2,k2V=-2_4_0.2^',\n",
      " 'klambdak2v_job149': '^klambda=14.6_14.8_0.2,k2V=-2_4_0.2^',\n",
      " 'klambdak2v_job15': '^klambda=-12.2_-12_0.2,k2V=-2_4_0.2^',\n",
      " 'klambdak2v_job150': '^klambda=14.8_15_0.2,k2V=-2_4_0.2^',\n",
      " 'klambdak2v_job151': '^klambda=15.0_15.2_0.2,k2V=-2_4_0.2^',\n",
      " 'klambdak2v_job152': '^klambda=15.2_15.4_0.2,k2V=-2_4_0.2^',\n",
      " 'klambdak2v_job153': '^klambda=15.4_15.6_0.2,k2V=-2_4_0.2^',\n",
      " 'klambdak2v_job154': '^klambda=15.6_15.8_0.2,k2V=-2_4_0.2^',\n",
      " 'klambdak2v_job155': '^klambda=15.8_16_0.2,k2V=-2_4_0.2^',\n",
      " 'klambdak2v_job156': '^klambda=16.0_16.2_0.2,k2V=-2_4_0.2^',\n",
      " 'klambdak2v_job157': '^klambda=16.2_16.4_0.2,k2V=-2_4_0.2^',\n",
      " 'klambdak2v_job158': '^klambda=16.4_16.6_0.2,k2V=-2_4_0.2^',\n",
      " 'klambdak2v_job159': '^klambda=16.6_16.8_0.2,k2V=-2_4_0.2^',\n",
      " 'klambdak2v_job16': '^klambda=-12.0_-11.8_0.2,k2V=-2_4_0.2^',\n",
      " 'klambdak2v_job160': '^klambda=16.8_17_0.2,k2V=-2_4_0.2^',\n",
      " 'klambdak2v_job161': '^klambda=17.0_17.2_0.2,k2V=-2_4_0.2^',\n",
      " 'klambdak2v_job162': '^klambda=17.2_17.4_0.2,k2V=-2_4_0.2^',\n",
      " 'klambdak2v_job163': '^klambda=17.4_17.6_0.2,k2V=-2_4_0.2^',\n",
      " 'klambdak2v_job164': '^klambda=17.6_17.8_0.2,k2V=-2_4_0.2^',\n",
      " 'klambdak2v_job165': '^klambda=17.8_18_0.2,k2V=-2_4_0.2^',\n",
      " 'klambdak2v_job166': '^klambda=18.0_18.2_0.2,k2V=-2_4_0.2^',\n",
      " 'klambdak2v_job167': '^klambda=18.2_18.4_0.2,k2V=-2_4_0.2^',\n",
      " 'klambdak2v_job168': '^klambda=18.4_18.6_0.2,k2V=-2_4_0.2^',\n",
      " 'klambdak2v_job169': '^klambda=18.6_18.8_0.2,k2V=-2_4_0.2^',\n",
      " 'klambdak2v_job17': '^klambda=-11.8_-11.6_0.2,k2V=-2_4_0.2^',\n",
      " 'klambdak2v_job170': '^klambda=18.8_19_0.2,k2V=-2_4_0.2^',\n",
      " 'klambdak2v_job171': '^klambda=19.0_19.2_0.2,k2V=-2_4_0.2^',\n",
      " 'klambdak2v_job172': '^klambda=19.2_19.4_0.2,k2V=-2_4_0.2^',\n",
      " 'klambdak2v_job173': '^klambda=19.4_19.6_0.2,k2V=-2_4_0.2^',\n",
      " 'klambdak2v_job174': '^klambda=19.6_19.8_0.2,k2V=-2_4_0.2^',\n",
      " 'klambdak2v_job175': '^klambda=19.8_20_0.2,k2V=-2_4_0.2^',\n",
      " 'klambdak2v_job18': '^klambda=-11.6_-11.4_0.2,k2V=-2_4_0.2^',\n",
      " 'klambdak2v_job19': '^klambda=-11.4_-11.2_0.2,k2V=-2_4_0.2^',\n",
      " 'klambdak2v_job2': '^klambda=-14.8_-14.6_0.2,k2V=-2_4_0.2^',\n",
      " 'klambdak2v_job20': '^klambda=-11.2_-11_0.2,k2V=-2_4_0.2^',\n",
      " 'klambdak2v_job21': '^klambda=-11.0_-10.8_0.2,k2V=-2_4_0.2^',\n",
      " 'klambdak2v_job22': '^klambda=-10.8_-10.6_0.2,k2V=-2_4_0.2^',\n",
      " 'klambdak2v_job23': '^klambda=-10.6_-10.4_0.2,k2V=-2_4_0.2^',\n",
      " 'klambdak2v_job24': '^klambda=-10.4_-10.2_0.2,k2V=-2_4_0.2^',\n",
      " 'klambdak2v_job25': '^klambda=-10.2_-10_0.2,k2V=-2_4_0.2^',\n",
      " 'klambdak2v_job26': '^klambda=-10.0_-9.8_0.2,k2V=-2_4_0.2^',\n",
      " 'klambdak2v_job27': '^klambda=-9.8_-9.6_0.2,k2V=-2_4_0.2^',\n",
      " 'klambdak2v_job28': '^klambda=-9.6_-9.4_0.2,k2V=-2_4_0.2^',\n",
      " 'klambdak2v_job29': '^klambda=-9.4_-9.2_0.2,k2V=-2_4_0.2^',\n",
      " 'klambdak2v_job3': '^klambda=-14.6_-14.4_0.2,k2V=-2_4_0.2^',\n",
      " 'klambdak2v_job30': '^klambda=-9.2_-9_0.2,k2V=-2_4_0.2^',\n",
      " 'klambdak2v_job31': '^klambda=-9.0_-8.8_0.2,k2V=-2_4_0.2^',\n",
      " 'klambdak2v_job32': '^klambda=-8.8_-8.6_0.2,k2V=-2_4_0.2^',\n",
      " 'klambdak2v_job33': '^klambda=-8.6_-8.4_0.2,k2V=-2_4_0.2^',\n",
      " 'klambdak2v_job34': '^klambda=-8.4_-8.2_0.2,k2V=-2_4_0.2^',\n",
      " 'klambdak2v_job35': '^klambda=-8.2_-8_0.2,k2V=-2_4_0.2^',\n",
      " 'klambdak2v_job36': '^klambda=-8.0_-7.8_0.2,k2V=-2_4_0.2^',\n",
      " 'klambdak2v_job37': '^klambda=-7.8_-7.6_0.2,k2V=-2_4_0.2^',\n",
      " 'klambdak2v_job38': '^klambda=-7.6_-7.4_0.2,k2V=-2_4_0.2^',\n",
      " 'klambdak2v_job39': '^klambda=-7.4_-7.2_0.2,k2V=-2_4_0.2^',\n",
      " 'klambdak2v_job4': '^klambda=-14.4_-14.2_0.2,k2V=-2_4_0.2^',\n",
      " 'klambdak2v_job40': '^klambda=-7.2_-7_0.2,k2V=-2_4_0.2^',\n",
      " 'klambdak2v_job41': '^klambda=-7.0_-6.8_0.2,k2V=-2_4_0.2^',\n",
      " 'klambdak2v_job42': '^klambda=-6.8_-6.6_0.2,k2V=-2_4_0.2^',\n",
      " 'klambdak2v_job43': '^klambda=-6.6_-6.4_0.2,k2V=-2_4_0.2^',\n",
      " 'klambdak2v_job44': '^klambda=-6.4_-6.2_0.2,k2V=-2_4_0.2^',\n",
      " 'klambdak2v_job45': '^klambda=-6.2_-6_0.2,k2V=-2_4_0.2^',\n",
      " 'klambdak2v_job46': '^klambda=-6.0_-5.8_0.2,k2V=-2_4_0.2^',\n",
      " 'klambdak2v_job47': '^klambda=-5.8_-5.6_0.2,k2V=-2_4_0.2^',\n",
      " 'klambdak2v_job48': '^klambda=-5.6_-5.4_0.2,k2V=-2_4_0.2^',\n",
      " 'klambdak2v_job49': '^klambda=-5.4_-5.2_0.2,k2V=-2_4_0.2^',\n",
      " 'klambdak2v_job5': '^klambda=-14.2_-14_0.2,k2V=-2_4_0.2^',\n",
      " 'klambdak2v_job50': '^klambda=-5.2_-5_0.2,k2V=-2_4_0.2^',\n",
      " 'klambdak2v_job51': '^klambda=-5.0_-4.8_0.2,k2V=-2_4_0.2^',\n",
      " 'klambdak2v_job52': '^klambda=-4.8_-4.6_0.2,k2V=-2_4_0.2^',\n",
      " 'klambdak2v_job53': '^klambda=-4.6_-4.4_0.2,k2V=-2_4_0.2^',\n",
      " 'klambdak2v_job54': '^klambda=-4.4_-4.2_0.2,k2V=-2_4_0.2^',\n",
      " 'klambdak2v_job55': '^klambda=-4.2_-4_0.2,k2V=-2_4_0.2^',\n",
      " 'klambdak2v_job56': '^klambda=-4.0_-3.8_0.2,k2V=-2_4_0.2^',\n",
      " 'klambdak2v_job57': '^klambda=-3.8_-3.6_0.2,k2V=-2_4_0.2^',\n",
      " 'klambdak2v_job58': '^klambda=-3.6_-3.4_0.2,k2V=-2_4_0.2^',\n",
      " 'klambdak2v_job59': '^klambda=-3.4_-3.2_0.2,k2V=-2_4_0.2^',\n",
      " 'klambdak2v_job6': '^klambda=-14.0_-13.8_0.2,k2V=-2_4_0.2^',\n",
      " 'klambdak2v_job60': '^klambda=-3.2_-3_0.2,k2V=-2_4_0.2^',\n",
      " 'klambdak2v_job61': '^klambda=-3.0_-2.8_0.2,k2V=-2_4_0.2^',\n",
      " 'klambdak2v_job62': '^klambda=-2.8_-2.6_0.2,k2V=-2_4_0.2^',\n",
      " 'klambdak2v_job63': '^klambda=-2.6_-2.4_0.2,k2V=-2_4_0.2^',\n",
      " 'klambdak2v_job64': '^klambda=-2.4_-2.2_0.2,k2V=-2_4_0.2^',\n",
      " 'klambdak2v_job65': '^klambda=-2.2_-2_0.2,k2V=-2_4_0.2^',\n",
      " 'klambdak2v_job66': '^klambda=-2.0_-1.8_0.2,k2V=-2_4_0.2^',\n",
      " 'klambdak2v_job67': '^klambda=-1.8_-1.6_0.2,k2V=-2_4_0.2^',\n",
      " 'klambdak2v_job68': '^klambda=-1.6_-1.4_0.2,k2V=-2_4_0.2^',\n",
      " 'klambdak2v_job69': '^klambda=-1.4_-1.2_0.2,k2V=-2_4_0.2^',\n",
      " 'klambdak2v_job7': '^klambda=-13.8_-13.6_0.2,k2V=-2_4_0.2^',\n",
      " 'klambdak2v_job70': '^klambda=-1.2_-1_0.2,k2V=-2_4_0.2^',\n",
      " 'klambdak2v_job71': '^klambda=-1.0_-0.8_0.2,k2V=-2_4_0.2^',\n",
      " 'klambdak2v_job72': '^klambda=-0.8_-0.6_0.2,k2V=-2_4_0.2^',\n",
      " 'klambdak2v_job73': '^klambda=-0.6_-0.4_0.2,k2V=-2_4_0.2^',\n",
      " 'klambdak2v_job74': '^klambda=-0.4_-0.2_0.2,k2V=-2_4_0.2^',\n",
      " 'klambdak2v_job75': '^klambda=-0.2_0_0.2,k2V=-2_4_0.2^',\n",
      " 'klambdak2v_job76': '^klambda=-0.0_0.2_0.2,k2V=-2_4_0.2^',\n",
      " 'klambdak2v_job77': '^klambda=0.2_0.4_0.2,k2V=-2_4_0.2^',\n",
      " 'klambdak2v_job78': '^klambda=0.4_0.6_0.2,k2V=-2_4_0.2^',\n",
      " 'klambdak2v_job79': '^klambda=0.6_0.8_0.2,k2V=-2_4_0.2^',\n",
      " 'klambdak2v_job8': '^klambda=-13.6_-13.4_0.2,k2V=-2_4_0.2^',\n",
      " 'klambdak2v_job80': '^klambda=0.8_1_0.2,k2V=-2_4_0.2^',\n",
      " 'klambdak2v_job81': '^klambda=1.0_1.2_0.2,k2V=-2_4_0.2^',\n",
      " 'klambdak2v_job82': '^klambda=1.2_1.4_0.2,k2V=-2_4_0.2^',\n",
      " 'klambdak2v_job83': '^klambda=1.4_1.6_0.2,k2V=-2_4_0.2^',\n",
      " 'klambdak2v_job84': '^klambda=1.6_1.8_0.2,k2V=-2_4_0.2^',\n",
      " 'klambdak2v_job85': '^klambda=1.8_2_0.2,k2V=-2_4_0.2^',\n",
      " 'klambdak2v_job86': '^klambda=2.0_2.2_0.2,k2V=-2_4_0.2^',\n",
      " 'klambdak2v_job87': '^klambda=2.2_2.4_0.2,k2V=-2_4_0.2^',\n",
      " 'klambdak2v_job88': '^klambda=2.4_2.6_0.2,k2V=-2_4_0.2^',\n",
      " 'klambdak2v_job89': '^klambda=2.6_2.8_0.2,k2V=-2_4_0.2^',\n",
      " 'klambdak2v_job9': '^klambda=-13.4_-13.2_0.2,k2V=-2_4_0.2^',\n",
      " 'klambdak2v_job90': '^klambda=2.8_3_0.2,k2V=-2_4_0.2^',\n",
      " 'klambdak2v_job91': '^klambda=3.0_3.2_0.2,k2V=-2_4_0.2^',\n",
      " 'klambdak2v_job92': '^klambda=3.2_3.4_0.2,k2V=-2_4_0.2^',\n",
      " 'klambdak2v_job93': '^klambda=3.4_3.6_0.2,k2V=-2_4_0.2^',\n",
      " 'klambdak2v_job94': '^klambda=3.6_3.8_0.2,k2V=-2_4_0.2^',\n",
      " 'klambdak2v_job95': '^klambda=3.8_4_0.2,k2V=-2_4_0.2^',\n",
      " 'klambdak2v_job96': '^klambda=4.0_4.2_0.2,k2V=-2_4_0.2^',\n",
      " 'klambdak2v_job97': '^klambda=4.2_4.4_0.2,k2V=-2_4_0.2^',\n",
      " 'klambdak2v_job98': '^klambda=4.4_4.6_0.2,k2V=-2_4_0.2^',\n",
      " 'klambdak2v_job99': '^klambda=4.6_4.8_0.2,k2V=-2_4_0.2^'}\n"
     ]
    }
   ],
   "source": [
    "# use '_job' + suffix to split scan range\n",
    "param_expr_maps = {\n",
    "    'klambda_job1': \"^klambda=-15_0_0.2^\",\n",
    "    'klambda_job2': \"^klambda=0_20_0.2^\",\n",
    "    'klambda_final': \"^klambda=-15_20_0.2^\",\n",
    "    'k2v': \"^k2V=-2_4_0.2^\",\n",
    "    'klambdak2v_final': \"^klambda=-15_20_0.2,k2V=-2_4_0.2^\",\n",
    "    'k2vkv_final': \"^kV=-3_3_0.2,k2V=-2_6_0.2^\",\n",
    "}\n",
    "\n",
    "param_expr_maps.update(create_job('klambda=-15_20_0.2,k2V=-2_4_0.2', 'klambdak2v'))\n",
    "param_expr_maps.update(create_job('kV=-3_3_0.2,k2V=-2_6_0.2', 'k2vkv'))\n",
    "pprint(param_expr_maps)"
   ]
  },
  {
   "cell_type": "code",
   "execution_count": 25,
   "id": "2ed8a3b9",
   "metadata": {
    "scrolled": true
   },
   "outputs": [],
   "source": [
    "options = {\n",
    "    'poi'         : 'xsec_br',\n",
    "    'data'        : 'combData',\n",
    "    'unblind'     : '',\n",
    "    'fix'         : \"^THEO_XS_fixmu_*=0,alpha_THEO_XS_PDFalphas_VBFSMHH*=0,alpha_THEO_XS_PDFalphas_ggFSMHH*=0,alpha_THEO_XS_SCALEMTop_ggFSMHH*=0,THEO_XS_COMBINED_HH_ggF*=0,THEO_XS_PDFalphas_HH_VBF*=0,THEO_XS_PDFalphas_HH_ggF*=0,THEO_XS_SCALE_HH_VBF*=0^\",\n",
    "}\n",
    "command_str_map = {}\n",
    "\n",
    "condor = True\n",
    "if condor:\n",
    "    original_stdout = sys.stdout\n",
    "    sys.stdout = open('job2.txt', 'w')\n",
    "\n",
    "for channel in rescaled_ws_paths:\n",
    "    print(f\"# Channel: {channel}\")\n",
    "    input_path  = rescaled_ws_paths[channel]\n",
    "    for key, expr in param_expr_maps.items():\n",
    "        \n",
    "        if condor and 'final' in key:\n",
    "            continue\n",
    "        if not condor and 'job' in key:\n",
    "            continue\n",
    "        if 'final' in key:\n",
    "            outdir = os.path.join(paths['output'], 'xsection_scan', channel, key.replace('_final', ''))\n",
    "        else:\n",
    "            outdir = os.path.join(paths['output'], 'xsection_scan', channel, (key+'1')[:key.find('_job')])\n",
    "\n",
    "        channel_options = {\"input_path\": input_path, \"outdir\": outdir, \"param_expr\": expr, **options}\n",
    "        channel_command_str = \"quickstats limit_scan \" + \\\n",
    "                              \" \".join([f\"--{key} {value}\" for key, value in channel_options.items()])\n",
    "        command_str_map[channel] = channel_command_str\n",
    "\n",
    "\n",
    "        if not condor:\n",
    "            print(channel_command_str.replace('^', '\"'))\n",
    "        else:\n",
    "            print(\"Arguments =\", channel_command_str.replace(' ', '____'))\n",
    "            print(\"Queue 1\")\n",
    "    print()\n",
    "\n",
    "if condor: \n",
    "    sys.stdout = original_stdout"
   ]
  },
  {
   "cell_type": "code",
   "execution_count": null,
   "id": "ce2dc217",
   "metadata": {},
   "outputs": [],
   "source": [
    "\n"
   ]
  },
  {
   "cell_type": "code",
   "execution_count": null,
   "id": "74dbb59b",
   "metadata": {},
   "outputs": [],
   "source": []
  }
 ],
 "metadata": {
  "kernelspec": {
   "display_name": "Python 3 (ipykernel)",
   "language": "python",
   "name": "python3"
  },
  "language_info": {
   "codemirror_mode": {
    "name": "ipython",
    "version": 3
   },
   "file_extension": ".py",
   "mimetype": "text/x-python",
   "name": "python",
   "nbconvert_exporter": "python",
   "pygments_lexer": "ipython3",
   "version": "3.9.6"
  }
 },
 "nbformat": 4,
 "nbformat_minor": 5
}
