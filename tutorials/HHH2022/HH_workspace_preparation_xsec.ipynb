{
 "cells": [
  {
   "cell_type": "code",
   "execution_count": 2,
   "id": "5fe7f869",
   "metadata": {},
   "outputs": [
    {
     "name": "stdout",
     "output_type": "stream",
     "text": [
      "The autoreload extension is already loaded. To reload it, use:\n",
      "  %reload_ext autoreload\n"
     ]
    }
   ],
   "source": [
    "import os\n",
    "import glob\n",
    "import json\n",
    "import quickstats\n",
    "import sys, numpy as np\n",
    "from quickstats.components import AnalysisBase\n",
    "\n",
    "%load_ext autoreload\n",
    "%autoreload 2\n",
    "%reload_ext autoreload\n",
    "%matplotlib inline"
   ]
  },
  {
   "cell_type": "code",
   "execution_count": 3,
   "id": "fab599ae",
   "metadata": {},
   "outputs": [],
   "source": [
    "# make sure hh combination fw path is defined\n",
    "hh_comb_fw_path = os.environ.get('hh_combination_fw_path', None)\n",
    "\n",
    "assert hh_comb_fw_path\n",
    "\n",
    "gen_command = True"
   ]
  },
  {
   "cell_type": "code",
   "execution_count": 4,
   "id": "6cc5f08d",
   "metadata": {},
   "outputs": [],
   "source": [
    "from quickstats.maths.numerics import is_integer, pretty_value\n",
    "from pprint import pprint\n",
    "def create_job(string, key, suf=''):\n",
    "    tmp = string.split(',')\n",
    "    poi1 = tmp[0].split('=')[0]\n",
    "    poi2 = tmp[1].split('=')[0]\n",
    "    poi1_tmp = tmp[0].split('=')[1].split('_')\n",
    "    poi2_tmp = tmp[1].split('=')[1].split('_')\n",
    "    poi1_range = [float(p) for p in poi1_tmp[0:2]]\n",
    "    poi1_step = float(poi1_tmp[2])\n",
    "    poi2_range = [float(p) for p in poi2_tmp[0:2]]\n",
    "    poi2_step = float(poi2_tmp[2])\n",
    "\n",
    "    poi1_nsteps = int((poi1_range[1] - poi1_range[0]) / poi1_step)\n",
    "    poi2_nsteps = int((poi2_range[1] - poi2_range[0]) / poi2_step)\n",
    "\n",
    "#     # slice poi1 with full poi2 range\n",
    "#     if poi1_nsteps < poi2_nsteps and poi2_nsteps > 12:\n",
    "#         poi1, poi1_range, poi1_step, poi1_nsteps, poi2, poi2_range, poi2_step, poi2_nsteps = poi2, poi2_range, poi2_step, poi2_nsteps, poi1, poi1_range, poi1_step, poi1_nsteps\n",
    "        \n",
    "    poi_slice_up = np.arange(poi1_range[0], poi1_range[1], poi1_step).round(decimals=2)\n",
    "    new_dict = {}\n",
    "    for i in range(poi1_nsteps):\n",
    "        key_name = key+f'_job{suf}{i+1}'\n",
    "        value = f\"^{poi1}={poi_slice_up[i]}_{pretty_value(poi_slice_up[i]+poi1_step)}_{poi1_step},{poi2}={pretty_value(poi2_range[0])}_{pretty_value(poi2_range[1])}_{poi2_step}^\"\n",
    "        new_dict[key_name] = value\n",
    "    return new_dict\n"
   ]
  },
  {
   "cell_type": "code",
   "execution_count": 5,
   "id": "16e82b87",
   "metadata": {},
   "outputs": [],
   "source": [
    "def return_combine_command(paths, config):\n",
    "    options = {\n",
    "        \"input_dir\"    : paths['output'],\n",
    "        \"resonant_type\": config['resonant_type'],\n",
    "        \"channels\"     : \",\".join(config['channels']),\n",
    "        \"file_expr\"    : f\"\\\"{config['file_expr']}\\\"\",\n",
    "        \"config\"       : paths['task_options'],\n",
    "        \"scheme\"       : paths['correlation_schemes'],\n",
    "        \"parallel\"     : config['parallel'],\n",
    "        \"skip-limit\"   : \"\"\n",
    "    }\n",
    "    if config[\"blind\"]:\n",
    "        options[\"blind\"] = \"\"\n",
    "    else:\n",
    "        options[\"unblind\"] = \"\"\n",
    "    if config[\"experimental\"]:\n",
    "        options[\"experimental\"] = \"\"\n",
    "    else:\n",
    "        options[\"official\"] = \"\"\n",
    "    if config['cache']:\n",
    "        options['cache'] = \"\"\n",
    "    else:\n",
    "        options['no-cache'] = \"\"\n",
    "    if 'prefix' in config:\n",
    "        options['prefix'] = config['prefix']\n",
    "    if config['type'] == 'xsec':\n",
    "        options['minimizer_options'] = os.path.join(hh_comb_fw_path, \"configs/minimizer_options/fix_xs_uncertainty.json\")\n",
    "\n",
    "    command_str = \"HHComb combine_ws \" + \" \".join([f\"--{key} {value}\" for key, value in options.items()])\n",
    "    print(command_str+' &')\n",
    "    return command_str\n",
    "\n"
   ]
  },
  {
   "cell_type": "markdown",
   "id": "b9a6ace6",
   "metadata": {},
   "source": [
    "# Step 1: SM point"
   ]
  },
  {
   "cell_type": "code",
   "execution_count": 17,
   "id": "77f6fb64",
   "metadata": {},
   "outputs": [],
   "source": [
    "# specify the input timestamp to use\n",
    "timestamp = \"20220520_noSgHparam\"\n",
    "withbr = None\n",
    "type='mu' # 'xsec' 'mu'\n",
    "\n",
    "paths = {\n",
    "    'input'              : os.path.join(hh_comb_fw_path, \"FullRun2Workspaces\", \"original\", \"HHH2022\", timestamp),\n",
    "    'task_options'       : os.path.join(hh_comb_fw_path, \"configs\", \"task_options\"       , \"HHH2022\",\n",
    "                                        f\"nonres_SM.yaml\"),\n",
    "    'correlation_schemes': os.path.join(hh_comb_fw_path, \"configs\", \"correlation_schemes\", \"HHH2022\", \n",
    "                                        \"nonres_kl_v13.json\"),\n",
    "    'output'             : os.path.join(os.getcwd(), f\"outputs_HHH2022_20220701_noSgHparam_{type}\")\n",
    "}\n",
    "\n",
    "config = {\n",
    "    'resonant_type': 'nonres',\n",
    "    'channels'     : ['bbbb', 'bbtautau', 'bbyy'],\n",
    "    'file_expr'    : '<mass[F]>',\n",
    "    'blind'        : False,\n",
    "    'cache'        : True,\n",
    "    'experimental' : True,\n",
    "    'parallel'     : -1,\n",
    "    'type'         : type\n",
    "}\n",
    "options = {\n",
    "    \"input_dir\"    : paths['input'],\n",
    "    \"resonant_type\": config['resonant_type'],\n",
    "    \"channels\"     : \",\".join(config['channels']),\n",
    "    \"outdir\"       : paths['output'],\n",
    "    \"file_expr\"    : f\"\\\"{config['file_expr']}\\\"\",\n",
    "    \"config\"       : paths['task_options'],\n",
    "    \"parallel\"     : config['parallel'],\n",
    "    \"skip-limit\"   : \"\",\n",
    "}"
   ]
  },
  {
   "cell_type": "markdown",
   "id": "d3b10c13",
   "metadata": {},
   "source": [
    "## process channels"
   ]
  },
  {
   "cell_type": "code",
   "execution_count": 18,
   "id": "14f30112",
   "metadata": {},
   "outputs": [
    {
     "name": "stdout",
     "output_type": "stream",
     "text": [
      "HHComb process_channels --input_dir /afs/cern.ch/work/z/zhangr/HHcomb/hh_combination_fw/hh_combination_fw/FullRun2Workspaces/original/HHH2022/20220520_noSgHparam --resonant_type nonres --channels bbbb,bbtautau,bbyy --outdir /afs/cern.ch/work/z/zhangr/HHcomb/hh_combination_fw/hh_combination_fw/tutorials/HHH2022/outputs_HHH2022_20220701_noSgHparam_mu --file_expr \"<mass[F]>\" --config /afs/cern.ch/work/z/zhangr/HHcomb/hh_combination_fw/hh_combination_fw/configs/task_options/HHH2022/nonres_SM.yaml --parallel -1 --skip-limit  --unblind  --experimental  --cache \n"
     ]
    }
   ],
   "source": [
    "\n",
    "if config[\"blind\"]:\n",
    "    options[\"blind\"] = \"\"\n",
    "else:\n",
    "    options[\"unblind\"] = \"\"\n",
    "if config[\"experimental\"]:\n",
    "    options[\"experimental\"] = \"\"\n",
    "else:\n",
    "    options[\"official\"] : \"\"\n",
    "if config['type'] == 'xsec':\n",
    "    options['minimizer_options'] = os.path.join(hh_comb_fw_path, \"configs/minimizer_options/fix_xs_uncertainty.json\")\n",
    "else:\n",
    "    pass\n",
    "if config['cache']:\n",
    "    options['cache'] = \"\"\n",
    "else:\n",
    "    options['no-cache'] = \"\"\n",
    "\n",
    "    \n",
    "    \n",
    "command_str1 = \"HHComb process_channels \" + \" \".join([f\"--{key} {value}\" for key, value in options.items()])\n",
    "print(command_str1)"
   ]
  },
  {
   "cell_type": "markdown",
   "id": "36cc8788",
   "metadata": {},
   "source": [
    "## combine ws"
   ]
  },
  {
   "cell_type": "code",
   "execution_count": 19,
   "id": "8622bdf2",
   "metadata": {
    "scrolled": true
   },
   "outputs": [
    {
     "name": "stdout",
     "output_type": "stream",
     "text": [
      "HHComb combine_ws --input_dir /afs/cern.ch/work/z/zhangr/HHcomb/hh_combination_fw/hh_combination_fw/tutorials/HHH2022/outputs_HHH2022_20220701_noSgHparam_mu --resonant_type nonres --channels bbbb,bbtautau,bbyy --file_expr \"<mass[F]>\" --config /afs/cern.ch/work/z/zhangr/HHcomb/hh_combination_fw/hh_combination_fw/configs/task_options/HHH2022/nonres_SM.yaml --scheme /afs/cern.ch/work/z/zhangr/HHcomb/hh_combination_fw/hh_combination_fw/configs/correlation_schemes/HHH2022/nonres_kl_v13.json --parallel -1 --skip-limit  --unblind  --experimental  --cache  &\n"
     ]
    }
   ],
   "source": [
    "command_str = return_combine_command(paths, config)"
   ]
  },
  {
   "cell_type": "markdown",
   "id": "3d72627d",
   "metadata": {},
   "source": [
    "## obtain path"
   ]
  },
  {
   "cell_type": "code",
   "execution_count": 20,
   "id": "4d18e415",
   "metadata": {},
   "outputs": [
    {
     "data": {
      "text/plain": [
       "{'bbbb': '/afs/cern.ch/work/z/zhangr/HHcomb/hh_combination_fw/hh_combination_fw/tutorials/HHH2022/outputs_HHH2022_20220701_noSgHparam_mu/rescaled/nonres/bbbb/0.root',\n",
       " 'bbtautau': '/afs/cern.ch/work/z/zhangr/HHcomb/hh_combination_fw/hh_combination_fw/tutorials/HHH2022/outputs_HHH2022_20220701_noSgHparam_mu/rescaled/nonres/bbtautau/0.root',\n",
       " 'bbyy': '/afs/cern.ch/work/z/zhangr/HHcomb/hh_combination_fw/hh_combination_fw/tutorials/HHH2022/outputs_HHH2022_20220701_noSgHparam_mu/rescaled/nonres/bbyy/0.root',\n",
       " 'combined': '/afs/cern.ch/work/z/zhangr/HHcomb/hh_combination_fw/hh_combination_fw/tutorials/HHH2022/outputs_HHH2022_20220701_noSgHparam_mu/combined/nonres/A-bbbb_bbtautau_bbyy-fullcorr/0.root'}"
      ]
     },
     "execution_count": 20,
     "metadata": {},
     "output_type": "execute_result"
    }
   ],
   "source": [
    "rescaled_ws_paths = {}\n",
    "for channel in config['channels']:\n",
    "    ws_path = os.path.join(paths['output'], 'rescaled', config['resonant_type'], channel, \"0.root\")\n",
    "    rescaled_ws_paths[channel]  = ws_path\n",
    "# rescaled workspace path for combined workspacee\n",
    "ws_path = glob.glob(os.path.join(paths['output'], 'combined', config['resonant_type'], \"*\", \"0.root\"))[0]\n",
    "rescaled_ws_paths[\"combined\"] = ws_path\n",
    "rescaled_ws_paths"
   ]
  },
  {
   "cell_type": "markdown",
   "id": "88aece46",
   "metadata": {},
   "source": [
    "## Step 1.1: Cross section limits"
   ]
  },
  {
   "cell_type": "code",
   "execution_count": 21,
   "id": "22bbc1ff",
   "metadata": {},
   "outputs": [],
   "source": [
    "# quickstats cls_limit -i ../../../combined/nonres/A-bbbb_bbtautau_bbyy-fullcorr/0.root -f *fixmu*=0 --outname fixmu --unblind"
   ]
  },
  {
   "cell_type": "markdown",
   "id": "2ff15f23",
   "metadata": {},
   "source": [
    "## Step 1.2: SM ranking"
   ]
  },
  {
   "cell_type": "code",
   "execution_count": 22,
   "id": "9868cc07",
   "metadata": {},
   "outputs": [],
   "source": [
    "# from quickstats.components import ExtendedModel\n",
    "# channel = 'combined'\n",
    "# model = ExtendedModel(rescaled_ws_paths[channel])\n",
    "# param_sets = model.get_constrained_nuisance_parameters()\n"
   ]
  },
  {
   "cell_type": "code",
   "execution_count": 23,
   "id": "d9067cb2",
   "metadata": {},
   "outputs": [],
   "source": [
    "# condor = True\n",
    "# if condor:\n",
    "#     print('Save jobrank.txt')\n",
    "#     original_stdout = sys.stdout\n",
    "#     sys.stdout = open('jobrank.txt', 'w')\n",
    "    \n",
    "# for p in param_sets:\n",
    "#     if p.GetName().startswith('gamma_'):\n",
    "#         continue\n",
    "#     channel_command_str = f'quickstats run_pulls -i {rescaled_ws_paths[\"combined\"]} --poi xsec_br -o {paths[\"output\"]}/ranking/{channel} -p {p.GetName()}'\n",
    "\n",
    "#     print(\"Arguments =\", channel_command_str.replace(' ', '____'))\n",
    "#     print(\"Queue 1\")\n",
    "#     print()\n",
    "\n",
    "# if condor: \n",
    "#     sys.stdout = original_stdout\n",
    "    "
   ]
  },
  {
   "cell_type": "markdown",
   "id": "f3b233d8",
   "metadata": {},
   "source": [
    "## Step 1.3: SM best fit"
   ]
  },
  {
   "cell_type": "code",
   "execution_count": 24,
   "id": "aee6c223",
   "metadata": {
    "scrolled": false
   },
   "outputs": [],
   "source": [
    "expected = False\n",
    "def run_best_fit(channel):\n",
    "    minimizer_options = {\n",
    "        \"retry\": 2,\n",
    "        \"eps\": 1,\n",
    "    }\n",
    "    if config['type'] == 'xsec':\n",
    "        minimizer_options['fix_param'] = \"<poi>,THEO_XS_fixmu_*=0,alpha_THEO_XS_PDFalphas_VBFSMHH*=0, alpha_THEO_XS_PDFalphas_ggFSMHH*=0, alpha_THEO_XS_SCALEMTop_ggFSMHH*=0, THEO_XS_COMBINED_HH_ggF*=0, THEO_XS_PDFalphas_HH_VBF*=0, THEO_XS_PDFalphas_HH_ggF*=0, THEO_XS_SCALE_HH_VBF*=0,alpha_THEO_XS_PDFalphas_ggf=0,alpha_THEO_XS_PDFalphas_vbf=0,alpha_THEO_XS_SCALEMTop_ggf=0,alpha_THEO_XS_SCALEMTop_vbf=0\"\n",
    "    else:\n",
    "        minimizer_options['fix_param'] = \"<poi>\"\n",
    "    # observed and expected datasets\n",
    "    datasets = {\n",
    "        \"observed\": \"combData\",\n",
    "    }\n",
    "    poi_expr = 'xsec_br'\n",
    "    print(f\"==> Channel: {channel}\")\n",
    "    ws_path = rescaled_ws_paths[channel]\n",
    "    print(ws_path, poi_expr, datasets[\"observed\"])\n",
    "    kwargs = {\n",
    "        \"filename\" : ws_path,\n",
    "        \"data_name\": datasets[\"observed\"],\n",
    "        \"poi_name\": poi_expr,\n",
    "        \"config\": {**minimizer_options}\n",
    "    }\n",
    "    analysis = AnalysisBase(**kwargs)\n",
    "#     analysis.setup_parameters(fix_param=\"<poi>\")\n",
    "    analysis.setup_parameters(profile_param=poi_expr)\n",
    "    \n",
    "    if expected:\n",
    "        analysis.generate_standard_asimov(asimov_types=[-2])\n",
    "        analysis.set_data(\"asimovData_1_NP_Nominal\")\n",
    "        analysis.load_snapshot(\"asimovData_1_NP_Nominal\")\n",
    "        \n",
    "    result = analysis.nll_fit(mode=1, do_minos=False)\n",
    "    return result\n",
    "\n",
    "if False:\n",
    "    results = {}\n",
    "    for channel in config['channels']+['combined']:\n",
    "        results[channel] = run_best_fit(channel)\n",
    "    result_path = os.path.join(paths['output'], 'bestfit', f'result_observed.json')\n",
    "    os.makedirs(os.path.join(paths['output'], 'bestfit'), exist_ok=True)\n",
    "    with open(result_path, 'w') as fp:\n",
    "        json.dump(results, fp, indent=2)"
   ]
  },
  {
   "cell_type": "code",
   "execution_count": 25,
   "id": "300e0bcf",
   "metadata": {},
   "outputs": [
    {
     "ename": "NameError",
     "evalue": "name 'results' is not defined",
     "output_type": "error",
     "traceback": [
      "\u001b[0;31m---------------------------------------------------------------------------\u001b[0m",
      "\u001b[0;31mNameError\u001b[0m                                 Traceback (most recent call last)",
      "\u001b[0;32m/tmp/zhangr/ipykernel_22682/4199824928.py\u001b[0m in \u001b[0;36m<module>\u001b[0;34m\u001b[0m\n\u001b[0;32m----> 1\u001b[0;31m \u001b[0mprint\u001b[0m\u001b[0;34m(\u001b[0m\u001b[0mresults\u001b[0m\u001b[0;34m)\u001b[0m\u001b[0;34m\u001b[0m\u001b[0;34m\u001b[0m\u001b[0m\n\u001b[0m",
      "\u001b[0;31mNameError\u001b[0m: name 'results' is not defined"
     ]
    }
   ],
   "source": [
    "print(results)"
   ]
  },
  {
   "cell_type": "code",
   "execution_count": 26,
   "id": "e030b5c6",
   "metadata": {},
   "outputs": [
    {
     "data": {
      "text/plain": [
       "'/afs/cern.ch/work/z/zhangr/HHcomb/hh_combination_fw/hh_combination_fw/tutorials/HHH2022/outputs_HHH2022_20220701_noSgHparam_mu'"
      ]
     },
     "execution_count": 26,
     "metadata": {},
     "output_type": "execute_result"
    }
   ],
   "source": [
    "paths['output']"
   ]
  },
  {
   "cell_type": "markdown",
   "id": "2c6e6d79",
   "metadata": {},
   "source": [
    "## Step 1.4: SM studies"
   ]
  },
  {
   "cell_type": "code",
   "execution_count": 27,
   "id": "4fb69942",
   "metadata": {},
   "outputs": [],
   "source": [
    "# # specify the input timestamp to use\n",
    "# timestamp = \"20220520_noSgHparam\"\n",
    "# withbr = None\n",
    "\n",
    "# for corr in [\"nonres_kl_v12.json\", \"nonres_kl_v12_decor.json\", \"nonres_kl_v12_decor_corrtop2.json\", \"nonres_kl_v12_decor_corrtop2exp.json\"]:\n",
    "#     for job in ['mu', 'xsec']:\n",
    "        \n",
    "#         paths = {\n",
    "#             'input'              : os.path.join(hh_comb_fw_path, \"FullRun2Workspaces\", \"original\", \"HHH2022\", timestamp),\n",
    "#             'task_options'       : os.path.join(hh_comb_fw_path, \"configs\", \"task_options\"       , \"HHH2022\", f\"nonres_SM.yaml\"),\n",
    "#             'correlation_schemes': os.path.join(hh_comb_fw_path, \"configs\", \"correlation_schemes\", \"HHH2022\", corr),\n",
    "#             'output'             : os.path.join(os.getcwd(), f\"outputs_HHH2022_{timestamp}\")\n",
    "#         }\n",
    "\n",
    "#         config = {\n",
    "#             'resonant_type': 'nonres',\n",
    "#             'channels'     : ['bbbb', 'bbtautau', 'bbyy'],\n",
    "#             'file_expr'    : '<mass[F]>',\n",
    "#             'blind'        : False,\n",
    "#             'cache'        : True,\n",
    "#             'experimental' : True,\n",
    "#             'parallel'     : -1,\n",
    "#             'type'         : job,\n",
    "#             'prefix'       : corr[:-5]+'_'+job+'_',\n",
    "#         }\n",
    "#         options = {\n",
    "#             \"input_dir\"    : paths['input'],\n",
    "#             \"resonant_type\": config['resonant_type'],\n",
    "#             \"channels\"     : \",\".join(config['channels']),\n",
    "#             \"outdir\"       : paths['output'],\n",
    "#             \"file_expr\"    : f\"\\\"{config['file_expr']}\\\"\",\n",
    "#             \"config\"       : paths['task_options'],\n",
    "#             \"parallel\"     : config['parallel'],\n",
    "#             \"skip-limit\"   : \"\",\n",
    "#         }\n",
    "\n",
    "#         if config['type'] == 'xsec':\n",
    "#             options['minimizer_options'] = os.path.join(hh_comb_fw_path, \"configs/minimizer_options/fix_xs_uncertainty.json\")\n",
    "\n",
    "\n",
    "\n",
    "#         if config[\"blind\"]:\n",
    "#             options[\"blind\"] = \"\"\n",
    "#         else:\n",
    "#             options[\"unblind\"] = \"\"\n",
    "#         if config[\"experimental\"]:\n",
    "#             options[\"experimental\"] = \"\"\n",
    "#         else:\n",
    "#             options[\"official\"] : \"\"\n",
    "#         if config['cache']:\n",
    "#             options['cache'] = \"\"\n",
    "#         else:\n",
    "#             options['no-cache'] = \"\"\n",
    "\n",
    "\n",
    "#         command_str1 = \"HHComb process_channels \" + \" \".join([f\"--{key} {value}\" for key, value in options.items()])\n",
    "# #         print('\\n## process channels', corr, job)\n",
    "# #         print(command_str1)\n",
    "#         print('\\n## combine ws', corr, job)\n",
    "#         command_str = return_combine_command(paths, config)\n",
    "        \n",
    "        \n"
   ]
  },
  {
   "cell_type": "markdown",
   "id": "7fc20c7d",
   "metadata": {},
   "source": [
    "## 1.5 SM S+B asimov limit"
   ]
  },
  {
   "cell_type": "code",
   "execution_count": 30,
   "id": "1af2c347",
   "metadata": {},
   "outputs": [
    {
     "name": "stdout",
     "output_type": "stream",
     "text": [
      "quickstats generate_standard_asimov --asimov_types 0,1,2 --poi xsec_br --data combData -i /afs/cern.ch/work/z/zhangr/HHcomb/hh_combination_fw/hh_combination_fw/tutorials/HHH2022/outputs_HHH2022_20220701_noSgHparam_mu/rescaled/nonres/bbbb/0.root -o /afs/cern.ch/work/z/zhangr/HHcomb/hh_combination_fw/hh_combination_fw/tutorials/HHH2022/outputs_HHH2022_20220701_noSgHparam_mu/rescaled/nonres/bbbb/0_asimov.root &\n",
      "\n",
      "quickstats generate_standard_asimov --asimov_types 0,1,2 --poi xsec_br --data combData -i /afs/cern.ch/work/z/zhangr/HHcomb/hh_combination_fw/hh_combination_fw/tutorials/HHH2022/outputs_HHH2022_20220701_noSgHparam_mu/rescaled/nonres/bbtautau/0.root -o /afs/cern.ch/work/z/zhangr/HHcomb/hh_combination_fw/hh_combination_fw/tutorials/HHH2022/outputs_HHH2022_20220701_noSgHparam_mu/rescaled/nonres/bbtautau/0_asimov.root &\n",
      "\n",
      "quickstats generate_standard_asimov --asimov_types 0,1,2 --poi xsec_br --data combData -i /afs/cern.ch/work/z/zhangr/HHcomb/hh_combination_fw/hh_combination_fw/tutorials/HHH2022/outputs_HHH2022_20220701_noSgHparam_mu/rescaled/nonres/bbyy/0.root -o /afs/cern.ch/work/z/zhangr/HHcomb/hh_combination_fw/hh_combination_fw/tutorials/HHH2022/outputs_HHH2022_20220701_noSgHparam_mu/rescaled/nonres/bbyy/0_asimov.root &\n",
      "\n",
      "quickstats generate_standard_asimov --asimov_types 0,1,2 --poi xsec_br --data combData -i /afs/cern.ch/work/z/zhangr/HHcomb/hh_combination_fw/hh_combination_fw/tutorials/HHH2022/outputs_HHH2022_20220701_noSgHparam_mu/combined/nonres/A-bbbb_bbtautau_bbyy-fullcorr/0.root -o /afs/cern.ch/work/z/zhangr/HHcomb/hh_combination_fw/hh_combination_fw/tutorials/HHH2022/outputs_HHH2022_20220701_noSgHparam_mu/combined/nonres/A-bbbb_bbtautau_bbyy-fullcorr/0_asimov.root &\n",
      "\n",
      "##########\n",
      "quickstats cls_limit -i /afs/cern.ch/work/z/zhangr/HHcomb/hh_combination_fw/hh_combination_fw/tutorials/HHH2022/outputs_HHH2022_20220701_noSgHparam_mu/rescaled/nonres/bbbb/0_asimov.root --poi xsec_br --data combData --unblind --outname /afs/cern.ch/work/z/zhangr/HHcomb/hh_combination_fw/hh_combination_fw/tutorials/HHH2022/outputs_HHH2022_20220701_noSgHparam_mu/rescaled/nonres/bbbb/../../../limits/nonres/bbbb/limits_mu_exp1.json --mu_exp 1&\n",
      "\n",
      "quickstats cls_limit -i /afs/cern.ch/work/z/zhangr/HHcomb/hh_combination_fw/hh_combination_fw/tutorials/HHH2022/outputs_HHH2022_20220701_noSgHparam_mu/rescaled/nonres/bbtautau/0_asimov.root --poi xsec_br --data combData --unblind --outname /afs/cern.ch/work/z/zhangr/HHcomb/hh_combination_fw/hh_combination_fw/tutorials/HHH2022/outputs_HHH2022_20220701_noSgHparam_mu/rescaled/nonres/bbtautau/../../../limits/nonres/bbtautau/limits_mu_exp1.json --mu_exp 1&\n",
      "\n",
      "quickstats cls_limit -i /afs/cern.ch/work/z/zhangr/HHcomb/hh_combination_fw/hh_combination_fw/tutorials/HHH2022/outputs_HHH2022_20220701_noSgHparam_mu/rescaled/nonres/bbyy/0_asimov.root --poi xsec_br --data combData --unblind --outname /afs/cern.ch/work/z/zhangr/HHcomb/hh_combination_fw/hh_combination_fw/tutorials/HHH2022/outputs_HHH2022_20220701_noSgHparam_mu/rescaled/nonres/bbyy/../../../limits/nonres/bbyy/limits_mu_exp1.json --mu_exp 1&\n",
      "\n",
      "quickstats cls_limit -i /afs/cern.ch/work/z/zhangr/HHcomb/hh_combination_fw/hh_combination_fw/tutorials/HHH2022/outputs_HHH2022_20220701_noSgHparam_mu/combined/nonres/A-bbbb_bbtautau_bbyy-fullcorr/0_asimov.root --poi xsec_br --data combData --unblind --outname /afs/cern.ch/work/z/zhangr/HHcomb/hh_combination_fw/hh_combination_fw/tutorials/HHH2022/outputs_HHH2022_20220701_noSgHparam_mu/combined/nonres/A-bbbb_bbtautau_bbyy-fullcorr/../../../limits/nonres/combined/limits_mu_exp1.json --mu_exp 1&\n",
      "\n"
     ]
    }
   ],
   "source": [
    "from quickstats.components import AsymptoticCLs\n",
    "\n",
    "def gen_asimov(channel):\n",
    "    poi_expr = 'xsec_br'\n",
    "    ws_path = rescaled_ws_paths[channel]\n",
    "    output = ws_path.replace('0.root', '0_asimov.root')\n",
    "    command = f'quickstats generate_standard_asimov --asimov_types 0,1,2 --poi {poi_expr} --data combData -i {ws_path} -o {output} &'\n",
    "    print(command)\n",
    "    print()\n",
    "\n",
    "def fit_asimovData_1_NP_Profile(channel):\n",
    "    poi_expr = 'xsec_br'\n",
    "    ws_path = rescaled_ws_paths[channel]\n",
    "    ws_input = ws_path.replace('0.root', '0_asimov.root')\n",
    "    limit_output = ws_input.replace('0_asimov.root', f'../../../limits/nonres/{channel}/limits_mu_exp1.json')\n",
    "#     command = f'quickstats cls_limit -i {ws_input} --poi {poi_expr} --data asimovData_1_NP_Profile --snapshot asimovData_1_NP_Profile --unblind --outname {limit_output}xsec_br &'\n",
    "#     command = f'quickstats cls_limit -i {ws_input} --poi {poi_expr} --data combData --asimov_data_name asimovData_1_NP_Profile --unblind --outname {limit_output} &'\n",
    "    command = f'quickstats cls_limit -i {ws_input} --poi {poi_expr} --data combData --unblind --outname {limit_output} --mu_exp 1&'\n",
    "\n",
    "    print(command)\n",
    "    print()\n",
    "    \n",
    "    \n",
    "    \n",
    "for channel in config['channels']+['combined']:\n",
    "    gen_asimov(channel)\n",
    "    \n",
    "print('#'*10)\n",
    "for channel in config['channels']+['combined']:\n",
    "    fit_asimovData_1_NP_Profile(channel)"
   ]
  },
  {
   "cell_type": "code",
   "execution_count": 16,
   "id": "8c40c3a7",
   "metadata": {},
   "outputs": [
    {
     "data": {
      "text/plain": [
       "'/afs/cern.ch/work/z/zhangr/HHcomb/hh_combination_fw/hh_combination_fw/tutorials/HHH2022/outputs_HHH2022_20220701_noSgHparam_mu/rescaled/nonres/bbyy/0.root'"
      ]
     },
     "execution_count": 16,
     "metadata": {},
     "output_type": "execute_result"
    }
   ],
   "source": [
    "rescaled_ws_paths['bbyy']"
   ]
  },
  {
   "cell_type": "markdown",
   "id": "515f3f11",
   "metadata": {},
   "source": [
    "## Step 2: Cross section scans"
   ]
  },
  {
   "cell_type": "code",
   "execution_count": 83,
   "id": "71a81c1b",
   "metadata": {},
   "outputs": [
    {
     "name": "stdout",
     "output_type": "stream",
     "text": [
      "HHComb process_channels --input_dir /afs/cern.ch/work/z/zhangr/HHcomb/hh_combination_fw/hh_combination_fw/FullRun2Workspaces/original/HHH2022/20220520_noSgHparam --resonant_type nonres --channels bbbb,bbtautau,bbyy --outdir /afs/cern.ch/work/z/zhangr/HHcomb/hh_combination_fw/hh_combination_fw/tutorials/HHH2022/outputs_HHH2022_20220701_noSgHparam_xsec --file_expr \"<mass[F]>_kl\" --config /afs/cern.ch/work/z/zhangr/HHcomb/hh_combination_fw/hh_combination_fw/configs/task_options/HHH2022/nonres_kl_kt_xsection.yaml --parallel -1 --skip-limit  --unblind  --experimental  --cache \n"
     ]
    }
   ],
   "source": [
    "# specify the input timestamp to use\n",
    "timestamp = \"20220520_noSgHparam\"\n",
    "# timestamp = \"20220701_with_BR_decorrelation\"\n",
    "# timestamp = \"20220701_noSgHparam_xsec/\"\n",
    "\n",
    "paths = {\n",
    "    'input'              : os.path.join(hh_comb_fw_path, \"FullRun2Workspaces\", \"original\", \"HHH2022\", timestamp),\n",
    "    'task_options'       : os.path.join(hh_comb_fw_path, \"configs\", \"task_options\"       , \"HHH2022\",\n",
    "                                        f\"nonres_kl_kt_xsection.yaml\"),\n",
    "    'correlation_schemes': os.path.join(hh_comb_fw_path, \"configs\", \"correlation_schemes\", \"HHH2022\", \n",
    "                                        \"nonres_kl_v13.json\"),\n",
    "    'output'             : os.path.join(os.getcwd(), f\"outputs_HHH2022_20220701_noSgHparam_xsec\")\n",
    "}\n",
    "\n",
    "config = {\n",
    "    'resonant_type': 'nonres',\n",
    "    'channels'     : ['bbbb', 'bbtautau', 'bbyy'],\n",
    "    'file_expr'    : '<mass[F]>_kl',\n",
    "    'blind'        : False,\n",
    "    'cache'        : True,\n",
    "    'experimental' : True,\n",
    "    'parallel'     : -1,\n",
    "    'type'         : 'xsec'\n",
    "}\n",
    "options = {\n",
    "    \"input_dir\"    : paths['input'],\n",
    "    \"resonant_type\": config['resonant_type'],\n",
    "    \"channels\"     : \",\".join(config['channels']),\n",
    "    \"outdir\"       : paths['output'],\n",
    "    \"file_expr\"    : f\"\\\"{config['file_expr']}\\\"\",\n",
    "    \"config\"       : paths['task_options'],\n",
    "    \"parallel\"     : config['parallel'],\n",
    "    \"skip-limit\"   : \"\",\n",
    "}\n",
    "\n",
    "if config[\"blind\"]:\n",
    "    options[\"blind\"] = \"\"\n",
    "else:\n",
    "    options[\"unblind\"] = \"\"\n",
    "if config[\"experimental\"]:\n",
    "    options[\"experimental\"] = \"\"\n",
    "else:\n",
    "    options[\"official\"] = \"\"\n",
    "if config['cache']:\n",
    "    options['cache'] = \"\"\n",
    "else:\n",
    "    options['no-cache'] = \"\"\n",
    "command_str1 = \"HHComb process_channels \" + \" \".join([f\"--{key} {value}\" for key, value in options.items()])\n",
    "print(command_str1)\n",
    "\n",
    "if config['type'] == 'xsec':\n",
    "    options['fix'] = f\"\\\"THEO_XS_fixmu_*=0,alpha_THEO_XS_PDFalphas_VBFSMHH*=0,alpha_THEO_XS_PDFalphas_ggFSMHH*=0,alpha_THEO_XS_SCALEMTop_ggFSMHH*=0,THEO_XS_COMBINED_HH_ggF*=0,THEO_XS_PDFalphas_HH_VBF*=0,THEO_XS_PDFalphas_HH_ggF*=0,THEO_XS_SCALE_HH_VBF*=0\\\"\"\n"
   ]
  },
  {
   "cell_type": "code",
   "execution_count": 84,
   "id": "a2efde4f",
   "metadata": {},
   "outputs": [
    {
     "name": "stdout",
     "output_type": "stream",
     "text": [
      "HHComb combine_ws --input_dir /afs/cern.ch/work/z/zhangr/HHcomb/hh_combination_fw/hh_combination_fw/tutorials/HHH2022/outputs_HHH2022_20220701_noSgHparam_xsec --resonant_type nonres --channels bbbb,bbtautau,bbyy --file_expr \"<mass[F]>_kl\" --config /afs/cern.ch/work/z/zhangr/HHcomb/hh_combination_fw/hh_combination_fw/configs/task_options/HHH2022/nonres_kl_kt_xsection.yaml --scheme /afs/cern.ch/work/z/zhangr/HHcomb/hh_combination_fw/hh_combination_fw/configs/correlation_schemes/HHH2022/nonres_kl_v13.json --parallel -1 --skip-limit  --unblind  --experimental  --cache  --minimizer_options /afs/cern.ch/work/z/zhangr/HHcomb/hh_combination_fw/hh_combination_fw/configs/minimizer_options/fix_xs_uncertainty.json &\n"
     ]
    }
   ],
   "source": [
    "command_str = return_combine_command(paths, config)"
   ]
  },
  {
   "cell_type": "code",
   "execution_count": 85,
   "id": "405e8042",
   "metadata": {},
   "outputs": [
    {
     "data": {
      "text/plain": [
       "'/afs/cern.ch/work/z/zhangr/HHcomb/hh_combination_fw/hh_combination_fw/tutorials/HHH2022/outputs_HHH2022_20220701_noSgHparam_xsec/combined/nonres/*/0_kl.root'"
      ]
     },
     "execution_count": 85,
     "metadata": {},
     "output_type": "execute_result"
    }
   ],
   "source": [
    "os.path.join(paths['output'], 'combined', config['resonant_type'], \"*\", \"0_kl.root\")"
   ]
  },
  {
   "cell_type": "code",
   "execution_count": 86,
   "id": "9b29cd4d",
   "metadata": {},
   "outputs": [
    {
     "data": {
      "text/plain": [
       "{'bbbb': '/afs/cern.ch/work/z/zhangr/HHcomb/hh_combination_fw/hh_combination_fw/tutorials/HHH2022/outputs_HHH2022_20220701_noSgHparam_xsec/rescaled/nonres/bbbb/0_kl.root',\n",
       " 'bbtautau': '/afs/cern.ch/work/z/zhangr/HHcomb/hh_combination_fw/hh_combination_fw/tutorials/HHH2022/outputs_HHH2022_20220701_noSgHparam_xsec/rescaled/nonres/bbtautau/0_kl.root',\n",
       " 'bbyy': '/afs/cern.ch/work/z/zhangr/HHcomb/hh_combination_fw/hh_combination_fw/tutorials/HHH2022/outputs_HHH2022_20220701_noSgHparam_xsec/rescaled/nonres/bbyy/0_kl.root',\n",
       " 'combined': '/afs/cern.ch/work/z/zhangr/HHcomb/hh_combination_fw/hh_combination_fw/tutorials/HHH2022/outputs_HHH2022_20220701_noSgHparam_xsec/combined/nonres/A-bbbb_bbtautau_bbyy-fullcorr/0_kl.root'}"
      ]
     },
     "execution_count": 86,
     "metadata": {},
     "output_type": "execute_result"
    }
   ],
   "source": [
    "rescaled_ws_paths = {}\n",
    "for channel in config['channels']:\n",
    "    ws_path = os.path.join(paths['output'], 'rescaled', config['resonant_type'], channel, \"0_kl.root\")\n",
    "    rescaled_ws_paths[channel] = ws_path\n",
    "# rescaled workspace path for combined workspacee\n",
    "ws_path = glob.glob(os.path.join(paths['output'], 'combined', config['resonant_type'], \"*\", \"0_kl.root\"))[0]\n",
    "rescaled_ws_paths[\"combined\"] = ws_path\n",
    "rescaled_ws_paths"
   ]
  },
  {
   "cell_type": "code",
   "execution_count": 87,
   "id": "41621972",
   "metadata": {},
   "outputs": [],
   "source": [
    "# use '_job' + suffix to split scan range\n",
    "param_expr_maps = {\n",
    "    'klambda_job1': \"^klambda=-10_-5_0.2^\",\n",
    "    'klambda_job2': \"^klambda=-5_0_0.2^\",\n",
    "    'klambda_job3': \"^klambda=0_5_0.2^\",\n",
    "    'klambda_job4': \"^klambda=5_10_0.2^\",\n",
    "    'klambda_job5': \"^klambda=10_15_0.2^\",\n",
    "    'klambda_job7': \"^klambda=4_7_0.1^\",\n",
    "    'klambda_final': \"^klambda=-10_15_0.2,klambda=4_7_0.1^\",\n",
    "    'k2v_job1': \"^k2V=-2_0_0.2^\",\n",
    "    'k2v_job1': \"^k2V=0_2_0.2^\",\n",
    "    'k2v_job1': \"^k2V=2_4_0.2^\",\n",
    "    'k2v_job2': \"^k2V=0_1_0.05^\",\n",
    "    'k2v_job3': \"^k2V=1_2_0.05^\",\n",
    "    'k2v_final': \"^k2V=-2_4_0.2,k2V=0_2_0.05^\",\n",
    "#     'klambdak2v_final': \"^klambda=-15_20_0.2,k2V=-2_4_0.2^\",\n",
    "#     'k2vkv_final': \"^k2V=-2_6_0.2,kV=-3_3_0.2^\",\n",
    "}\n",
    "\n",
    "# param_expr_maps.update(create_job('klambda=-15_20_0.2,k2V=-2_4_0.2', 'klambdak2v'))\n",
    "# param_expr_maps.update(create_job('k2V=-2_6_0.2,kV=-3_-2_0.2', 'k2vkv', suf='a'))\n",
    "# param_expr_maps.update(create_job('k2V=-2_6_0.2,kV=-2_-1_0.2', 'k2vkv', suf='b'))\n",
    "# param_expr_maps.update(create_job('k2V=-2_6_0.2,kV=-1_0_0.2', 'k2vkv', suf='c'))\n",
    "# param_expr_maps.update(create_job('k2V=-2_6_0.2,kV=0_1_0.2', 'k2vkv', suf='d'))\n",
    "# param_expr_maps.update(create_job('k2V=-2_6_0.2,kV=1_2_0.2', 'k2vkv', suf='e'))\n",
    "# param_expr_maps.update(create_job('k2V=-2_6_0.2,kV=2_3_0.2', 'k2vkv', suf='f'))\n",
    "# pprint(param_expr_maps)"
   ]
  },
  {
   "cell_type": "code",
   "execution_count": 88,
   "id": "006b5227",
   "metadata": {},
   "outputs": [
    {
     "name": "stdout",
     "output_type": "stream",
     "text": [
      "# Channel: bbbb\n",
      "quickstats limit_scan --input_path /afs/cern.ch/work/z/zhangr/HHcomb/hh_combination_fw/hh_combination_fw/tutorials/HHH2022/outputs_HHH2022_20220701_noSgHparam_xsec/rescaled/nonres/bbbb/0_kl.root --outdir /afs/cern.ch/work/z/zhangr/HHcomb/hh_combination_fw/hh_combination_fw/tutorials/HHH2022/outputs_HHH2022_20220701_noSgHparam_xsec/xsection_scan/bbbb/klambda --param_expr \"klambda=-10_15_0.2,klambda=4_7_0.1\" --poi xsec_br --data combData --unblind  --fix \"THEO_XS_fixmu_*=0,alpha_THEO_XS_PDFalphas_VBFSMHH*=0,alpha_THEO_XS_PDFalphas_ggFSMHH*=0,alpha_THEO_XS_SCALEMTop_ggFSMHH*=0,THEO_XS_COMBINED_HH_ggF*=0,THEO_XS_PDFalphas_HH_VBF*=0,THEO_XS_PDFalphas_HH_ggF*=0,THEO_XS_SCALE_HH_VBF*=0,alpha_THEO_XS_PDFalphas_ggf=0,alpha_THEO_XS_PDFalphas_vbf=0,alpha_THEO_XS_SCALEMTop_ggf=0,alpha_THEO_XS_SCALEMTop_vbf=0\"\n",
      "quickstats limit_scan --input_path /afs/cern.ch/work/z/zhangr/HHcomb/hh_combination_fw/hh_combination_fw/tutorials/HHH2022/outputs_HHH2022_20220701_noSgHparam_xsec/rescaled/nonres/bbbb/0_kl.root --outdir /afs/cern.ch/work/z/zhangr/HHcomb/hh_combination_fw/hh_combination_fw/tutorials/HHH2022/outputs_HHH2022_20220701_noSgHparam_xsec/xsection_scan/bbbb/k2v --param_expr \"k2V=-2_4_0.2,k2V=0_2_0.05\" --poi mu_HH_VBF --data combData --unblind  --fix \"THEO_XS_fixmu_*ggFHH=0,alpha_THEO_XS_PDFalphas_VBFSMHH*=0,THEO_XS_PDFalphas_HH_VBF*=0,THEO_XS_SCALE_HH_VBF*=0,alpha_THEO_XS_PDFalphas_vbf=0,alpha_THEO_XS_SCALEMTop_vbf=0\"\n",
      "\n",
      "# Channel: bbtautau\n",
      "quickstats limit_scan --input_path /afs/cern.ch/work/z/zhangr/HHcomb/hh_combination_fw/hh_combination_fw/tutorials/HHH2022/outputs_HHH2022_20220701_noSgHparam_xsec/rescaled/nonres/bbtautau/0_kl.root --outdir /afs/cern.ch/work/z/zhangr/HHcomb/hh_combination_fw/hh_combination_fw/tutorials/HHH2022/outputs_HHH2022_20220701_noSgHparam_xsec/xsection_scan/bbtautau/klambda --param_expr \"klambda=-10_15_0.2,klambda=4_7_0.1\" --poi xsec_br --data combData --unblind  --fix \"THEO_XS_fixmu_*=0,alpha_THEO_XS_PDFalphas_VBFSMHH*=0,alpha_THEO_XS_PDFalphas_ggFSMHH*=0,alpha_THEO_XS_SCALEMTop_ggFSMHH*=0,THEO_XS_COMBINED_HH_ggF*=0,THEO_XS_PDFalphas_HH_VBF*=0,THEO_XS_PDFalphas_HH_ggF*=0,THEO_XS_SCALE_HH_VBF*=0,alpha_THEO_XS_PDFalphas_ggf=0,alpha_THEO_XS_PDFalphas_vbf=0,alpha_THEO_XS_SCALEMTop_ggf=0,alpha_THEO_XS_SCALEMTop_vbf=0\"\n",
      "quickstats limit_scan --input_path /afs/cern.ch/work/z/zhangr/HHcomb/hh_combination_fw/hh_combination_fw/tutorials/HHH2022/outputs_HHH2022_20220701_noSgHparam_xsec/rescaled/nonres/bbtautau/0_kl.root --outdir /afs/cern.ch/work/z/zhangr/HHcomb/hh_combination_fw/hh_combination_fw/tutorials/HHH2022/outputs_HHH2022_20220701_noSgHparam_xsec/xsection_scan/bbtautau/k2v --param_expr \"k2V=-2_4_0.2,k2V=0_2_0.05\" --poi mu_HH_VBF --data combData --unblind  --fix \"THEO_XS_fixmu_*ggFHH=0,alpha_THEO_XS_PDFalphas_VBFSMHH*=0,THEO_XS_PDFalphas_HH_VBF*=0,THEO_XS_SCALE_HH_VBF*=0,alpha_THEO_XS_PDFalphas_vbf=0,alpha_THEO_XS_SCALEMTop_vbf=0\"\n",
      "\n",
      "# Channel: bbyy\n",
      "quickstats limit_scan --input_path /afs/cern.ch/work/z/zhangr/HHcomb/hh_combination_fw/hh_combination_fw/tutorials/HHH2022/outputs_HHH2022_20220701_noSgHparam_xsec/rescaled/nonres/bbyy/0_kl.root --outdir /afs/cern.ch/work/z/zhangr/HHcomb/hh_combination_fw/hh_combination_fw/tutorials/HHH2022/outputs_HHH2022_20220701_noSgHparam_xsec/xsection_scan/bbyy/klambda --param_expr \"klambda=-10_15_0.2,klambda=4_7_0.1\" --poi xsec_br --data combData --unblind  --fix \"THEO_XS_fixmu_*=0,alpha_THEO_XS_PDFalphas_VBFSMHH*=0,alpha_THEO_XS_PDFalphas_ggFSMHH*=0,alpha_THEO_XS_SCALEMTop_ggFSMHH*=0,THEO_XS_COMBINED_HH_ggF*=0,THEO_XS_PDFalphas_HH_VBF*=0,THEO_XS_PDFalphas_HH_ggF*=0,THEO_XS_SCALE_HH_VBF*=0,alpha_THEO_XS_PDFalphas_ggf=0,alpha_THEO_XS_PDFalphas_vbf=0,alpha_THEO_XS_SCALEMTop_ggf=0,alpha_THEO_XS_SCALEMTop_vbf=0\"\n",
      "quickstats limit_scan --input_path /afs/cern.ch/work/z/zhangr/HHcomb/hh_combination_fw/hh_combination_fw/tutorials/HHH2022/outputs_HHH2022_20220701_noSgHparam_xsec/rescaled/nonres/bbyy/0_kl.root --outdir /afs/cern.ch/work/z/zhangr/HHcomb/hh_combination_fw/hh_combination_fw/tutorials/HHH2022/outputs_HHH2022_20220701_noSgHparam_xsec/xsection_scan/bbyy/k2v --param_expr \"k2V=-2_4_0.2,k2V=0_2_0.05\" --poi mu_HH_VBF --data combData --unblind  --fix \"THEO_XS_fixmu_*ggFHH=0,alpha_THEO_XS_PDFalphas_VBFSMHH*=0,THEO_XS_PDFalphas_HH_VBF*=0,THEO_XS_SCALE_HH_VBF*=0,alpha_THEO_XS_PDFalphas_vbf=0,alpha_THEO_XS_SCALEMTop_vbf=0\"\n",
      "\n",
      "# Channel: combined\n",
      "quickstats limit_scan --input_path /afs/cern.ch/work/z/zhangr/HHcomb/hh_combination_fw/hh_combination_fw/tutorials/HHH2022/outputs_HHH2022_20220701_noSgHparam_xsec/combined/nonres/A-bbbb_bbtautau_bbyy-fullcorr/0_kl.root --outdir /afs/cern.ch/work/z/zhangr/HHcomb/hh_combination_fw/hh_combination_fw/tutorials/HHH2022/outputs_HHH2022_20220701_noSgHparam_xsec/xsection_scan/combined/klambda --param_expr \"klambda=-10_15_0.2,klambda=4_7_0.1\" --poi xsec_br --data combData --unblind  --fix \"THEO_XS_fixmu_*=0,alpha_THEO_XS_PDFalphas_VBFSMHH*=0,alpha_THEO_XS_PDFalphas_ggFSMHH*=0,alpha_THEO_XS_SCALEMTop_ggFSMHH*=0,THEO_XS_COMBINED_HH_ggF*=0,THEO_XS_PDFalphas_HH_VBF*=0,THEO_XS_PDFalphas_HH_ggF*=0,THEO_XS_SCALE_HH_VBF*=0,alpha_THEO_XS_PDFalphas_ggf=0,alpha_THEO_XS_PDFalphas_vbf=0,alpha_THEO_XS_SCALEMTop_ggf=0,alpha_THEO_XS_SCALEMTop_vbf=0\"\n",
      "quickstats limit_scan --input_path /afs/cern.ch/work/z/zhangr/HHcomb/hh_combination_fw/hh_combination_fw/tutorials/HHH2022/outputs_HHH2022_20220701_noSgHparam_xsec/combined/nonres/A-bbbb_bbtautau_bbyy-fullcorr/0_kl.root --outdir /afs/cern.ch/work/z/zhangr/HHcomb/hh_combination_fw/hh_combination_fw/tutorials/HHH2022/outputs_HHH2022_20220701_noSgHparam_xsec/xsection_scan/combined/k2v --param_expr \"k2V=-2_4_0.2,k2V=0_2_0.05\" --poi mu_HH_VBF --data combData --unblind  --fix \"THEO_XS_fixmu_*ggFHH=0,alpha_THEO_XS_PDFalphas_VBFSMHH*=0,THEO_XS_PDFalphas_HH_VBF*=0,THEO_XS_SCALE_HH_VBF*=0,alpha_THEO_XS_PDFalphas_vbf=0,alpha_THEO_XS_SCALEMTop_vbf=0\"\n",
      "\n"
     ]
    }
   ],
   "source": [
    "options_map = [{\n",
    "    'poi'         : 'xsec_br',\n",
    "    'data'        : 'combData',\n",
    "    'unblind'     : '',\n",
    "    'fix'         : \"^THEO_XS_fixmu_*=0,alpha_THEO_XS_PDFalphas_VBFSMHH*=0,alpha_THEO_XS_PDFalphas_ggFSMHH*=0,alpha_THEO_XS_SCALEMTop_ggFSMHH*=0,THEO_XS_COMBINED_HH_ggF*=0,THEO_XS_PDFalphas_HH_VBF*=0,THEO_XS_PDFalphas_HH_ggF*=0,THEO_XS_SCALE_HH_VBF*=0,alpha_THEO_XS_PDFalphas_ggf=0,alpha_THEO_XS_PDFalphas_vbf=0,alpha_THEO_XS_SCALEMTop_ggf=0,alpha_THEO_XS_SCALEMTop_vbf=0^\",\n",
    "}, {\n",
    "    'poi'         : 'mu_HH_VBF',\n",
    "    'data'        : 'combData',\n",
    "    'unblind'     : '',\n",
    "    'fix'         : \"^THEO_XS_fixmu_*ggFHH=0,alpha_THEO_XS_PDFalphas_VBFSMHH*=0,THEO_XS_PDFalphas_HH_VBF*=0,THEO_XS_SCALE_HH_VBF*=0,alpha_THEO_XS_PDFalphas_vbf=0,alpha_THEO_XS_SCALEMTop_vbf=0^\",\n",
    "}\n",
    "]\n",
    "command_str_map = {}\n",
    "\n",
    "condor = False\n",
    "if condor:\n",
    "    print('Save job2.txt')\n",
    "    original_stdout = sys.stdout\n",
    "    sys.stdout = open('job2.txt', 'w')\n",
    "\n",
    "for channel in rescaled_ws_paths:\n",
    "    print(f\"# Channel: {channel}\")\n",
    "    input_path  = rescaled_ws_paths[channel]\n",
    "    for key, expr in param_expr_maps.items():\n",
    "        if key.split('_')[0] == 'k2v':\n",
    "            options = options_map[1]\n",
    "        else:\n",
    "            options = options_map[0]\n",
    "        \n",
    "        if condor and 'final' in key:\n",
    "            continue\n",
    "        if not condor and 'job' in key:\n",
    "            continue\n",
    "        if 'final' in key:\n",
    "            outdir = os.path.join(paths['output'], 'xsection_scan', channel, key.replace('_final', ''))\n",
    "        else:\n",
    "            outdir = os.path.join(paths['output'], 'xsection_scan', channel, (key+'1')[:key.find('_job')])\n",
    "\n",
    "        channel_options = {\"input_path\": input_path, \"outdir\": outdir, \"param_expr\": expr, **options}\n",
    "        channel_command_str = \"quickstats limit_scan \" + \\\n",
    "                              \" \".join([f\"--{key} {value}\" for key, value in channel_options.items()])\n",
    "        command_str_map[channel] = channel_command_str\n",
    "\n",
    "\n",
    "        if not condor:\n",
    "            print(channel_command_str.replace('^', '\"'))\n",
    "        else:\n",
    "            print(\"Arguments =\", channel_command_str.replace(' ', '____'))\n",
    "            print(\"Queue 1\")\n",
    "    print()\n",
    "\n",
    "if condor:\n",
    "    sys.stdout = original_stdout"
   ]
  },
  {
   "cell_type": "code",
   "execution_count": 28,
   "id": "3fec85a5",
   "metadata": {},
   "outputs": [
    {
     "name": "stdout",
     "output_type": "stream",
     "text": [
      "INFO: Opening file \"/afs/cern.ch/user/z/zhangr/work//HHcomb/hh_combination_fw/hh_combination_fw/tutorials/HHH2022/outputs_HHH2022_20220520_with_BR_decorrelation/rescaled/nonres/bbbb/0_kl.root\"\n",
      "INFO: Loaded workspace \"combWS\"\n",
      "INFO: Loaded model config \"ModelConfig\"\n",
      "INFO: Activated binned likelihood attribute for ggf_16_dEta_1_Xhh_1_model\n",
      "INFO: Activated binned likelihood attribute for ggf_16_dEta_1_Xhh_2_model\n",
      "INFO: Activated binned likelihood attribute for ggf_16_dEta_2_Xhh_1_model\n",
      "INFO: Activated binned likelihood attribute for ggf_16_dEta_2_Xhh_2_model\n",
      "INFO: Activated binned likelihood attribute for ggf_16_dEta_3_Xhh_1_model\n",
      "INFO: Activated binned likelihood attribute for ggf_16_dEta_3_Xhh_2_model\n",
      "INFO: Activated binned likelihood attribute for ggf_17_dEta_1_Xhh_1_model\n",
      "INFO: Activated binned likelihood attribute for ggf_17_dEta_1_Xhh_2_model\n",
      "INFO: Activated binned likelihood attribute for ggf_17_dEta_2_Xhh_1_model\n",
      "INFO: Activated binned likelihood attribute for ggf_17_dEta_2_Xhh_2_model\n",
      "INFO: Activated binned likelihood attribute for ggf_17_dEta_3_Xhh_1_model\n",
      "INFO: Activated binned likelihood attribute for ggf_17_dEta_3_Xhh_2_model\n",
      "INFO: Activated binned likelihood attribute for ggf_18_dEta_1_Xhh_1_model\n",
      "INFO: Activated binned likelihood attribute for ggf_18_dEta_1_Xhh_2_model\n",
      "INFO: Activated binned likelihood attribute for ggf_18_dEta_2_Xhh_1_model\n",
      "INFO: Activated binned likelihood attribute for ggf_18_dEta_2_Xhh_2_model\n",
      "INFO: Activated binned likelihood attribute for ggf_18_dEta_3_Xhh_1_model\n",
      "INFO: Activated binned likelihood attribute for ggf_18_dEta_3_Xhh_2_model\n",
      "INFO: Activated binned likelihood attribute for vbf_-1_dEta_1_model\n",
      "INFO: Activated binned likelihood attribute for vbf_-1_dEta_2_model\n",
      "INFO: Loaded model pdf \"simPdf\" from model config\n",
      "INFO: Loaded dataset \"combData\" from workspace\n",
      "INFO: Loaded nuisance parameters from model config\n",
      "INFO: Loaded global observables from model config\n",
      "INFO: Loaded parameters of interest from model config\n",
      "INFO: Loaded observables from model config\n"
     ]
    },
    {
     "ename": "KeyError",
     "evalue": "'nuisance parameter'",
     "output_type": "error",
     "traceback": [
      "\u001b[0;31m---------------------------------------------------------------------------\u001b[0m",
      "\u001b[0;31mKeyError\u001b[0m                                  Traceback (most recent call last)",
      "\u001b[0;32m/cvmfs/sft.cern.ch/lcg/views/LCG_101/x86_64-centos7-gcc8-opt/lib/python3.9/site-packages/pandas/core/indexes/base.py\u001b[0m in \u001b[0;36mget_loc\u001b[0;34m(self, key, method, tolerance)\u001b[0m\n\u001b[1;32m   3079\u001b[0m             \u001b[0;32mtry\u001b[0m\u001b[0;34m:\u001b[0m\u001b[0;34m\u001b[0m\u001b[0;34m\u001b[0m\u001b[0m\n\u001b[0;32m-> 3080\u001b[0;31m                 \u001b[0;32mreturn\u001b[0m \u001b[0mself\u001b[0m\u001b[0;34m.\u001b[0m\u001b[0m_engine\u001b[0m\u001b[0;34m.\u001b[0m\u001b[0mget_loc\u001b[0m\u001b[0;34m(\u001b[0m\u001b[0mcasted_key\u001b[0m\u001b[0;34m)\u001b[0m\u001b[0;34m\u001b[0m\u001b[0;34m\u001b[0m\u001b[0m\n\u001b[0m\u001b[1;32m   3081\u001b[0m             \u001b[0;32mexcept\u001b[0m \u001b[0mKeyError\u001b[0m \u001b[0;32mas\u001b[0m \u001b[0merr\u001b[0m\u001b[0;34m:\u001b[0m\u001b[0;34m\u001b[0m\u001b[0;34m\u001b[0m\u001b[0m\n",
      "\u001b[0;32mpandas/_libs/index.pyx\u001b[0m in \u001b[0;36mpandas._libs.index.IndexEngine.get_loc\u001b[0;34m()\u001b[0m\n",
      "\u001b[0;32mpandas/_libs/index.pyx\u001b[0m in \u001b[0;36mpandas._libs.index.IndexEngine.get_loc\u001b[0;34m()\u001b[0m\n",
      "\u001b[0;32mpandas/_libs/hashtable_class_helper.pxi\u001b[0m in \u001b[0;36mpandas._libs.hashtable.PyObjectHashTable.get_item\u001b[0;34m()\u001b[0m\n",
      "\u001b[0;32mpandas/_libs/hashtable_class_helper.pxi\u001b[0m in \u001b[0;36mpandas._libs.hashtable.PyObjectHashTable.get_item\u001b[0;34m()\u001b[0m\n",
      "\u001b[0;31mKeyError\u001b[0m: 'nuisance parameter'",
      "\nThe above exception was the direct cause of the following exception:\n",
      "\u001b[0;31mKeyError\u001b[0m                                  Traceback (most recent call last)",
      "\u001b[0;32m/tmp/zhangr/ipykernel_20677/2513982680.py\u001b[0m in \u001b[0;36m<module>\u001b[0;34m\u001b[0m\n\u001b[1;32m      3\u001b[0m \u001b[0mmodel\u001b[0m \u001b[0;34m=\u001b[0m \u001b[0mExtendedModel\u001b[0m\u001b[0;34m(\u001b[0m\u001b[0mfile\u001b[0m\u001b[0;34m)\u001b[0m\u001b[0;34m\u001b[0m\u001b[0;34m\u001b[0m\u001b[0m\n\u001b[1;32m      4\u001b[0m \u001b[0mdf\u001b[0m \u001b[0;34m=\u001b[0m \u001b[0mmodel\u001b[0m\u001b[0;34m.\u001b[0m\u001b[0mas_dataframe\u001b[0m\u001b[0;34m(\u001b[0m\u001b[0;34m\"constraint\"\u001b[0m\u001b[0;34m)\u001b[0m\u001b[0;34m\u001b[0m\u001b[0;34m\u001b[0m\u001b[0m\n\u001b[0;32m----> 5\u001b[0;31m \u001b[0mdf\u001b[0m\u001b[0;34m[\u001b[0m\u001b[0mdf\u001b[0m\u001b[0;34m[\u001b[0m\u001b[0;34m\"nuisance parameter\"\u001b[0m\u001b[0;34m]\u001b[0m \u001b[0;34m==\u001b[0m \u001b[0;34m'THEO_BR_Hbb'\u001b[0m\u001b[0;34m]\u001b[0m\u001b[0;34m\u001b[0m\u001b[0;34m\u001b[0m\u001b[0m\n\u001b[0m",
      "\u001b[0;32m/cvmfs/sft.cern.ch/lcg/views/LCG_101/x86_64-centos7-gcc8-opt/lib/python3.9/site-packages/pandas/core/frame.py\u001b[0m in \u001b[0;36m__getitem__\u001b[0;34m(self, key)\u001b[0m\n\u001b[1;32m   3022\u001b[0m             \u001b[0;32mif\u001b[0m \u001b[0mself\u001b[0m\u001b[0;34m.\u001b[0m\u001b[0mcolumns\u001b[0m\u001b[0;34m.\u001b[0m\u001b[0mnlevels\u001b[0m \u001b[0;34m>\u001b[0m \u001b[0;36m1\u001b[0m\u001b[0;34m:\u001b[0m\u001b[0;34m\u001b[0m\u001b[0;34m\u001b[0m\u001b[0m\n\u001b[1;32m   3023\u001b[0m                 \u001b[0;32mreturn\u001b[0m \u001b[0mself\u001b[0m\u001b[0;34m.\u001b[0m\u001b[0m_getitem_multilevel\u001b[0m\u001b[0;34m(\u001b[0m\u001b[0mkey\u001b[0m\u001b[0;34m)\u001b[0m\u001b[0;34m\u001b[0m\u001b[0;34m\u001b[0m\u001b[0m\n\u001b[0;32m-> 3024\u001b[0;31m             \u001b[0mindexer\u001b[0m \u001b[0;34m=\u001b[0m \u001b[0mself\u001b[0m\u001b[0;34m.\u001b[0m\u001b[0mcolumns\u001b[0m\u001b[0;34m.\u001b[0m\u001b[0mget_loc\u001b[0m\u001b[0;34m(\u001b[0m\u001b[0mkey\u001b[0m\u001b[0;34m)\u001b[0m\u001b[0;34m\u001b[0m\u001b[0;34m\u001b[0m\u001b[0m\n\u001b[0m\u001b[1;32m   3025\u001b[0m             \u001b[0;32mif\u001b[0m \u001b[0mis_integer\u001b[0m\u001b[0;34m(\u001b[0m\u001b[0mindexer\u001b[0m\u001b[0;34m)\u001b[0m\u001b[0;34m:\u001b[0m\u001b[0;34m\u001b[0m\u001b[0;34m\u001b[0m\u001b[0m\n\u001b[1;32m   3026\u001b[0m                 \u001b[0mindexer\u001b[0m \u001b[0;34m=\u001b[0m \u001b[0;34m[\u001b[0m\u001b[0mindexer\u001b[0m\u001b[0;34m]\u001b[0m\u001b[0;34m\u001b[0m\u001b[0;34m\u001b[0m\u001b[0m\n",
      "\u001b[0;32m/cvmfs/sft.cern.ch/lcg/views/LCG_101/x86_64-centos7-gcc8-opt/lib/python3.9/site-packages/pandas/core/indexes/base.py\u001b[0m in \u001b[0;36mget_loc\u001b[0;34m(self, key, method, tolerance)\u001b[0m\n\u001b[1;32m   3080\u001b[0m                 \u001b[0;32mreturn\u001b[0m \u001b[0mself\u001b[0m\u001b[0;34m.\u001b[0m\u001b[0m_engine\u001b[0m\u001b[0;34m.\u001b[0m\u001b[0mget_loc\u001b[0m\u001b[0;34m(\u001b[0m\u001b[0mcasted_key\u001b[0m\u001b[0;34m)\u001b[0m\u001b[0;34m\u001b[0m\u001b[0;34m\u001b[0m\u001b[0m\n\u001b[1;32m   3081\u001b[0m             \u001b[0;32mexcept\u001b[0m \u001b[0mKeyError\u001b[0m \u001b[0;32mas\u001b[0m \u001b[0merr\u001b[0m\u001b[0;34m:\u001b[0m\u001b[0;34m\u001b[0m\u001b[0;34m\u001b[0m\u001b[0m\n\u001b[0;32m-> 3082\u001b[0;31m                 \u001b[0;32mraise\u001b[0m \u001b[0mKeyError\u001b[0m\u001b[0;34m(\u001b[0m\u001b[0mkey\u001b[0m\u001b[0;34m)\u001b[0m \u001b[0;32mfrom\u001b[0m \u001b[0merr\u001b[0m\u001b[0;34m\u001b[0m\u001b[0;34m\u001b[0m\u001b[0m\n\u001b[0m\u001b[1;32m   3083\u001b[0m \u001b[0;34m\u001b[0m\u001b[0m\n\u001b[1;32m   3084\u001b[0m         \u001b[0;32mif\u001b[0m \u001b[0mtolerance\u001b[0m \u001b[0;32mis\u001b[0m \u001b[0;32mnot\u001b[0m \u001b[0;32mNone\u001b[0m\u001b[0;34m:\u001b[0m\u001b[0;34m\u001b[0m\u001b[0;34m\u001b[0m\u001b[0m\n",
      "\u001b[0;31mKeyError\u001b[0m: 'nuisance parameter'"
     ]
    }
   ],
   "source": [
    "from quickstats.components import ExtendedModel\n",
    "file='/afs/cern.ch/user/z/zhangr/work//HHcomb/hh_combination_fw/hh_combination_fw/tutorials/HHH2022/outputs_HHH2022_20220520_with_BR_decorrelation/rescaled/nonres/bbbb/0_kl.root'\n",
    "model = ExtendedModel(file)\n",
    "df = model.as_dataframe(\"constraint\")\n"
   ]
  },
  {
   "cell_type": "code",
   "execution_count": null,
   "id": "dfcbcb74",
   "metadata": {},
   "outputs": [],
   "source": []
  }
 ],
 "metadata": {
  "kernelspec": {
   "display_name": "Python 3 (ipykernel)",
   "language": "python",
   "name": "python3"
  },
  "language_info": {
   "codemirror_mode": {
    "name": "ipython",
    "version": 3
   },
   "file_extension": ".py",
   "mimetype": "text/x-python",
   "name": "python",
   "nbconvert_exporter": "python",
   "pygments_lexer": "ipython3",
   "version": "3.9.6"
  }
 },
 "nbformat": 4,
 "nbformat_minor": 5
}
