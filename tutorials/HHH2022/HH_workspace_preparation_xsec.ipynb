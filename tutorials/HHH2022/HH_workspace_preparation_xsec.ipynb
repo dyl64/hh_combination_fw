{
 "cells": [
  {
   "cell_type": "code",
   "execution_count": 3,
   "id": "5fe7f869",
   "metadata": {},
   "outputs": [
    {
     "name": "stdout",
     "output_type": "stream",
     "text": [
      "The autoreload extension is already loaded. To reload it, use:\n",
      "  %reload_ext autoreload\n"
     ]
    }
   ],
   "source": [
    "import os\n",
    "import glob\n",
    "import json\n",
    "import quickstats\n",
    "import sys, numpy as np\n",
    "from quickstats.components import AnalysisBase\n",
    "\n",
    "%load_ext autoreload\n",
    "%autoreload 2\n",
    "%reload_ext autoreload\n",
    "%matplotlib inline"
   ]
  },
  {
   "cell_type": "code",
   "execution_count": 4,
   "id": "fab599ae",
   "metadata": {},
   "outputs": [],
   "source": [
    "# make sure hh combination fw path is defined\n",
    "hh_comb_fw_path = os.environ.get('hh_combination_fw_path', None)\n",
    "\n",
    "assert hh_comb_fw_path\n",
    "\n",
    "gen_command = True"
   ]
  },
  {
   "cell_type": "code",
   "execution_count": 5,
   "id": "6cc5f08d",
   "metadata": {},
   "outputs": [],
   "source": [
    "from quickstats.maths.numerics import is_integer, pretty_value\n",
    "from pprint import pprint\n",
    "def create_job(string, key, suf=''):\n",
    "    tmp = string.split(',')\n",
    "    poi1 = tmp[0].split('=')[0]\n",
    "    poi2 = tmp[1].split('=')[0]\n",
    "    poi1_tmp = tmp[0].split('=')[1].split('_')\n",
    "    poi2_tmp = tmp[1].split('=')[1].split('_')\n",
    "    poi1_range = [float(p) for p in poi1_tmp[0:2]]\n",
    "    poi1_step = float(poi1_tmp[2])\n",
    "    poi2_range = [float(p) for p in poi2_tmp[0:2]]\n",
    "    poi2_step = float(poi2_tmp[2])\n",
    "\n",
    "    poi1_nsteps = int((poi1_range[1] - poi1_range[0]) / poi1_step)\n",
    "    poi2_nsteps = int((poi2_range[1] - poi2_range[0]) / poi2_step)\n",
    "\n",
    "#     # slice poi1 with full poi2 range\n",
    "#     if poi1_nsteps < poi2_nsteps and poi2_nsteps > 12:\n",
    "#         poi1, poi1_range, poi1_step, poi1_nsteps, poi2, poi2_range, poi2_step, poi2_nsteps = poi2, poi2_range, poi2_step, poi2_nsteps, poi1, poi1_range, poi1_step, poi1_nsteps\n",
    "        \n",
    "    poi_slice_up = np.arange(poi1_range[0], poi1_range[1], poi1_step).round(decimals=2)\n",
    "    new_dict = {}\n",
    "    for i in range(poi1_nsteps):\n",
    "        key_name = key+f'_job{suf}{i+1}'\n",
    "        value = f\"^{poi1}={poi_slice_up[i]}_{pretty_value(poi_slice_up[i]+poi1_step)}_{poi1_step},{poi2}={pretty_value(poi2_range[0])}_{pretty_value(poi2_range[1])}_{poi2_step}^\"\n",
    "        new_dict[key_name] = value\n",
    "    return new_dict\n"
   ]
  },
  {
   "cell_type": "code",
   "execution_count": 6,
   "id": "16e82b87",
   "metadata": {},
   "outputs": [],
   "source": [
    "def return_combine_command(paths, config):\n",
    "    options = {\n",
    "        \"input_dir\"    : paths['output'],\n",
    "        \"resonant_type\": config['resonant_type'],\n",
    "        \"channels\"     : \",\".join(config['channels']),\n",
    "        \"file_expr\"    : f\"\\\"{config['file_expr']}\\\"\",\n",
    "        \"config\"       : paths['task_options'],\n",
    "        \"scheme\"       : paths['correlation_schemes'],\n",
    "        \"parallel\"     : config['parallel'],\n",
    "        \"skip-limit\"   : \"\"\n",
    "    }\n",
    "    if config[\"blind\"]:\n",
    "        options[\"blind\"] = \"\"\n",
    "    else:\n",
    "        options[\"unblind\"] = \"\"\n",
    "    if config[\"experimental\"]:\n",
    "        options[\"experimental\"] = \"\"\n",
    "    else:\n",
    "        options[\"official\"] = \"\"\n",
    "    if config['cache']:\n",
    "        options['cache'] = \"\"\n",
    "    else:\n",
    "        options['no-cache'] = \"\"\n",
    "    if 'prefix' in config:\n",
    "        options['prefix'] = config['prefix']\n",
    "    if config['type'] == 'xsec':\n",
    "        options['minimizer_options'] = os.path.join(hh_comb_fw_path, \"configs/minimizer_options/fix_xs_uncertainty.json\")\n",
    "\n",
    "    command_str = \"HHComb combine_ws \" + \" \".join([f\"--{key} {value}\" for key, value in options.items()])\n",
    "    print(command_str+' &')\n",
    "    return command_str\n",
    "\n"
   ]
  },
  {
   "cell_type": "markdown",
   "id": "b9a6ace6",
   "metadata": {},
   "source": [
    "# Step 1: SM point"
   ]
  },
  {
   "cell_type": "code",
   "execution_count": 7,
   "id": "77f6fb64",
   "metadata": {},
   "outputs": [],
   "source": [
    "# specify the input timestamp to use\n",
    "timestamp = \"20220520_noSgHparam\"\n",
    "withbr = None\n",
    "\n",
    "paths = {\n",
    "    'input'              : os.path.join(hh_comb_fw_path, \"FullRun2Workspaces\", \"original\", \"HHH2022\", timestamp),\n",
    "    'task_options'       : os.path.join(hh_comb_fw_path, \"configs\", \"task_options\"       , \"HHH2022\",\n",
    "                                        f\"nonres_SM.yaml\"),\n",
    "    'correlation_schemes': os.path.join(hh_comb_fw_path, \"configs\", \"correlation_schemes\", \"HHH2022\", \n",
    "                                        \"nonres_kl_v12.json\"),\n",
    "    'output'             : os.path.join(os.getcwd(), f\"outputs_HHH2022_{timestamp}\")\n",
    "}\n",
    "\n",
    "config = {\n",
    "    'resonant_type': 'nonres',\n",
    "    'channels'     : ['bbbb', 'bbtautau', 'bbyy'],\n",
    "    'file_expr'    : '<mass[F]>',\n",
    "    'blind'        : False,\n",
    "    'cache'        : True,\n",
    "    'experimental' : True,\n",
    "    'parallel'     : -1,\n",
    "    'type'         : 'mu'\n",
    "}\n",
    "options = {\n",
    "    \"input_dir\"    : paths['input'],\n",
    "    \"resonant_type\": config['resonant_type'],\n",
    "    \"channels\"     : \",\".join(config['channels']),\n",
    "    \"outdir\"       : paths['output'],\n",
    "    \"file_expr\"    : f\"\\\"{config['file_expr']}\\\"\",\n",
    "    \"config\"       : paths['task_options'],\n",
    "    \"parallel\"     : config['parallel'],\n",
    "    \"skip-limit\"   : \"\",\n",
    "}"
   ]
  },
  {
   "cell_type": "markdown",
   "id": "d3b10c13",
   "metadata": {},
   "source": [
    "## process channels"
   ]
  },
  {
   "cell_type": "code",
   "execution_count": 8,
   "id": "14f30112",
   "metadata": {},
   "outputs": [
    {
     "name": "stdout",
     "output_type": "stream",
     "text": [
      "HHComb process_channels --input_dir /afs/cern.ch/work/z/zhangr/HHcomb/hh_combination_fw/hh_combination_fw/FullRun2Workspaces/original/HHH2022/20220520_noSgHparam --resonant_type nonres --channels bbbb,bbtautau,bbyy --outdir /afs/cern.ch/work/z/zhangr/HHcomb/hh_combination_fw/hh_combination_fw/tutorials/HHH2022/outputs_HHH2022_20220520_noSgHparam --file_expr \"<mass[F]>\" --config /afs/cern.ch/work/z/zhangr/HHcomb/hh_combination_fw/hh_combination_fw/configs/task_options/HHH2022/nonres_SM.yaml --parallel -1 --skip-limit  --unblind  --experimental  --cache \n"
     ]
    }
   ],
   "source": [
    "\n",
    "if config[\"blind\"]:\n",
    "    options[\"blind\"] = \"\"\n",
    "else:\n",
    "    options[\"unblind\"] = \"\"\n",
    "if config[\"experimental\"]:\n",
    "    options[\"experimental\"] = \"\"\n",
    "else:\n",
    "    options[\"official\"] : \"\"\n",
    "if config['cache']:\n",
    "    options['cache'] = \"\"\n",
    "else:\n",
    "    options['no-cache'] = \"\"\n",
    "    \n",
    "    \n",
    "command_str1 = \"HHComb process_channels \" + \" \".join([f\"--{key} {value}\" for key, value in options.items()])\n",
    "print(command_str1)"
   ]
  },
  {
   "cell_type": "markdown",
   "id": "36cc8788",
   "metadata": {},
   "source": [
    "## combine ws"
   ]
  },
  {
   "cell_type": "code",
   "execution_count": 9,
   "id": "8622bdf2",
   "metadata": {
    "scrolled": true
   },
   "outputs": [
    {
     "name": "stdout",
     "output_type": "stream",
     "text": [
      "HHComb combine_ws --input_dir /afs/cern.ch/work/z/zhangr/HHcomb/hh_combination_fw/hh_combination_fw/tutorials/HHH2022/outputs_HHH2022_20220520_noSgHparam --resonant_type nonres --channels bbbb,bbtautau,bbyy --file_expr \"<mass[F]>\" --config /afs/cern.ch/work/z/zhangr/HHcomb/hh_combination_fw/hh_combination_fw/configs/task_options/HHH2022/nonres_SM.yaml --scheme /afs/cern.ch/work/z/zhangr/HHcomb/hh_combination_fw/hh_combination_fw/configs/correlation_schemes/HHH2022/nonres_kl_v12.json --parallel -1 --skip-limit  --unblind  --experimental  --cache  &\n"
     ]
    }
   ],
   "source": [
    "command_str = return_combine_command(paths, config)"
   ]
  },
  {
   "cell_type": "markdown",
   "id": "3d72627d",
   "metadata": {},
   "source": [
    "## obtain path"
   ]
  },
  {
   "cell_type": "code",
   "execution_count": 10,
   "id": "4d18e415",
   "metadata": {},
   "outputs": [
    {
     "data": {
      "text/plain": [
       "{'bbbb': '/afs/cern.ch/work/z/zhangr/HHcomb/hh_combination_fw/hh_combination_fw/tutorials/HHH2022/outputs_HHH2022_20220520_noSgHparam/rescaled/nonres/bbbb/0.root',\n",
       " 'bbtautau': '/afs/cern.ch/work/z/zhangr/HHcomb/hh_combination_fw/hh_combination_fw/tutorials/HHH2022/outputs_HHH2022_20220520_noSgHparam/rescaled/nonres/bbtautau/0.root',\n",
       " 'bbyy': '/afs/cern.ch/work/z/zhangr/HHcomb/hh_combination_fw/hh_combination_fw/tutorials/HHH2022/outputs_HHH2022_20220520_noSgHparam/rescaled/nonres/bbyy/0.root',\n",
       " 'combined': '/afs/cern.ch/work/z/zhangr/HHcomb/hh_combination_fw/hh_combination_fw/tutorials/HHH2022/outputs_HHH2022_20220520_noSgHparam/combined/nonres/A-bbbb_bbtautau_bbyy-fullcorr/0.root'}"
      ]
     },
     "execution_count": 10,
     "metadata": {},
     "output_type": "execute_result"
    }
   ],
   "source": [
    "rescaled_ws_paths = {}\n",
    "for channel in config['channels']:\n",
    "    ws_path = os.path.join(paths['output'], 'rescaled', config['resonant_type'], channel, \"0.root\")\n",
    "    rescaled_ws_paths[channel]  = ws_path\n",
    "# rescaled workspace path for combined workspacee\n",
    "ws_path = glob.glob(os.path.join(paths['output'], 'combined', config['resonant_type'], \"*\", \"0.root\"))[0]\n",
    "rescaled_ws_paths[\"combined\"] = ws_path\n",
    "rescaled_ws_paths"
   ]
  },
  {
   "cell_type": "markdown",
   "id": "88aece46",
   "metadata": {},
   "source": [
    "## Step 1.1: Cross section limits"
   ]
  },
  {
   "cell_type": "code",
   "execution_count": 11,
   "id": "22bbc1ff",
   "metadata": {},
   "outputs": [],
   "source": [
    "# quickstats cls_limit -i ../../../combined/nonres/A-bbbb_bbtautau_bbyy-fullcorr/0.root -f *fixmu*=0 --outname fixmu --unblind"
   ]
  },
  {
   "cell_type": "markdown",
   "id": "2ff15f23",
   "metadata": {},
   "source": [
    "## Step 1.2: SM ranking"
   ]
  },
  {
   "cell_type": "code",
   "execution_count": 15,
   "id": "9d4e51be",
   "metadata": {},
   "outputs": [
    {
     "data": {
      "text/plain": [
       "'/afs/cern.ch/work/z/zhangr/HHcomb/hh_combination_fw/hh_combination_fw/tutorials/HHH2022/outputs_HHH2022_20220520_noSgHparam'"
      ]
     },
     "execution_count": 15,
     "metadata": {},
     "output_type": "execute_result"
    }
   ],
   "source": [
    "paths['output']"
   ]
  },
  {
   "cell_type": "code",
   "execution_count": 16,
   "id": "9868cc07",
   "metadata": {},
   "outputs": [
    {
     "name": "stdout",
     "output_type": "stream",
     "text": [
      "INFO: Loaded extension module \"FlexibleInterpVarMkII\"\n",
      "INFO: Opening file \"/afs/cern.ch/work/z/zhangr/HHcomb/hh_combination_fw/hh_combination_fw/tutorials/HHH2022/outputs_HHH2022_20220520_noSgHparam/combined/nonres/A-bbbb_bbtautau_bbyy-fullcorr/0.root\"\n",
      "INFO: Loaded workspace \"combWS\"\n",
      "INFO: Loaded model config \"ModelConfig\"\n",
      "INFO: Activated binned likelihood attribute for ggf_16_dEta_1_Xhh_1_model_bbbb\n",
      "INFO: Activated binned likelihood attribute for ggf_16_dEta_2_Xhh_1_model_bbbb\n",
      "INFO: Activated binned likelihood attribute for ggf_16_dEta_3_Xhh_1_model_bbbb\n",
      "INFO: Activated binned likelihood attribute for ggf_16_dEta_1_Xhh_2_model_bbbb\n",
      "INFO: Activated binned likelihood attribute for ggf_16_dEta_2_Xhh_2_model_bbbb\n",
      "INFO: Activated binned likelihood attribute for ggf_16_dEta_3_Xhh_2_model_bbbb\n",
      "INFO: Activated binned likelihood attribute for ggf_17_dEta_1_Xhh_1_model_bbbb\n",
      "INFO: Activated binned likelihood attribute for ggf_17_dEta_2_Xhh_1_model_bbbb\n",
      "INFO: Activated binned likelihood attribute for ggf_17_dEta_3_Xhh_1_model_bbbb\n",
      "INFO: Activated binned likelihood attribute for ggf_17_dEta_1_Xhh_2_model_bbbb\n",
      "INFO: Activated binned likelihood attribute for ggf_17_dEta_2_Xhh_2_model_bbbb\n",
      "INFO: Activated binned likelihood attribute for ggf_17_dEta_3_Xhh_2_model_bbbb\n",
      "INFO: Activated binned likelihood attribute for ggf_18_dEta_1_Xhh_1_model_bbbb\n",
      "INFO: Activated binned likelihood attribute for ggf_18_dEta_2_Xhh_1_model_bbbb\n",
      "INFO: Activated binned likelihood attribute for ggf_18_dEta_3_Xhh_1_model_bbbb\n",
      "INFO: Activated binned likelihood attribute for ggf_18_dEta_1_Xhh_2_model_bbbb\n",
      "INFO: Activated binned likelihood attribute for ggf_18_dEta_2_Xhh_2_model_bbbb\n",
      "INFO: Activated binned likelihood attribute for ggf_18_dEta_3_Xhh_2_model_bbbb\n",
      "INFO: Activated binned likelihood attribute for vbf_-1_dEta_1_model_bbbb\n",
      "INFO: Activated binned likelihood attribute for vbf_-1_dEta_2_model_bbbb\n",
      "INFO: Activated binned likelihood attribute for Region_BMin0_incJet1_distNN_J2_DSM_T2_SpcTauLH_Y2015_LTT0_L1_model_bbtautau\n",
      "INFO: Activated binned likelihood attribute for Region_BMin0_incJet1_distSMBDT_J2_Y2015_DLLOS_T2_SpcTauHH_L0_model_bbtautau\n",
      "INFO: Activated binned likelihood attribute for Region_BMin0_incJet1_Y2015_DZllbbCR_T2_L2_distmLL_J2_model_bbtautau\n",
      "INFO: Activated binned likelihood attribute for Region_BMin0_incJet1_distNN_J2_DSM_T2_SpcTauLH_Y2015_LTT1_L1_model_bbtautau\n",
      "INFO: Loaded model pdf \"combPdf\" from model config\n",
      "INFO: Loaded dataset \"combData\" from workspace\n",
      "INFO: Loaded nuisance parameters from model config\n",
      "INFO: Loaded global observables from model config\n",
      "INFO: Loaded parameters of interest from model config\n",
      "INFO: Loaded observables from model config\n"
     ]
    }
   ],
   "source": [
    "from quickstats.components import ExtendedModel\n",
    "channel = 'combined'\n",
    "model = ExtendedModel(rescaled_ws_paths[channel])\n",
    "param_sets = model.get_constrained_nuisance_parameters()\n"
   ]
  },
  {
   "cell_type": "code",
   "execution_count": 17,
   "id": "d9067cb2",
   "metadata": {},
   "outputs": [
    {
     "name": "stdout",
     "output_type": "stream",
     "text": [
      "Save jobrank.txt\n"
     ]
    }
   ],
   "source": [
    "condor = True\n",
    "if condor:\n",
    "    print('Save jobrank.txt')\n",
    "    original_stdout = sys.stdout\n",
    "    sys.stdout = open('jobrank.txt', 'w')\n",
    "    \n",
    "for p in param_sets:\n",
    "    if p.GetName().startswith('gamma_'):\n",
    "        continue\n",
    "    channel_command_str = f'quickstats run_pulls -i {rescaled_ws_paths[\"combined\"]} --poi xsec_br -o {paths[\"output\"]}/ranking/{channel} -p {p.GetName()}'\n",
    "\n",
    "    print(\"Arguments =\", channel_command_str.replace(' ', '____'))\n",
    "    print(\"Queue 1\")\n",
    "    print()\n",
    "\n",
    "if condor: \n",
    "    sys.stdout = original_stdout\n",
    "    "
   ]
  },
  {
   "cell_type": "markdown",
   "id": "f3b233d8",
   "metadata": {},
   "source": [
    "## Step 1.3: SM best fit"
   ]
  },
  {
   "cell_type": "code",
   "execution_count": 10,
   "id": "aee6c223",
   "metadata": {
    "scrolled": false
   },
   "outputs": [
    {
     "name": "stdout",
     "output_type": "stream",
     "text": [
      "==> Channel: bbbb\n",
      "/afs/cern.ch/work/z/zhangr/HHcomb/hh_combination_fw/hh_combination_fw/tutorials/HHH2022/outputs_HHH2022_20220520_noSgHparam/rescaled/nonres/bbbb/0.root xsec_br combData\n",
      "INFO: Opening file \"/afs/cern.ch/work/z/zhangr/HHcomb/hh_combination_fw/hh_combination_fw/tutorials/HHH2022/outputs_HHH2022_20220520_noSgHparam/rescaled/nonres/bbbb/0.root\"\n",
      "INFO: Loaded workspace \"combWS\"\n",
      "INFO: Loaded model config \"ModelConfig\"\n",
      "INFO: Activated binned likelihood attribute for ggf_16_dEta_1_Xhh_1_model\n",
      "INFO: Activated binned likelihood attribute for ggf_16_dEta_1_Xhh_2_model\n",
      "INFO: Activated binned likelihood attribute for ggf_16_dEta_2_Xhh_1_model\n",
      "INFO: Activated binned likelihood attribute for ggf_16_dEta_2_Xhh_2_model\n",
      "INFO: Activated binned likelihood attribute for ggf_16_dEta_3_Xhh_1_model\n",
      "INFO: Activated binned likelihood attribute for ggf_16_dEta_3_Xhh_2_model\n",
      "INFO: Activated binned likelihood attribute for ggf_17_dEta_1_Xhh_1_model\n",
      "INFO: Activated binned likelihood attribute for ggf_17_dEta_1_Xhh_2_model\n",
      "INFO: Activated binned likelihood attribute for ggf_17_dEta_2_Xhh_1_model\n",
      "INFO: Activated binned likelihood attribute for ggf_17_dEta_2_Xhh_2_model\n",
      "INFO: Activated binned likelihood attribute for ggf_17_dEta_3_Xhh_1_model\n",
      "INFO: Activated binned likelihood attribute for ggf_17_dEta_3_Xhh_2_model\n",
      "INFO: Activated binned likelihood attribute for ggf_18_dEta_1_Xhh_1_model\n",
      "INFO: Activated binned likelihood attribute for ggf_18_dEta_1_Xhh_2_model\n",
      "INFO: Activated binned likelihood attribute for ggf_18_dEta_2_Xhh_1_model\n",
      "INFO: Activated binned likelihood attribute for ggf_18_dEta_2_Xhh_2_model\n",
      "INFO: Activated binned likelihood attribute for ggf_18_dEta_3_Xhh_1_model\n",
      "INFO: Activated binned likelihood attribute for ggf_18_dEta_3_Xhh_2_model\n",
      "INFO: Activated binned likelihood attribute for vbf_-1_dEta_1_model\n",
      "INFO: Activated binned likelihood attribute for vbf_-1_dEta_2_model\n",
      "INFO: Loaded model pdf \"simPdf\" from model config\n",
      "INFO: Loaded dataset \"combData\" from workspace\n",
      "INFO: Loaded nuisance parameters from model config\n",
      "INFO: Loaded global observables from model config\n",
      "INFO: Loaded parameters of interest from model config\n",
      "INFO: Loaded observables from model config\n",
      "INFO: POI set to \"xsec_br\"\n",
      "INFO: Created ExtendedMinimizer(\"Minimizer\") instance\n",
      "INFO: Fixed parameter \"k2V\" at value 1.0 [-1e+30, 1e+30]\n",
      "INFO: Fixed parameter \"kV\" at value 1.0 [-1e+30, 1e+30]\n",
      "INFO: Fixed parameter \"klambda\" at value 1.0 [-1e+30, 1e+30]\n",
      "INFO: Fixed parameter \"mu_HH_VBF\" at value 1.0 [-10000.0, 10000.0]\n",
      "INFO: Fixed parameter \"mu_HH_ggF\" at value 1.0 [-10000.0, 10000.0]\n",
      "INFO: Fixed parameter \"xsec_br\" at value 1.0 [-10000.0, 10000.0]\n",
      "\u001b[31mWARNING: Attemping to fix the parameter \"xsec_br\" which is a POI used in this study. This parameter will still be floated during unconditional likelihood fit / limit setting.\u001b[0m\n",
      "INFO: Float parameter \"xsec_br\" at value 1.0 [-10000.0, 10000.0]\n",
      "INFO: Saving snapshot \"nominalGlobs\"\n",
      "INFO: Saving snapshot \"nominalNuis\"\n",
      "INFO: Generated Asimov Dataset \"asimovData_1_NP_Nominal\"\n",
      "INFO: Saving snapshot \"asimovData_1_NP_Nominal\"\n",
      "INFO: NLL evaluation completed with\n",
      "    best fit : xsec_br=1.00000\n",
      "  uncond NLL = 50162.92316\n",
      "        time = (uncond_fit) 185.903, (cond_fit) 0.000\n",
      "{'uncond_fit': {'muhat': {'xsec_br': 1.0000016028861864}, 'muhat_errlo': {'xsec_br': -3.6491676894120246}, 'muhat_errhi': {'xsec_br': 3.6491676894120246}, 'nll': 50162.92315794002, 'status': 0, 'time': 185.90278887748718}, 'total_time': 185.90279150009155}\n",
      "==> Channel: bbtautau\n",
      "/afs/cern.ch/work/z/zhangr/HHcomb/hh_combination_fw/hh_combination_fw/tutorials/HHH2022/outputs_HHH2022_20220520_noSgHparam/rescaled/nonres/bbtautau/0.root xsec_br combData\n",
      "INFO: Opening file \"/afs/cern.ch/work/z/zhangr/HHcomb/hh_combination_fw/hh_combination_fw/tutorials/HHH2022/outputs_HHH2022_20220520_noSgHparam/rescaled/nonres/bbtautau/0.root\"\n",
      "INFO: Loaded workspace \"combWS\"\n",
      "INFO: Loaded model config \"ModelConfig\"\n",
      "INFO: Activated binned likelihood attribute for Region_BMin0_incJet1_Y2015_DZllbbCR_T2_L2_distmLL_J2_model\n",
      "INFO: Activated binned likelihood attribute for Region_BMin0_incJet1_distNN_J2_DSM_T2_SpcTauLH_Y2015_LTT0_L1_model\n",
      "INFO: Activated binned likelihood attribute for Region_BMin0_incJet1_distNN_J2_DSM_T2_SpcTauLH_Y2015_LTT1_L1_model\n",
      "INFO: Activated binned likelihood attribute for Region_BMin0_incJet1_distSMBDT_J2_Y2015_DLLOS_T2_SpcTauHH_L0_model\n",
      "INFO: Loaded model pdf \"simPdf\" from model config\n",
      "INFO: Loaded dataset \"combData\" from workspace\n",
      "INFO: Loaded nuisance parameters from model config\n",
      "INFO: Loaded global observables from model config\n",
      "INFO: Loaded parameters of interest from model config\n",
      "INFO: Loaded observables from model config\n",
      "INFO: POI set to \"xsec_br\"\n",
      "INFO: Created ExtendedMinimizer(\"Minimizer\") instance\n",
      "INFO: Fixed parameter \"xsec_br\" at value 3.879975653189153 [-40.0, 40.0]\n",
      "\u001b[31mWARNING: Attemping to fix the parameter \"xsec_br\" which is a POI used in this study. This parameter will still be floated during unconditional likelihood fit / limit setting.\u001b[0m\n",
      "INFO: Float parameter \"xsec_br\" at value 3.879975653189153 [-40.0, 40.0]\n",
      "INFO: Saving snapshot \"nominalGlobs\"\n",
      "INFO: Saving snapshot \"nominalNuis\"\n",
      "INFO: Generated Asimov Dataset \"asimovData_1_NP_Nominal\"\n",
      "INFO: Saving snapshot \"asimovData_1_NP_Nominal\"\n",
      "INFO: NLL evaluation completed with\n",
      "    best fit : xsec_br=1.00000\n",
      "  uncond NLL = 279758.45872\n",
      "        time = (uncond_fit) 14.752, (cond_fit) 0.000\n",
      "{'uncond_fit': {'muhat': {'xsec_br': 1.0000002945529616}, 'muhat_errlo': {'xsec_br': -1.5749311416193166}, 'muhat_errhi': {'xsec_br': 1.5749311416193166}, 'nll': 279758.45872489247, 'status': 0, 'time': 14.751867532730103}, 'total_time': 14.751869201660156}\n",
      "==> Channel: bbyy\n",
      "/afs/cern.ch/work/z/zhangr/HHcomb/hh_combination_fw/hh_combination_fw/tutorials/HHH2022/outputs_HHH2022_20220520_noSgHparam/rescaled/nonres/bbyy/0.root xsec_br combData\n",
      "INFO: Opening file \"/afs/cern.ch/work/z/zhangr/HHcomb/hh_combination_fw/hh_combination_fw/tutorials/HHH2022/outputs_HHH2022_20220520_noSgHparam/rescaled/nonres/bbyy/0.root\"\n",
      "INFO: Loaded workspace \"combWS\"\n",
      "INFO: Loaded model config \"ModelConfig\"\n",
      "INFO: Loaded model pdf \"CombinedPdf\" from model config\n",
      "INFO: Loaded dataset \"combData\" from workspace\n",
      "INFO: Loaded nuisance parameters from model config\n",
      "INFO: Loaded global observables from model config\n",
      "INFO: Loaded parameters of interest from model config\n",
      "INFO: Loaded observables from model config\n",
      "INFO: POI set to \"xsec_br\"\n",
      "INFO: Created ExtendedMinimizer(\"Minimizer\") instance\n",
      "INFO: Fixed parameter \"xsec_br\" at value 0.0 [-1e+30, 1e+30]\n",
      "\u001b[31mWARNING: Attemping to fix the parameter \"xsec_br\" which is a POI used in this study. This parameter will still be floated during unconditional likelihood fit / limit setting.\u001b[0m\n",
      "INFO: Float parameter \"xsec_br\" at value 0.0 [-1e+30, 1e+30]\n",
      "INFO: Saving snapshot \"nominalGlobs\"\n",
      "INFO: Saving snapshot \"nominalNuis\"\n",
      "INFO: Generated Asimov Dataset \"asimovData_1_NP_Nominal\"\n",
      "INFO: Saving snapshot \"asimovData_1_NP_Nominal\"\n",
      "INFO: NLL evaluation completed with\n",
      "    best fit : xsec_br=1.00001\n",
      "  uncond NLL = 517.50816\n",
      "        time = (uncond_fit) 4.110, (cond_fit) 0.000\n",
      "{'uncond_fit': {'muhat': {'xsec_br': 1.0000089104418246}, 'muhat_errlo': {'xsec_br': -2.3928864334626607}, 'muhat_errhi': {'xsec_br': 2.3928864334626607}, 'nll': 517.5081593413302, 'status': 0, 'time': 4.109668254852295}, 'total_time': 4.109669923782349}\n",
      "==> Channel: combined\n",
      "/afs/cern.ch/work/z/zhangr/HHcomb/hh_combination_fw/hh_combination_fw/tutorials/HHH2022/outputs_HHH2022_20220520_noSgHparam/combined/nonres/A-bbbb_bbtautau_bbyy-fullcorr/0.root xsec_br combData\n",
      "INFO: Opening file \"/afs/cern.ch/work/z/zhangr/HHcomb/hh_combination_fw/hh_combination_fw/tutorials/HHH2022/outputs_HHH2022_20220520_noSgHparam/combined/nonres/A-bbbb_bbtautau_bbyy-fullcorr/0.root\"\n",
      "INFO: Loaded workspace \"combWS\"\n",
      "INFO: Loaded model config \"ModelConfig\"\n",
      "INFO: Activated binned likelihood attribute for ggf_16_dEta_1_Xhh_1_model_bbbb\n",
      "INFO: Activated binned likelihood attribute for ggf_16_dEta_2_Xhh_1_model_bbbb\n",
      "INFO: Activated binned likelihood attribute for ggf_16_dEta_3_Xhh_1_model_bbbb\n",
      "INFO: Activated binned likelihood attribute for ggf_16_dEta_1_Xhh_2_model_bbbb\n",
      "INFO: Activated binned likelihood attribute for ggf_16_dEta_2_Xhh_2_model_bbbb\n",
      "INFO: Activated binned likelihood attribute for ggf_16_dEta_3_Xhh_2_model_bbbb\n",
      "INFO: Activated binned likelihood attribute for ggf_17_dEta_1_Xhh_1_model_bbbb\n",
      "INFO: Activated binned likelihood attribute for ggf_17_dEta_2_Xhh_1_model_bbbb\n",
      "INFO: Activated binned likelihood attribute for ggf_17_dEta_3_Xhh_1_model_bbbb\n",
      "INFO: Activated binned likelihood attribute for ggf_17_dEta_1_Xhh_2_model_bbbb\n",
      "INFO: Activated binned likelihood attribute for ggf_17_dEta_2_Xhh_2_model_bbbb\n",
      "INFO: Activated binned likelihood attribute for ggf_17_dEta_3_Xhh_2_model_bbbb\n",
      "INFO: Activated binned likelihood attribute for ggf_18_dEta_1_Xhh_1_model_bbbb\n",
      "INFO: Activated binned likelihood attribute for ggf_18_dEta_2_Xhh_1_model_bbbb\n",
      "INFO: Activated binned likelihood attribute for ggf_18_dEta_3_Xhh_1_model_bbbb\n",
      "INFO: Activated binned likelihood attribute for ggf_18_dEta_1_Xhh_2_model_bbbb\n",
      "INFO: Activated binned likelihood attribute for ggf_18_dEta_2_Xhh_2_model_bbbb\n",
      "INFO: Activated binned likelihood attribute for ggf_18_dEta_3_Xhh_2_model_bbbb\n",
      "INFO: Activated binned likelihood attribute for vbf_-1_dEta_1_model_bbbb\n",
      "INFO: Activated binned likelihood attribute for vbf_-1_dEta_2_model_bbbb\n",
      "INFO: Activated binned likelihood attribute for Region_BMin0_incJet1_distNN_J2_DSM_T2_SpcTauLH_Y2015_LTT0_L1_model_bbtautau\n",
      "INFO: Activated binned likelihood attribute for Region_BMin0_incJet1_distSMBDT_J2_Y2015_DLLOS_T2_SpcTauHH_L0_model_bbtautau\n",
      "INFO: Activated binned likelihood attribute for Region_BMin0_incJet1_Y2015_DZllbbCR_T2_L2_distmLL_J2_model_bbtautau\n",
      "INFO: Activated binned likelihood attribute for Region_BMin0_incJet1_distNN_J2_DSM_T2_SpcTauLH_Y2015_LTT1_L1_model_bbtautau\n",
      "INFO: Loaded model pdf \"combPdf\" from model config\n",
      "INFO: Loaded dataset \"combData\" from workspace\n",
      "INFO: Loaded nuisance parameters from model config\n",
      "INFO: Loaded global observables from model config\n",
      "INFO: Loaded parameters of interest from model config\n",
      "INFO: Loaded observables from model config\n"
     ]
    },
    {
     "name": "stdout",
     "output_type": "stream",
     "text": [
      "INFO: POI set to \"xsec_br\"\n",
      "INFO: Created ExtendedMinimizer(\"Minimizer\") instance\n",
      "INFO: Fixed parameter \"xsec_br\" at value 1.0 [-10000.0, 10000.0]\n",
      "\u001b[31mWARNING: Attemping to fix the parameter \"xsec_br\" which is a POI used in this study. This parameter will still be floated during unconditional likelihood fit / limit setting.\u001b[0m\n",
      "INFO: Float parameter \"xsec_br\" at value 1.0 [-10000.0, 10000.0]\n",
      "INFO: Saving snapshot \"nominalGlobs\"\n",
      "INFO: Saving snapshot \"nominalNuis\"\n",
      "INFO: Generated Asimov Dataset \"asimovData_1_NP_Nominal\"\n",
      "INFO: Saving snapshot \"asimovData_1_NP_Nominal\"\n",
      "INFO: NLL evaluation completed with\n",
      "    best fit : xsec_br=1.00000\n",
      "  uncond NLL = 727503.52813\n",
      "        time = (uncond_fit) 251.586, (cond_fit) 0.000\n",
      "{'uncond_fit': {'muhat': {'xsec_br': 1.0}, 'muhat_errlo': {'xsec_br': -1.2387545780575238}, 'muhat_errhi': {'xsec_br': 1.2387545780575238}, 'nll': 727503.5281288689, 'status': 0, 'time': 251.58607006072998}, 'total_time': 251.58607125282288}\n",
      "{'bbbb': {'uncond_fit': {'muhat': {'xsec_br': 1.0000016028861864}, 'muhat_errlo': {'xsec_br': -3.6491676894120246}, 'muhat_errhi': {'xsec_br': 3.6491676894120246}, 'nll': 50162.92315794002, 'status': 0, 'time': 185.90278887748718}, 'total_time': 185.90279150009155}, 'bbtautau': {'uncond_fit': {'muhat': {'xsec_br': 1.0000002945529616}, 'muhat_errlo': {'xsec_br': -1.5749311416193166}, 'muhat_errhi': {'xsec_br': 1.5749311416193166}, 'nll': 279758.45872489247, 'status': 0, 'time': 14.751867532730103}, 'total_time': 14.751869201660156}, 'bbyy': {'uncond_fit': {'muhat': {'xsec_br': 1.0000089104418246}, 'muhat_errlo': {'xsec_br': -2.3928864334626607}, 'muhat_errhi': {'xsec_br': 2.3928864334626607}, 'nll': 517.5081593413302, 'status': 0, 'time': 4.109668254852295}, 'total_time': 4.109669923782349}, 'combined': {'uncond_fit': {'muhat': {'xsec_br': 1.0}, 'muhat_errlo': {'xsec_br': -1.2387545780575238}, 'muhat_errhi': {'xsec_br': 1.2387545780575238}, 'nll': 727503.5281288689, 'status': 0, 'time': 251.58607006072998}, 'total_time': 251.58607125282288}}\n"
     ]
    }
   ],
   "source": [
    "def run_best_fit(channel):\n",
    "    minimizer_options = {\n",
    "        \"retry\": 2,\n",
    "        \"eps\": 1\n",
    "    }\n",
    "    # observed and expected datasets\n",
    "    datasets = {\n",
    "        \"observed\": \"combData\",\n",
    "    }\n",
    "    poi_expr = 'xsec_br'\n",
    "    print(f\"==> Channel: {channel}\")\n",
    "    ws_path = rescaled_ws_paths[channel]\n",
    "    print(ws_path, poi_expr, datasets[\"observed\"])\n",
    "    kwargs = {\n",
    "        \"filename\" : ws_path,\n",
    "        \"data_name\": datasets[\"observed\"],\n",
    "        \"poi_name\": poi_expr,\n",
    "        \"config\": {**minimizer_options}\n",
    "    }\n",
    "    analysis = AnalysisBase(**kwargs)\n",
    "    analysis.setup_parameters(fix_param=\"<poi>\")\n",
    "    analysis.setup_parameters(profile_param=poi_expr)\n",
    "    \n",
    "    expected = True\n",
    "    if expected:\n",
    "        analysis.generate_standard_asimov(asimov_types=[-2])\n",
    "        analysis.set_data(\"asimovData_1_NP_Nominal\")\n",
    "        analysis.load_snapshot(\"asimovData_1_NP_Nominal\")\n",
    "        \n",
    "    result = analysis.nll_fit(mode=1, do_minos=False)\n",
    "    return result\n",
    "\n",
    "results = {}\n",
    "for channel in config['channels']+['combined']:\n",
    "    results[channel] = run_best_fit(channel)\n",
    "    print(results[channel])\n",
    "print(results)"
   ]
  },
  {
   "cell_type": "code",
   "execution_count": 11,
   "id": "300e0bcf",
   "metadata": {},
   "outputs": [
    {
     "data": {
      "text/plain": [
       "{'bbbb': {'uncond_fit': {'muhat': {'xsec_br': 1.0000016028861864},\n",
       "   'muhat_errlo': {'xsec_br': -3.6491676894120246},\n",
       "   'muhat_errhi': {'xsec_br': 3.6491676894120246},\n",
       "   'nll': 50162.92315794002,\n",
       "   'status': 0,\n",
       "   'time': 185.90278887748718},\n",
       "  'total_time': 185.90279150009155},\n",
       " 'bbtautau': {'uncond_fit': {'muhat': {'xsec_br': 1.0000002945529616},\n",
       "   'muhat_errlo': {'xsec_br': -1.5749311416193166},\n",
       "   'muhat_errhi': {'xsec_br': 1.5749311416193166},\n",
       "   'nll': 279758.45872489247,\n",
       "   'status': 0,\n",
       "   'time': 14.751867532730103},\n",
       "  'total_time': 14.751869201660156},\n",
       " 'bbyy': {'uncond_fit': {'muhat': {'xsec_br': 1.0000089104418246},\n",
       "   'muhat_errlo': {'xsec_br': -2.3928864334626607},\n",
       "   'muhat_errhi': {'xsec_br': 2.3928864334626607},\n",
       "   'nll': 517.5081593413302,\n",
       "   'status': 0,\n",
       "   'time': 4.109668254852295},\n",
       "  'total_time': 4.109669923782349},\n",
       " 'combined': {'uncond_fit': {'muhat': {'xsec_br': 1.0},\n",
       "   'muhat_errlo': {'xsec_br': -1.2387545780575238},\n",
       "   'muhat_errhi': {'xsec_br': 1.2387545780575238},\n",
       "   'nll': 727503.5281288689,\n",
       "   'status': 0,\n",
       "   'time': 251.58607006072998},\n",
       "  'total_time': 251.58607125282288}}"
      ]
     },
     "execution_count": 11,
     "metadata": {},
     "output_type": "execute_result"
    }
   ],
   "source": [
    "results"
   ]
  },
  {
   "cell_type": "markdown",
   "id": "2c6e6d79",
   "metadata": {},
   "source": [
    "## Step 1.4: SM studies"
   ]
  },
  {
   "cell_type": "code",
   "execution_count": 18,
   "id": "4fb69942",
   "metadata": {},
   "outputs": [
    {
     "name": "stdout",
     "output_type": "stream",
     "text": [
      "\n",
      "## combine ws nonres_kl_v12.json mu\n",
      "HHComb combine_ws --input_dir /afs/cern.ch/work/z/zhangr/HHcomb/hh_combination_fw/hh_combination_fw/tutorials/HHH2022/outputs_HHH2022_20220520_noSgHparam --resonant_type nonres --channels bbbb,bbtautau,bbyy --file_expr \"<mass[F]>\" --config /afs/cern.ch/work/z/zhangr/HHcomb/hh_combination_fw/hh_combination_fw/configs/task_options/HHH2022/nonres_SM.yaml --scheme /afs/cern.ch/work/z/zhangr/HHcomb/hh_combination_fw/hh_combination_fw/configs/correlation_schemes/HHH2022/nonres_kl_v12.json --parallel -1 --skip-limit  --unblind  --experimental  --cache  --prefix nonres_kl_v12_mu_ &\n",
      "\n",
      "## combine ws nonres_kl_v12.json xsec\n",
      "HHComb combine_ws --input_dir /afs/cern.ch/work/z/zhangr/HHcomb/hh_combination_fw/hh_combination_fw/tutorials/HHH2022/outputs_HHH2022_20220520_noSgHparam --resonant_type nonres --channels bbbb,bbtautau,bbyy --file_expr \"<mass[F]>\" --config /afs/cern.ch/work/z/zhangr/HHcomb/hh_combination_fw/hh_combination_fw/configs/task_options/HHH2022/nonres_SM.yaml --scheme /afs/cern.ch/work/z/zhangr/HHcomb/hh_combination_fw/hh_combination_fw/configs/correlation_schemes/HHH2022/nonres_kl_v12.json --parallel -1 --skip-limit  --unblind  --experimental  --cache  --prefix nonres_kl_v12_xsec_ --minimizer_options /afs/cern.ch/work/z/zhangr/HHcomb/hh_combination_fw/hh_combination_fw/configs/minimizer_options/fix_xs_uncertainty.json &\n",
      "\n",
      "## combine ws nonres_kl_v12_decor.json mu\n",
      "HHComb combine_ws --input_dir /afs/cern.ch/work/z/zhangr/HHcomb/hh_combination_fw/hh_combination_fw/tutorials/HHH2022/outputs_HHH2022_20220520_noSgHparam --resonant_type nonres --channels bbbb,bbtautau,bbyy --file_expr \"<mass[F]>\" --config /afs/cern.ch/work/z/zhangr/HHcomb/hh_combination_fw/hh_combination_fw/configs/task_options/HHH2022/nonres_SM.yaml --scheme /afs/cern.ch/work/z/zhangr/HHcomb/hh_combination_fw/hh_combination_fw/configs/correlation_schemes/HHH2022/nonres_kl_v12_decor.json --parallel -1 --skip-limit  --unblind  --experimental  --cache  --prefix nonres_kl_v12_decor_mu_ &\n",
      "\n",
      "## combine ws nonres_kl_v12_decor.json xsec\n",
      "HHComb combine_ws --input_dir /afs/cern.ch/work/z/zhangr/HHcomb/hh_combination_fw/hh_combination_fw/tutorials/HHH2022/outputs_HHH2022_20220520_noSgHparam --resonant_type nonres --channels bbbb,bbtautau,bbyy --file_expr \"<mass[F]>\" --config /afs/cern.ch/work/z/zhangr/HHcomb/hh_combination_fw/hh_combination_fw/configs/task_options/HHH2022/nonres_SM.yaml --scheme /afs/cern.ch/work/z/zhangr/HHcomb/hh_combination_fw/hh_combination_fw/configs/correlation_schemes/HHH2022/nonres_kl_v12_decor.json --parallel -1 --skip-limit  --unblind  --experimental  --cache  --prefix nonres_kl_v12_decor_xsec_ --minimizer_options /afs/cern.ch/work/z/zhangr/HHcomb/hh_combination_fw/hh_combination_fw/configs/minimizer_options/fix_xs_uncertainty.json &\n",
      "\n",
      "## combine ws nonres_kl_v12_decor_corrtop2.json mu\n",
      "HHComb combine_ws --input_dir /afs/cern.ch/work/z/zhangr/HHcomb/hh_combination_fw/hh_combination_fw/tutorials/HHH2022/outputs_HHH2022_20220520_noSgHparam --resonant_type nonres --channels bbbb,bbtautau,bbyy --file_expr \"<mass[F]>\" --config /afs/cern.ch/work/z/zhangr/HHcomb/hh_combination_fw/hh_combination_fw/configs/task_options/HHH2022/nonres_SM.yaml --scheme /afs/cern.ch/work/z/zhangr/HHcomb/hh_combination_fw/hh_combination_fw/configs/correlation_schemes/HHH2022/nonres_kl_v12_decor_corrtop2.json --parallel -1 --skip-limit  --unblind  --experimental  --cache  --prefix nonres_kl_v12_decor_corrtop2_mu_ &\n",
      "\n",
      "## combine ws nonres_kl_v12_decor_corrtop2.json xsec\n",
      "HHComb combine_ws --input_dir /afs/cern.ch/work/z/zhangr/HHcomb/hh_combination_fw/hh_combination_fw/tutorials/HHH2022/outputs_HHH2022_20220520_noSgHparam --resonant_type nonres --channels bbbb,bbtautau,bbyy --file_expr \"<mass[F]>\" --config /afs/cern.ch/work/z/zhangr/HHcomb/hh_combination_fw/hh_combination_fw/configs/task_options/HHH2022/nonres_SM.yaml --scheme /afs/cern.ch/work/z/zhangr/HHcomb/hh_combination_fw/hh_combination_fw/configs/correlation_schemes/HHH2022/nonres_kl_v12_decor_corrtop2.json --parallel -1 --skip-limit  --unblind  --experimental  --cache  --prefix nonres_kl_v12_decor_corrtop2_xsec_ --minimizer_options /afs/cern.ch/work/z/zhangr/HHcomb/hh_combination_fw/hh_combination_fw/configs/minimizer_options/fix_xs_uncertainty.json &\n",
      "\n",
      "## combine ws nonres_kl_v12_decor_corrtop2exp.json mu\n",
      "HHComb combine_ws --input_dir /afs/cern.ch/work/z/zhangr/HHcomb/hh_combination_fw/hh_combination_fw/tutorials/HHH2022/outputs_HHH2022_20220520_noSgHparam --resonant_type nonres --channels bbbb,bbtautau,bbyy --file_expr \"<mass[F]>\" --config /afs/cern.ch/work/z/zhangr/HHcomb/hh_combination_fw/hh_combination_fw/configs/task_options/HHH2022/nonres_SM.yaml --scheme /afs/cern.ch/work/z/zhangr/HHcomb/hh_combination_fw/hh_combination_fw/configs/correlation_schemes/HHH2022/nonres_kl_v12_decor_corrtop2exp.json --parallel -1 --skip-limit  --unblind  --experimental  --cache  --prefix nonres_kl_v12_decor_corrtop2exp_mu_ &\n",
      "\n",
      "## combine ws nonres_kl_v12_decor_corrtop2exp.json xsec\n",
      "HHComb combine_ws --input_dir /afs/cern.ch/work/z/zhangr/HHcomb/hh_combination_fw/hh_combination_fw/tutorials/HHH2022/outputs_HHH2022_20220520_noSgHparam --resonant_type nonres --channels bbbb,bbtautau,bbyy --file_expr \"<mass[F]>\" --config /afs/cern.ch/work/z/zhangr/HHcomb/hh_combination_fw/hh_combination_fw/configs/task_options/HHH2022/nonres_SM.yaml --scheme /afs/cern.ch/work/z/zhangr/HHcomb/hh_combination_fw/hh_combination_fw/configs/correlation_schemes/HHH2022/nonres_kl_v12_decor_corrtop2exp.json --parallel -1 --skip-limit  --unblind  --experimental  --cache  --prefix nonres_kl_v12_decor_corrtop2exp_xsec_ --minimizer_options /afs/cern.ch/work/z/zhangr/HHcomb/hh_combination_fw/hh_combination_fw/configs/minimizer_options/fix_xs_uncertainty.json &\n"
     ]
    }
   ],
   "source": [
    "# specify the input timestamp to use\n",
    "timestamp = \"20220520_noSgHparam\"\n",
    "withbr = None\n",
    "\n",
    "for corr in [\"nonres_kl_v12.json\", \"nonres_kl_v12_decor.json\", \"nonres_kl_v12_decor_corrtop2.json\", \"nonres_kl_v12_decor_corrtop2exp.json\"]:\n",
    "    for job in ['mu', 'xsec']:\n",
    "        \n",
    "        paths = {\n",
    "            'input'              : os.path.join(hh_comb_fw_path, \"FullRun2Workspaces\", \"original\", \"HHH2022\", timestamp),\n",
    "            'task_options'       : os.path.join(hh_comb_fw_path, \"configs\", \"task_options\"       , \"HHH2022\", f\"nonres_SM.yaml\"),\n",
    "            'correlation_schemes': os.path.join(hh_comb_fw_path, \"configs\", \"correlation_schemes\", \"HHH2022\", corr),\n",
    "            'output'             : os.path.join(os.getcwd(), f\"outputs_HHH2022_{timestamp}\")\n",
    "        }\n",
    "\n",
    "        config = {\n",
    "            'resonant_type': 'nonres',\n",
    "            'channels'     : ['bbbb', 'bbtautau', 'bbyy'],\n",
    "            'file_expr'    : '<mass[F]>',\n",
    "            'blind'        : False,\n",
    "            'cache'        : True,\n",
    "            'experimental' : True,\n",
    "            'parallel'     : -1,\n",
    "            'type'         : job,\n",
    "            'prefix'       : corr[:-5]+'_'+job+'_',\n",
    "        }\n",
    "        options = {\n",
    "            \"input_dir\"    : paths['input'],\n",
    "            \"resonant_type\": config['resonant_type'],\n",
    "            \"channels\"     : \",\".join(config['channels']),\n",
    "            \"outdir\"       : paths['output'],\n",
    "            \"file_expr\"    : f\"\\\"{config['file_expr']}\\\"\",\n",
    "            \"config\"       : paths['task_options'],\n",
    "            \"parallel\"     : config['parallel'],\n",
    "            \"skip-limit\"   : \"\",\n",
    "        }\n",
    "\n",
    "        if config['type'] == 'xsec':\n",
    "            options['minimizer_options'] = os.path.join(hh_comb_fw_path, \"configs/minimizer_options/fix_xs_uncertainty.json\")\n",
    "\n",
    "\n",
    "\n",
    "        if config[\"blind\"]:\n",
    "            options[\"blind\"] = \"\"\n",
    "        else:\n",
    "            options[\"unblind\"] = \"\"\n",
    "        if config[\"experimental\"]:\n",
    "            options[\"experimental\"] = \"\"\n",
    "        else:\n",
    "            options[\"official\"] : \"\"\n",
    "        if config['cache']:\n",
    "            options['cache'] = \"\"\n",
    "        else:\n",
    "            options['no-cache'] = \"\"\n",
    "\n",
    "\n",
    "        command_str1 = \"HHComb process_channels \" + \" \".join([f\"--{key} {value}\" for key, value in options.items()])\n",
    "#         print('\\n## process channels', corr, job)\n",
    "#         print(command_str1)\n",
    "        print('\\n## combine ws', corr, job)\n",
    "        command_str = return_combine_command(paths, config)\n",
    "        \n",
    "        \n"
   ]
  },
  {
   "cell_type": "markdown",
   "id": "7fc20c7d",
   "metadata": {},
   "source": [
    "## 1.5 SM S+B asimov limit"
   ]
  },
  {
   "cell_type": "code",
   "execution_count": 17,
   "id": "1af2c347",
   "metadata": {},
   "outputs": [
    {
     "name": "stdout",
     "output_type": "stream",
     "text": [
      "quickstats generate_standard_asimov --asimov_types 0,1,2 --poi xsec_br --data combData -i /afs/cern.ch/work/z/zhangr/HHcomb/hh_combination_fw/hh_combination_fw/tutorials/HHH2022/outputs_HHH2022_20220520_noSgHparam/rescaled/nonres/bbbb/0.root -o /afs/cern.ch/work/z/zhangr/HHcomb/hh_combination_fw/hh_combination_fw/tutorials/HHH2022/outputs_HHH2022_20220520_noSgHparam/rescaled/nonres/bbbb/0_asimov.root &\n",
      "\n",
      "quickstats generate_standard_asimov --asimov_types 0,1,2 --poi xsec_br --data combData -i /afs/cern.ch/work/z/zhangr/HHcomb/hh_combination_fw/hh_combination_fw/tutorials/HHH2022/outputs_HHH2022_20220520_noSgHparam/rescaled/nonres/bbtautau/0.root -o /afs/cern.ch/work/z/zhangr/HHcomb/hh_combination_fw/hh_combination_fw/tutorials/HHH2022/outputs_HHH2022_20220520_noSgHparam/rescaled/nonres/bbtautau/0_asimov.root &\n",
      "\n",
      "quickstats generate_standard_asimov --asimov_types 0,1,2 --poi xsec_br --data combData -i /afs/cern.ch/work/z/zhangr/HHcomb/hh_combination_fw/hh_combination_fw/tutorials/HHH2022/outputs_HHH2022_20220520_noSgHparam/rescaled/nonres/bbyy/0.root -o /afs/cern.ch/work/z/zhangr/HHcomb/hh_combination_fw/hh_combination_fw/tutorials/HHH2022/outputs_HHH2022_20220520_noSgHparam/rescaled/nonres/bbyy/0_asimov.root &\n",
      "\n",
      "quickstats generate_standard_asimov --asimov_types 0,1,2 --poi xsec_br --data combData -i /afs/cern.ch/work/z/zhangr/HHcomb/hh_combination_fw/hh_combination_fw/tutorials/HHH2022/outputs_HHH2022_20220520_noSgHparam/combined/nonres/A-bbbb_bbtautau_bbyy-fullcorr/0.root -o /afs/cern.ch/work/z/zhangr/HHcomb/hh_combination_fw/hh_combination_fw/tutorials/HHH2022/outputs_HHH2022_20220520_noSgHparam/combined/nonres/A-bbbb_bbtautau_bbyy-fullcorr/0_asimov.root &\n",
      "\n",
      "##########\n",
      "quickstats cls_limit -i /afs/cern.ch/work/z/zhangr/HHcomb/hh_combination_fw/hh_combination_fw/tutorials/HHH2022/outputs_HHH2022_20220520_noSgHparam/rescaled/nonres/bbbb/0_asimov.root --poi xsec_br --data asimovData_1_NP_Profile --snapshot asimovData_1_NP_Profile --unblind --outname /afs/cern.ch/work/z/zhangr/HHcomb/hh_combination_fw/hh_combination_fw/tutorials/HHH2022/outputs_HHH2022_20220520_noSgHparam/rescaled/nonres/bbbb/../../../limits/nonres/bbbb/limits_asimovData_1_NP_Profile.jsonxsec_br &\n",
      "\n",
      "quickstats cls_limit -i /afs/cern.ch/work/z/zhangr/HHcomb/hh_combination_fw/hh_combination_fw/tutorials/HHH2022/outputs_HHH2022_20220520_noSgHparam/rescaled/nonres/bbtautau/0_asimov.root --poi xsec_br --data asimovData_1_NP_Profile --snapshot asimovData_1_NP_Profile --unblind --outname /afs/cern.ch/work/z/zhangr/HHcomb/hh_combination_fw/hh_combination_fw/tutorials/HHH2022/outputs_HHH2022_20220520_noSgHparam/rescaled/nonres/bbtautau/../../../limits/nonres/bbtautau/limits_asimovData_1_NP_Profile.jsonxsec_br &\n",
      "\n",
      "quickstats cls_limit -i /afs/cern.ch/work/z/zhangr/HHcomb/hh_combination_fw/hh_combination_fw/tutorials/HHH2022/outputs_HHH2022_20220520_noSgHparam/rescaled/nonres/bbyy/0_asimov.root --poi xsec_br --data asimovData_1_NP_Profile --snapshot asimovData_1_NP_Profile --unblind --outname /afs/cern.ch/work/z/zhangr/HHcomb/hh_combination_fw/hh_combination_fw/tutorials/HHH2022/outputs_HHH2022_20220520_noSgHparam/rescaled/nonres/bbyy/../../../limits/nonres/bbyy/limits_asimovData_1_NP_Profile.jsonxsec_br &\n",
      "\n",
      "quickstats cls_limit -i /afs/cern.ch/work/z/zhangr/HHcomb/hh_combination_fw/hh_combination_fw/tutorials/HHH2022/outputs_HHH2022_20220520_noSgHparam/combined/nonres/A-bbbb_bbtautau_bbyy-fullcorr/0_asimov.root --poi xsec_br --data asimovData_1_NP_Profile --snapshot asimovData_1_NP_Profile --unblind --outname /afs/cern.ch/work/z/zhangr/HHcomb/hh_combination_fw/hh_combination_fw/tutorials/HHH2022/outputs_HHH2022_20220520_noSgHparam/combined/nonres/A-bbbb_bbtautau_bbyy-fullcorr/../../../limits/nonres/combined/limits_asimovData_1_NP_Profile.jsonxsec_br &\n",
      "\n"
     ]
    }
   ],
   "source": [
    "from quickstats.components import AsymptoticCLs\n",
    "\n",
    "def gen_asimov(channel):\n",
    "    poi_expr = 'xsec_br'\n",
    "    ws_path = rescaled_ws_paths[channel]\n",
    "    output = ws_path.replace('0.root', '0_asimov.root')\n",
    "    command = f'quickstats generate_standard_asimov --asimov_types 0,1,2 --poi {poi_expr} --data combData -i {ws_path} -o {output} &'\n",
    "    print(command)\n",
    "    print()\n",
    "\n",
    "def fit_asimovData_1_NP_Profile(channel):\n",
    "    poi_expr = 'xsec_br'\n",
    "    ws_path = rescaled_ws_paths[channel]\n",
    "    ws_input = ws_path.replace('0.root', '0_asimov.root')\n",
    "    limit_output = ws_input.replace('0_asimov.root', f'../../../limits/nonres/{channel}/limits_asimovData_1_NP_Profile.json')\n",
    "    command = f'quickstats cls_limit -i {ws_input} --poi {poi_expr} --data asimovData_1_NP_Profile --snapshot asimovData_1_NP_Profile --unblind --outname {limit_output}xsec_br &'\n",
    "    print(command)\n",
    "    print()\n",
    "    \n",
    "    \n",
    "    \n",
    "for channel in config['channels']+['combined']:\n",
    "    gen_asimov(channel)\n",
    "    \n",
    "print('#'*10)\n",
    "for channel in config['channels']+['combined']:\n",
    "    fit_asimovData_1_NP_Profile(channel)"
   ]
  },
  {
   "cell_type": "code",
   "execution_count": 10,
   "id": "8c40c3a7",
   "metadata": {},
   "outputs": [
    {
     "data": {
      "text/plain": [
       "'/afs/cern.ch/work/z/zhangr/HHcomb/hh_combination_fw/hh_combination_fw/tutorials/HHH2022/outputs_HHH2022_20220520_noSgHparam/rescaled/nonres/bbyy/0.root'"
      ]
     },
     "execution_count": 10,
     "metadata": {},
     "output_type": "execute_result"
    }
   ],
   "source": [
    "rescaled_ws_paths['bbyy']"
   ]
  },
  {
   "cell_type": "markdown",
   "id": "515f3f11",
   "metadata": {},
   "source": [
    "## Step 2: Cross section scans"
   ]
  },
  {
   "cell_type": "code",
   "execution_count": 19,
   "id": "71a81c1b",
   "metadata": {},
   "outputs": [
    {
     "name": "stdout",
     "output_type": "stream",
     "text": [
      "HHComb process_channels --input_dir /afs/cern.ch/work/z/zhangr/HHcomb/hh_combination_fw/hh_combination_fw/FullRun2Workspaces/original/HHH2022/20220520_noSgHparam --resonant_type nonres --channels bbbb,bbtautau,bbyy --outdir /afs/cern.ch/work/z/zhangr/HHcomb/hh_combination_fw/hh_combination_fw/tutorials/HHH2022/outputs_HHH2022_20220520_noSgHparam --file_expr \"<mass[F]>_kl\" --config /afs/cern.ch/work/z/zhangr/HHcomb/hh_combination_fw/hh_combination_fw/configs/task_options/HHH2022/nonres_kl_kt_xsection.yaml --parallel -1 --skip-limit  --unblind  --experimental  --cache \n"
     ]
    }
   ],
   "source": [
    "# specify the input timestamp to use\n",
    "# timestamp = \"20220520_with_BR_decorrelation\"\n",
    "timestamp = \"20220520_noSgHparam\"\n",
    "\n",
    "paths = {\n",
    "    'input'              : os.path.join(hh_comb_fw_path, \"FullRun2Workspaces\", \"original\", \"HHH2022\", timestamp),\n",
    "    'task_options'       : os.path.join(hh_comb_fw_path, \"configs\", \"task_options\"       , \"HHH2022\",\n",
    "                                        f\"nonres_kl_kt_xsection.yaml\"),\n",
    "    'correlation_schemes': os.path.join(hh_comb_fw_path, \"configs\", \"correlation_schemes\", \"HHH2022\", \n",
    "                                        \"nonres_kl_v12.json\"),\n",
    "    'output'             : os.path.join(os.getcwd(), f\"outputs_HHH2022_{timestamp}\")\n",
    "}\n",
    "\n",
    "config = {\n",
    "    'resonant_type': 'nonres',\n",
    "    'channels'     : ['bbbb', 'bbtautau', 'bbyy'],\n",
    "    'file_expr'    : '<mass[F]>_kl',\n",
    "    'blind'        : False,\n",
    "    'cache'        : True,\n",
    "    'experimental' : True,\n",
    "    'parallel'     : -1,\n",
    "    'type'         : 'xsec'\n",
    "}\n",
    "options = {\n",
    "    \"input_dir\"    : paths['input'],\n",
    "    \"resonant_type\": config['resonant_type'],\n",
    "    \"channels\"     : \",\".join(config['channels']),\n",
    "    \"outdir\"       : paths['output'],\n",
    "    \"file_expr\"    : f\"\\\"{config['file_expr']}\\\"\",\n",
    "    \"config\"       : paths['task_options'],\n",
    "    \"parallel\"     : config['parallel'],\n",
    "    \"skip-limit\"   : \"\",\n",
    "}\n",
    "\n",
    "if config[\"blind\"]:\n",
    "    options[\"blind\"] = \"\"\n",
    "else:\n",
    "    options[\"unblind\"] = \"\"\n",
    "if config[\"experimental\"]:\n",
    "    options[\"experimental\"] = \"\"\n",
    "else:\n",
    "    options[\"official\"] = \"\"\n",
    "if config['cache']:\n",
    "    options['cache'] = \"\"\n",
    "else:\n",
    "    options['no-cache'] = \"\"\n",
    "command_str1 = \"HHComb process_channels \" + \" \".join([f\"--{key} {value}\" for key, value in options.items()])\n",
    "print(command_str1)\n",
    "\n",
    "if config['type'] == 'xsec':\n",
    "    options['fix'] = f\"\\\"THEO_XS_fixmu_*=0,alpha_THEO_XS_PDFalphas_VBFSMHH*=0,alpha_THEO_XS_PDFalphas_ggFSMHH*=0,alpha_THEO_XS_SCALEMTop_ggFSMHH*=0,THEO_XS_COMBINED_HH_ggF*=0,THEO_XS_PDFalphas_HH_VBF*=0,THEO_XS_PDFalphas_HH_ggF*=0,THEO_XS_SCALE_HH_VBF*=0\\\"\"\n"
   ]
  },
  {
   "cell_type": "code",
   "execution_count": 20,
   "id": "a2efde4f",
   "metadata": {},
   "outputs": [
    {
     "name": "stdout",
     "output_type": "stream",
     "text": [
      "HHComb combine_ws --input_dir /afs/cern.ch/work/z/zhangr/HHcomb/hh_combination_fw/hh_combination_fw/tutorials/HHH2022/outputs_HHH2022_20220520_noSgHparam --resonant_type nonres --channels bbbb,bbtautau,bbyy --file_expr \"<mass[F]>_kl\" --config /afs/cern.ch/work/z/zhangr/HHcomb/hh_combination_fw/hh_combination_fw/configs/task_options/HHH2022/nonres_kl_kt_xsection.yaml --scheme /afs/cern.ch/work/z/zhangr/HHcomb/hh_combination_fw/hh_combination_fw/configs/correlation_schemes/HHH2022/nonres_kl_v12.json --parallel -1 --skip-limit  --unblind  --experimental  --cache  --minimizer_options /afs/cern.ch/work/z/zhangr/HHcomb/hh_combination_fw/hh_combination_fw/configs/minimizer_options/fix_xs_uncertainty.json &\n"
     ]
    }
   ],
   "source": [
    "command_str = return_combine_command(paths, config)"
   ]
  },
  {
   "cell_type": "code",
   "execution_count": 21,
   "id": "405e8042",
   "metadata": {},
   "outputs": [
    {
     "data": {
      "text/plain": [
       "'/afs/cern.ch/work/z/zhangr/HHcomb/hh_combination_fw/hh_combination_fw/tutorials/HHH2022/outputs_HHH2022_20220520_noSgHparam/combined/nonres/*/0_kl.root'"
      ]
     },
     "execution_count": 21,
     "metadata": {},
     "output_type": "execute_result"
    }
   ],
   "source": [
    "os.path.join(paths['output'], 'combined', config['resonant_type'], \"*\", \"0_kl.root\")"
   ]
  },
  {
   "cell_type": "code",
   "execution_count": 22,
   "id": "9b29cd4d",
   "metadata": {},
   "outputs": [
    {
     "data": {
      "text/plain": [
       "{'bbbb': '/afs/cern.ch/work/z/zhangr/HHcomb/hh_combination_fw/hh_combination_fw/tutorials/HHH2022/outputs_HHH2022_20220520_noSgHparam/rescaled/nonres/bbbb/0_kl.root',\n",
       " 'bbtautau': '/afs/cern.ch/work/z/zhangr/HHcomb/hh_combination_fw/hh_combination_fw/tutorials/HHH2022/outputs_HHH2022_20220520_noSgHparam/rescaled/nonres/bbtautau/0_kl.root',\n",
       " 'bbyy': '/afs/cern.ch/work/z/zhangr/HHcomb/hh_combination_fw/hh_combination_fw/tutorials/HHH2022/outputs_HHH2022_20220520_noSgHparam/rescaled/nonres/bbyy/0_kl.root',\n",
       " 'combined': '/afs/cern.ch/work/z/zhangr/HHcomb/hh_combination_fw/hh_combination_fw/tutorials/HHH2022/outputs_HHH2022_20220520_noSgHparam/combined/nonres/A-bbbb_bbtautau_bbyy-fullcorr/0_kl.root'}"
      ]
     },
     "execution_count": 22,
     "metadata": {},
     "output_type": "execute_result"
    }
   ],
   "source": [
    "rescaled_ws_paths = {}\n",
    "for channel in config['channels']:\n",
    "    ws_path = os.path.join(paths['output'], 'rescaled', config['resonant_type'], channel, \"0_kl.root\")\n",
    "    rescaled_ws_paths[channel] = ws_path\n",
    "# rescaled workspace path for combined workspacee\n",
    "ws_path = glob.glob(os.path.join(paths['output'], 'combined', config['resonant_type'], \"*\", \"0_kl.root\"))[0]\n",
    "rescaled_ws_paths[\"combined\"] = ws_path\n",
    "rescaled_ws_paths"
   ]
  },
  {
   "cell_type": "code",
   "execution_count": 23,
   "id": "41621972",
   "metadata": {},
   "outputs": [],
   "source": [
    "# use '_job' + suffix to split scan range\n",
    "param_expr_maps = {\n",
    "#     'klambda_job1': \"^klambda=-15_-10_0.2^\",\n",
    "#     'klambda_job2': \"^klambda=-10_-5_0.2^\",\n",
    "#     'klambda_job3': \"^klambda=-5_0_0.2^\",\n",
    "#     'klambda_job4': \"^klambda=0_5_0.2^\",\n",
    "#     'klambda_job5': \"^klambda=5_10_0.2^\",\n",
    "#     'klambda_job6': \"^klambda=10_15_0.2^\",\n",
    "#     'klambda_job7': \"^klambda=15_20_0.2^\",\n",
    "    'klambda_final': \"^klambda=-15_20_0.2,klambda=4_7_0.1^\",\n",
    "#     'k2v_job1': \"^k2V=-2_1_0.2^\",\n",
    "#     'k2v_job2': \"^k2V=1_4_0.2^\",\n",
    "#     'k2v_job3': \"^k2V=0.5_1.5_0.05^\",\n",
    "#     'k2v_final': \"^k2V=-2_4_0.2,k2V=0_2_0.05^\",\n",
    "#     'klambdak2v_final': \"^klambda=-15_20_0.2,k2V=-2_4_0.2^\",\n",
    "#     'k2vkv_final': \"^k2V=-2_6_0.2,kV=-3_3_0.2^\",\n",
    "}\n",
    "\n",
    "# param_expr_maps.update(create_job('klambda=-15_20_0.2,k2V=-2_4_0.2', 'klambdak2v'))\n",
    "# param_expr_maps.update(create_job('k2V=-2_6_0.2,kV=-3_-2_0.2', 'k2vkv', suf='a'))\n",
    "# param_expr_maps.update(create_job('k2V=-2_6_0.2,kV=-2_-1_0.2', 'k2vkv', suf='b'))\n",
    "# param_expr_maps.update(create_job('k2V=-2_6_0.2,kV=-1_0_0.2', 'k2vkv', suf='c'))\n",
    "# param_expr_maps.update(create_job('k2V=-2_6_0.2,kV=0_1_0.2', 'k2vkv', suf='d'))\n",
    "# param_expr_maps.update(create_job('k2V=-2_6_0.2,kV=1_2_0.2', 'k2vkv', suf='e'))\n",
    "# param_expr_maps.update(create_job('k2V=-2_6_0.2,kV=2_3_0.2', 'k2vkv', suf='f'))\n",
    "# pprint(param_expr_maps)"
   ]
  },
  {
   "cell_type": "code",
   "execution_count": 24,
   "id": "006b5227",
   "metadata": {},
   "outputs": [
    {
     "name": "stdout",
     "output_type": "stream",
     "text": [
      "# Channel: bbbb\n",
      "quickstats limit_scan --input_path /afs/cern.ch/work/z/zhangr/HHcomb/hh_combination_fw/hh_combination_fw/tutorials/HHH2022/outputs_HHH2022_20220520_noSgHparam/rescaled/nonres/bbbb/0_kl.root --outdir /afs/cern.ch/work/z/zhangr/HHcomb/hh_combination_fw/hh_combination_fw/tutorials/HHH2022/outputs_HHH2022_20220520_noSgHparam/xsection_scan/bbbb/klambda --param_expr \"klambda=-15_20_0.2,klambda=4_7_0.1\" --poi xsec_br --data combData --unblind  --fix \"THEO_XS_fixmu_*=0,alpha_THEO_XS_PDFalphas_VBFSMHH*=0,alpha_THEO_XS_PDFalphas_ggFSMHH*=0,alpha_THEO_XS_SCALEMTop_ggFSMHH*=0,THEO_XS_COMBINED_HH_ggF*=0,THEO_XS_PDFalphas_HH_VBF*=0,THEO_XS_PDFalphas_HH_ggF*=0,THEO_XS_SCALE_HH_VBF*=0,alpha_THEO_XS_PDFalphas_ggf=0,alpha_THEO_XS_PDFalphas_vbf=0,alpha_THEO_XS_SCALEMTop_ggf=0,alpha_THEO_XS_SCALEMTop_vbf=0\"\n",
      "\n",
      "# Channel: bbtautau\n",
      "quickstats limit_scan --input_path /afs/cern.ch/work/z/zhangr/HHcomb/hh_combination_fw/hh_combination_fw/tutorials/HHH2022/outputs_HHH2022_20220520_noSgHparam/rescaled/nonres/bbtautau/0_kl.root --outdir /afs/cern.ch/work/z/zhangr/HHcomb/hh_combination_fw/hh_combination_fw/tutorials/HHH2022/outputs_HHH2022_20220520_noSgHparam/xsection_scan/bbtautau/klambda --param_expr \"klambda=-15_20_0.2,klambda=4_7_0.1\" --poi xsec_br --data combData --unblind  --fix \"THEO_XS_fixmu_*=0,alpha_THEO_XS_PDFalphas_VBFSMHH*=0,alpha_THEO_XS_PDFalphas_ggFSMHH*=0,alpha_THEO_XS_SCALEMTop_ggFSMHH*=0,THEO_XS_COMBINED_HH_ggF*=0,THEO_XS_PDFalphas_HH_VBF*=0,THEO_XS_PDFalphas_HH_ggF*=0,THEO_XS_SCALE_HH_VBF*=0,alpha_THEO_XS_PDFalphas_ggf=0,alpha_THEO_XS_PDFalphas_vbf=0,alpha_THEO_XS_SCALEMTop_ggf=0,alpha_THEO_XS_SCALEMTop_vbf=0\"\n",
      "\n",
      "# Channel: bbyy\n",
      "quickstats limit_scan --input_path /afs/cern.ch/work/z/zhangr/HHcomb/hh_combination_fw/hh_combination_fw/tutorials/HHH2022/outputs_HHH2022_20220520_noSgHparam/rescaled/nonres/bbyy/0_kl.root --outdir /afs/cern.ch/work/z/zhangr/HHcomb/hh_combination_fw/hh_combination_fw/tutorials/HHH2022/outputs_HHH2022_20220520_noSgHparam/xsection_scan/bbyy/klambda --param_expr \"klambda=-15_20_0.2,klambda=4_7_0.1\" --poi xsec_br --data combData --unblind  --fix \"THEO_XS_fixmu_*=0,alpha_THEO_XS_PDFalphas_VBFSMHH*=0,alpha_THEO_XS_PDFalphas_ggFSMHH*=0,alpha_THEO_XS_SCALEMTop_ggFSMHH*=0,THEO_XS_COMBINED_HH_ggF*=0,THEO_XS_PDFalphas_HH_VBF*=0,THEO_XS_PDFalphas_HH_ggF*=0,THEO_XS_SCALE_HH_VBF*=0,alpha_THEO_XS_PDFalphas_ggf=0,alpha_THEO_XS_PDFalphas_vbf=0,alpha_THEO_XS_SCALEMTop_ggf=0,alpha_THEO_XS_SCALEMTop_vbf=0\"\n",
      "\n",
      "# Channel: combined\n",
      "quickstats limit_scan --input_path /afs/cern.ch/work/z/zhangr/HHcomb/hh_combination_fw/hh_combination_fw/tutorials/HHH2022/outputs_HHH2022_20220520_noSgHparam/combined/nonres/A-bbbb_bbtautau_bbyy-fullcorr/0_kl.root --outdir /afs/cern.ch/work/z/zhangr/HHcomb/hh_combination_fw/hh_combination_fw/tutorials/HHH2022/outputs_HHH2022_20220520_noSgHparam/xsection_scan/combined/klambda --param_expr \"klambda=-15_20_0.2,klambda=4_7_0.1\" --poi xsec_br --data combData --unblind  --fix \"THEO_XS_fixmu_*=0,alpha_THEO_XS_PDFalphas_VBFSMHH*=0,alpha_THEO_XS_PDFalphas_ggFSMHH*=0,alpha_THEO_XS_SCALEMTop_ggFSMHH*=0,THEO_XS_COMBINED_HH_ggF*=0,THEO_XS_PDFalphas_HH_VBF*=0,THEO_XS_PDFalphas_HH_ggF*=0,THEO_XS_SCALE_HH_VBF*=0,alpha_THEO_XS_PDFalphas_ggf=0,alpha_THEO_XS_PDFalphas_vbf=0,alpha_THEO_XS_SCALEMTop_ggf=0,alpha_THEO_XS_SCALEMTop_vbf=0\"\n",
      "\n"
     ]
    }
   ],
   "source": [
    "options_map = [{\n",
    "    'poi'         : 'xsec_br',\n",
    "    'data'        : 'combData',\n",
    "    'unblind'     : '',\n",
    "    'fix'         : \"^THEO_XS_fixmu_*=0,alpha_THEO_XS_PDFalphas_VBFSMHH*=0,alpha_THEO_XS_PDFalphas_ggFSMHH*=0,alpha_THEO_XS_SCALEMTop_ggFSMHH*=0,THEO_XS_COMBINED_HH_ggF*=0,THEO_XS_PDFalphas_HH_VBF*=0,THEO_XS_PDFalphas_HH_ggF*=0,THEO_XS_SCALE_HH_VBF*=0,alpha_THEO_XS_PDFalphas_ggf=0,alpha_THEO_XS_PDFalphas_vbf=0,alpha_THEO_XS_SCALEMTop_ggf=0,alpha_THEO_XS_SCALEMTop_vbf=0^\",\n",
    "}, {\n",
    "    'poi'         : 'mu_HH_VBF',\n",
    "    'data'        : 'combData',\n",
    "    'unblind'     : '',\n",
    "    'fix'         : \"^THEO_XS_fixmu_*ggFHH=0,alpha_THEO_XS_PDFalphas_VBFSMHH*=0,THEO_XS_PDFalphas_HH_VBF*=0,THEO_XS_SCALE_HH_VBF*=0,alpha_THEO_XS_PDFalphas_vbf=0,alpha_THEO_XS_SCALEMTop_vbf=0^\",\n",
    "}\n",
    "]\n",
    "command_str_map = {}\n",
    "\n",
    "condor = False\n",
    "if condor:\n",
    "    print('Save job2.txt')\n",
    "    original_stdout = sys.stdout\n",
    "    sys.stdout = open('job2.txt', 'w')\n",
    "\n",
    "for channel in rescaled_ws_paths:\n",
    "    print(f\"# Channel: {channel}\")\n",
    "    input_path  = rescaled_ws_paths[channel]\n",
    "    for key, expr in param_expr_maps.items():\n",
    "        if key.split('_')[0] == 'k2v':\n",
    "            options = options_map[1]\n",
    "        else:\n",
    "            options = options_map[0]\n",
    "        \n",
    "        if condor and 'final' in key:\n",
    "            continue\n",
    "        if not condor and 'job' in key:\n",
    "            continue\n",
    "        if 'final' in key:\n",
    "            outdir = os.path.join(paths['output'], 'xsection_scan', channel, key.replace('_final', ''))\n",
    "        else:\n",
    "            outdir = os.path.join(paths['output'], 'xsection_scan', channel, (key+'1')[:key.find('_job')])\n",
    "\n",
    "        channel_options = {\"input_path\": input_path, \"outdir\": outdir, \"param_expr\": expr, **options}\n",
    "        channel_command_str = \"quickstats limit_scan \" + \\\n",
    "                              \" \".join([f\"--{key} {value}\" for key, value in channel_options.items()])\n",
    "        command_str_map[channel] = channel_command_str\n",
    "\n",
    "\n",
    "        if not condor:\n",
    "            print(channel_command_str.replace('^', '\"'))\n",
    "        else:\n",
    "            print(\"Arguments =\", channel_command_str.replace(' ', '____'))\n",
    "            print(\"Queue 1\")\n",
    "    print()\n",
    "\n",
    "if condor: \n",
    "    sys.stdout = original_stdout"
   ]
  },
  {
   "cell_type": "code",
   "execution_count": null,
   "id": "ce2dc217",
   "metadata": {},
   "outputs": [],
   "source": [
    "\n"
   ]
  },
  {
   "cell_type": "code",
   "execution_count": 28,
   "id": "3fec85a5",
   "metadata": {},
   "outputs": [
    {
     "name": "stdout",
     "output_type": "stream",
     "text": [
      "INFO: Opening file \"/afs/cern.ch/user/z/zhangr/work//HHcomb/hh_combination_fw/hh_combination_fw/tutorials/HHH2022/outputs_HHH2022_20220520_with_BR_decorrelation/rescaled/nonres/bbbb/0_kl.root\"\n",
      "INFO: Loaded workspace \"combWS\"\n",
      "INFO: Loaded model config \"ModelConfig\"\n",
      "INFO: Activated binned likelihood attribute for ggf_16_dEta_1_Xhh_1_model\n",
      "INFO: Activated binned likelihood attribute for ggf_16_dEta_1_Xhh_2_model\n",
      "INFO: Activated binned likelihood attribute for ggf_16_dEta_2_Xhh_1_model\n",
      "INFO: Activated binned likelihood attribute for ggf_16_dEta_2_Xhh_2_model\n",
      "INFO: Activated binned likelihood attribute for ggf_16_dEta_3_Xhh_1_model\n",
      "INFO: Activated binned likelihood attribute for ggf_16_dEta_3_Xhh_2_model\n",
      "INFO: Activated binned likelihood attribute for ggf_17_dEta_1_Xhh_1_model\n",
      "INFO: Activated binned likelihood attribute for ggf_17_dEta_1_Xhh_2_model\n",
      "INFO: Activated binned likelihood attribute for ggf_17_dEta_2_Xhh_1_model\n",
      "INFO: Activated binned likelihood attribute for ggf_17_dEta_2_Xhh_2_model\n",
      "INFO: Activated binned likelihood attribute for ggf_17_dEta_3_Xhh_1_model\n",
      "INFO: Activated binned likelihood attribute for ggf_17_dEta_3_Xhh_2_model\n",
      "INFO: Activated binned likelihood attribute for ggf_18_dEta_1_Xhh_1_model\n",
      "INFO: Activated binned likelihood attribute for ggf_18_dEta_1_Xhh_2_model\n",
      "INFO: Activated binned likelihood attribute for ggf_18_dEta_2_Xhh_1_model\n",
      "INFO: Activated binned likelihood attribute for ggf_18_dEta_2_Xhh_2_model\n",
      "INFO: Activated binned likelihood attribute for ggf_18_dEta_3_Xhh_1_model\n",
      "INFO: Activated binned likelihood attribute for ggf_18_dEta_3_Xhh_2_model\n",
      "INFO: Activated binned likelihood attribute for vbf_-1_dEta_1_model\n",
      "INFO: Activated binned likelihood attribute for vbf_-1_dEta_2_model\n",
      "INFO: Loaded model pdf \"simPdf\" from model config\n",
      "INFO: Loaded dataset \"combData\" from workspace\n",
      "INFO: Loaded nuisance parameters from model config\n",
      "INFO: Loaded global observables from model config\n",
      "INFO: Loaded parameters of interest from model config\n",
      "INFO: Loaded observables from model config\n"
     ]
    },
    {
     "ename": "KeyError",
     "evalue": "'nuisance parameter'",
     "output_type": "error",
     "traceback": [
      "\u001b[0;31m---------------------------------------------------------------------------\u001b[0m",
      "\u001b[0;31mKeyError\u001b[0m                                  Traceback (most recent call last)",
      "\u001b[0;32m/cvmfs/sft.cern.ch/lcg/views/LCG_101/x86_64-centos7-gcc8-opt/lib/python3.9/site-packages/pandas/core/indexes/base.py\u001b[0m in \u001b[0;36mget_loc\u001b[0;34m(self, key, method, tolerance)\u001b[0m\n\u001b[1;32m   3079\u001b[0m             \u001b[0;32mtry\u001b[0m\u001b[0;34m:\u001b[0m\u001b[0;34m\u001b[0m\u001b[0;34m\u001b[0m\u001b[0m\n\u001b[0;32m-> 3080\u001b[0;31m                 \u001b[0;32mreturn\u001b[0m \u001b[0mself\u001b[0m\u001b[0;34m.\u001b[0m\u001b[0m_engine\u001b[0m\u001b[0;34m.\u001b[0m\u001b[0mget_loc\u001b[0m\u001b[0;34m(\u001b[0m\u001b[0mcasted_key\u001b[0m\u001b[0;34m)\u001b[0m\u001b[0;34m\u001b[0m\u001b[0;34m\u001b[0m\u001b[0m\n\u001b[0m\u001b[1;32m   3081\u001b[0m             \u001b[0;32mexcept\u001b[0m \u001b[0mKeyError\u001b[0m \u001b[0;32mas\u001b[0m \u001b[0merr\u001b[0m\u001b[0;34m:\u001b[0m\u001b[0;34m\u001b[0m\u001b[0;34m\u001b[0m\u001b[0m\n",
      "\u001b[0;32mpandas/_libs/index.pyx\u001b[0m in \u001b[0;36mpandas._libs.index.IndexEngine.get_loc\u001b[0;34m()\u001b[0m\n",
      "\u001b[0;32mpandas/_libs/index.pyx\u001b[0m in \u001b[0;36mpandas._libs.index.IndexEngine.get_loc\u001b[0;34m()\u001b[0m\n",
      "\u001b[0;32mpandas/_libs/hashtable_class_helper.pxi\u001b[0m in \u001b[0;36mpandas._libs.hashtable.PyObjectHashTable.get_item\u001b[0;34m()\u001b[0m\n",
      "\u001b[0;32mpandas/_libs/hashtable_class_helper.pxi\u001b[0m in \u001b[0;36mpandas._libs.hashtable.PyObjectHashTable.get_item\u001b[0;34m()\u001b[0m\n",
      "\u001b[0;31mKeyError\u001b[0m: 'nuisance parameter'",
      "\nThe above exception was the direct cause of the following exception:\n",
      "\u001b[0;31mKeyError\u001b[0m                                  Traceback (most recent call last)",
      "\u001b[0;32m/tmp/zhangr/ipykernel_20677/2513982680.py\u001b[0m in \u001b[0;36m<module>\u001b[0;34m\u001b[0m\n\u001b[1;32m      3\u001b[0m \u001b[0mmodel\u001b[0m \u001b[0;34m=\u001b[0m \u001b[0mExtendedModel\u001b[0m\u001b[0;34m(\u001b[0m\u001b[0mfile\u001b[0m\u001b[0;34m)\u001b[0m\u001b[0;34m\u001b[0m\u001b[0;34m\u001b[0m\u001b[0m\n\u001b[1;32m      4\u001b[0m \u001b[0mdf\u001b[0m \u001b[0;34m=\u001b[0m \u001b[0mmodel\u001b[0m\u001b[0;34m.\u001b[0m\u001b[0mas_dataframe\u001b[0m\u001b[0;34m(\u001b[0m\u001b[0;34m\"constraint\"\u001b[0m\u001b[0;34m)\u001b[0m\u001b[0;34m\u001b[0m\u001b[0;34m\u001b[0m\u001b[0m\n\u001b[0;32m----> 5\u001b[0;31m \u001b[0mdf\u001b[0m\u001b[0;34m[\u001b[0m\u001b[0mdf\u001b[0m\u001b[0;34m[\u001b[0m\u001b[0;34m\"nuisance parameter\"\u001b[0m\u001b[0;34m]\u001b[0m \u001b[0;34m==\u001b[0m \u001b[0;34m'THEO_BR_Hbb'\u001b[0m\u001b[0;34m]\u001b[0m\u001b[0;34m\u001b[0m\u001b[0;34m\u001b[0m\u001b[0m\n\u001b[0m",
      "\u001b[0;32m/cvmfs/sft.cern.ch/lcg/views/LCG_101/x86_64-centos7-gcc8-opt/lib/python3.9/site-packages/pandas/core/frame.py\u001b[0m in \u001b[0;36m__getitem__\u001b[0;34m(self, key)\u001b[0m\n\u001b[1;32m   3022\u001b[0m             \u001b[0;32mif\u001b[0m \u001b[0mself\u001b[0m\u001b[0;34m.\u001b[0m\u001b[0mcolumns\u001b[0m\u001b[0;34m.\u001b[0m\u001b[0mnlevels\u001b[0m \u001b[0;34m>\u001b[0m \u001b[0;36m1\u001b[0m\u001b[0;34m:\u001b[0m\u001b[0;34m\u001b[0m\u001b[0;34m\u001b[0m\u001b[0m\n\u001b[1;32m   3023\u001b[0m                 \u001b[0;32mreturn\u001b[0m \u001b[0mself\u001b[0m\u001b[0;34m.\u001b[0m\u001b[0m_getitem_multilevel\u001b[0m\u001b[0;34m(\u001b[0m\u001b[0mkey\u001b[0m\u001b[0;34m)\u001b[0m\u001b[0;34m\u001b[0m\u001b[0;34m\u001b[0m\u001b[0m\n\u001b[0;32m-> 3024\u001b[0;31m             \u001b[0mindexer\u001b[0m \u001b[0;34m=\u001b[0m \u001b[0mself\u001b[0m\u001b[0;34m.\u001b[0m\u001b[0mcolumns\u001b[0m\u001b[0;34m.\u001b[0m\u001b[0mget_loc\u001b[0m\u001b[0;34m(\u001b[0m\u001b[0mkey\u001b[0m\u001b[0;34m)\u001b[0m\u001b[0;34m\u001b[0m\u001b[0;34m\u001b[0m\u001b[0m\n\u001b[0m\u001b[1;32m   3025\u001b[0m             \u001b[0;32mif\u001b[0m \u001b[0mis_integer\u001b[0m\u001b[0;34m(\u001b[0m\u001b[0mindexer\u001b[0m\u001b[0;34m)\u001b[0m\u001b[0;34m:\u001b[0m\u001b[0;34m\u001b[0m\u001b[0;34m\u001b[0m\u001b[0m\n\u001b[1;32m   3026\u001b[0m                 \u001b[0mindexer\u001b[0m \u001b[0;34m=\u001b[0m \u001b[0;34m[\u001b[0m\u001b[0mindexer\u001b[0m\u001b[0;34m]\u001b[0m\u001b[0;34m\u001b[0m\u001b[0;34m\u001b[0m\u001b[0m\n",
      "\u001b[0;32m/cvmfs/sft.cern.ch/lcg/views/LCG_101/x86_64-centos7-gcc8-opt/lib/python3.9/site-packages/pandas/core/indexes/base.py\u001b[0m in \u001b[0;36mget_loc\u001b[0;34m(self, key, method, tolerance)\u001b[0m\n\u001b[1;32m   3080\u001b[0m                 \u001b[0;32mreturn\u001b[0m \u001b[0mself\u001b[0m\u001b[0;34m.\u001b[0m\u001b[0m_engine\u001b[0m\u001b[0;34m.\u001b[0m\u001b[0mget_loc\u001b[0m\u001b[0;34m(\u001b[0m\u001b[0mcasted_key\u001b[0m\u001b[0;34m)\u001b[0m\u001b[0;34m\u001b[0m\u001b[0;34m\u001b[0m\u001b[0m\n\u001b[1;32m   3081\u001b[0m             \u001b[0;32mexcept\u001b[0m \u001b[0mKeyError\u001b[0m \u001b[0;32mas\u001b[0m \u001b[0merr\u001b[0m\u001b[0;34m:\u001b[0m\u001b[0;34m\u001b[0m\u001b[0;34m\u001b[0m\u001b[0m\n\u001b[0;32m-> 3082\u001b[0;31m                 \u001b[0;32mraise\u001b[0m \u001b[0mKeyError\u001b[0m\u001b[0;34m(\u001b[0m\u001b[0mkey\u001b[0m\u001b[0;34m)\u001b[0m \u001b[0;32mfrom\u001b[0m \u001b[0merr\u001b[0m\u001b[0;34m\u001b[0m\u001b[0;34m\u001b[0m\u001b[0m\n\u001b[0m\u001b[1;32m   3083\u001b[0m \u001b[0;34m\u001b[0m\u001b[0m\n\u001b[1;32m   3084\u001b[0m         \u001b[0;32mif\u001b[0m \u001b[0mtolerance\u001b[0m \u001b[0;32mis\u001b[0m \u001b[0;32mnot\u001b[0m \u001b[0;32mNone\u001b[0m\u001b[0;34m:\u001b[0m\u001b[0;34m\u001b[0m\u001b[0;34m\u001b[0m\u001b[0m\n",
      "\u001b[0;31mKeyError\u001b[0m: 'nuisance parameter'"
     ]
    }
   ],
   "source": [
    "from quickstats.components import ExtendedModel\n",
    "file='/afs/cern.ch/user/z/zhangr/work//HHcomb/hh_combination_fw/hh_combination_fw/tutorials/HHH2022/outputs_HHH2022_20220520_with_BR_decorrelation/rescaled/nonres/bbbb/0_kl.root'\n",
    "model = ExtendedModel(file)\n",
    "df = model.as_dataframe(\"constraint\")\n"
   ]
  },
  {
   "cell_type": "code",
   "execution_count": 38,
   "id": "0fe9ea3f",
   "metadata": {},
   "outputs": [
    {
     "data": {
      "text/html": [
       "<div>\n",
       "<style scoped>\n",
       "    .dataframe tbody tr th:only-of-type {\n",
       "        vertical-align: middle;\n",
       "    }\n",
       "\n",
       "    .dataframe tbody tr th {\n",
       "        vertical-align: top;\n",
       "    }\n",
       "\n",
       "    .dataframe thead th {\n",
       "        text-align: right;\n",
       "    }\n",
       "</style>\n",
       "<table border=\"1\" class=\"dataframe\">\n",
       "  <thead>\n",
       "    <tr style=\"text-align: right;\">\n",
       "      <th></th>\n",
       "      <th>constraint pdf</th>\n",
       "      <th>nuisance parameters</th>\n",
       "      <th>global observables</th>\n",
       "    </tr>\n",
       "  </thead>\n",
       "  <tbody>\n",
       "    <tr>\n",
       "      <th>90</th>\n",
       "      <td>alpha_THEO_BR_HbbConstraint</td>\n",
       "      <td>alpha_THEO_BR_Hbb</td>\n",
       "      <td>nom_alpha_THEO_BR_Hbb</td>\n",
       "    </tr>\n",
       "  </tbody>\n",
       "</table>\n",
       "</div>"
      ],
      "text/plain": [
       "                 constraint pdf nuisance parameters     global observables\n",
       "90  alpha_THEO_BR_HbbConstraint   alpha_THEO_BR_Hbb  nom_alpha_THEO_BR_Hbb"
      ]
     },
     "execution_count": 38,
     "metadata": {},
     "output_type": "execute_result"
    }
   ],
   "source": [
    "df[df['nuisance parameters'] == 'alpha_THEO_BR_Hbb']"
   ]
  },
  {
   "cell_type": "code",
   "execution_count": 37,
   "id": "70c726f3",
   "metadata": {},
   "outputs": [
    {
     "name": "stdout",
     "output_type": "stream",
     "text": [
      "TheorySig_BR_HiggsDecayWidthTHU_hVV\n",
      "TheorySig_BR_HiggsDecayWidthTHU_hbb\n",
      "TheorySig_BR_HiggsDecayWidthTHU_hgg\n",
      "TheorySig_BR_param_mB\n",
      "TheorySig_BR_param_mC\n",
      "alpha_THEO_BR_Hbb\n"
     ]
    }
   ],
   "source": [
    "for i in df['nuisance parameters']:\n",
    "    if 'BR' in i:\n",
    "        print(i)"
   ]
  },
  {
   "cell_type": "code",
   "execution_count": null,
   "id": "dfcbcb74",
   "metadata": {},
   "outputs": [],
   "source": []
  }
 ],
 "metadata": {
  "kernelspec": {
   "display_name": "Python 3 (ipykernel)",
   "language": "python",
   "name": "python3"
  },
  "language_info": {
   "codemirror_mode": {
    "name": "ipython",
    "version": 3
   },
   "file_extension": ".py",
   "mimetype": "text/x-python",
   "name": "python",
   "nbconvert_exporter": "python",
   "pygments_lexer": "ipython3",
   "version": "3.9.6"
  }
 },
 "nbformat": 4,
 "nbformat_minor": 5
}
